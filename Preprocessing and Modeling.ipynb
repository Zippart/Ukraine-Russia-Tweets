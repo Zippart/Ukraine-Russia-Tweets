{
 "cells": [
  {
   "cell_type": "markdown",
   "id": "8d6037d7-91ed-4956-9ad8-ba790289c5d7",
   "metadata": {
    "jp-MarkdownHeadingCollapsed": true
   },
   "source": [
    "# Unused imports"
   ]
  },
  {
   "cell_type": "code",
   "execution_count": 48,
   "id": "7489cacf-162c-4459-9856-f0badb8aabd2",
   "metadata": {},
   "outputs": [],
   "source": [
    "# might remove\n",
    "# from sklearn.metrics import calinski_harabasz_score"
   ]
  },
  {
   "cell_type": "code",
   "execution_count": 15,
   "id": "2aa0295a-e303-4b4f-8e65-b7c129b705ca",
   "metadata": {},
   "outputs": [],
   "source": [
    "# from gensim.matutils import Dense2Corpus"
   ]
  },
  {
   "cell_type": "code",
   "execution_count": 35,
   "id": "cc930fb3-7d1c-4676-bd8e-9d833030a97b",
   "metadata": {},
   "outputs": [],
   "source": [
    "# import multiprocessing"
   ]
  },
  {
   "cell_type": "code",
   "execution_count": 12,
   "id": "ff0b0a6a-c3e1-4d38-a910-808bb728953c",
   "metadata": {},
   "outputs": [],
   "source": [
    "# from gensim.models import LdaModel"
   ]
  },
  {
   "cell_type": "code",
   "execution_count": 113,
   "id": "8dc99fc0-cdc6-43d9-bfb7-9a70c4c67158",
   "metadata": {},
   "outputs": [],
   "source": [
    "# from sklearn.metrics import silhouette_samples"
   ]
  },
  {
   "cell_type": "code",
   "execution_count": 95,
   "id": "95a4662d-390d-4f8a-a44e-5f54368b8857",
   "metadata": {},
   "outputs": [],
   "source": [
    "# from sklearn.metrics import silhouette_score"
   ]
  },
  {
   "cell_type": "markdown",
   "id": "aef7fb7e-25df-47b3-a524-98343a16d284",
   "metadata": {},
   "source": [
    "# Used imports"
   ]
  },
  {
   "cell_type": "code",
   "execution_count": 53,
   "id": "435a4114-be2a-48ed-bf46-2a9f26d50dab",
   "metadata": {},
   "outputs": [],
   "source": [
    "import pandas as pd\n",
    "import numpy as np"
   ]
  },
  {
   "cell_type": "code",
   "execution_count": 109,
   "id": "f333a9e2-0385-4c56-967f-b2cbd1d9f031",
   "metadata": {},
   "outputs": [],
   "source": [
    "import pdb"
   ]
  },
  {
   "cell_type": "code",
   "execution_count": 4,
   "id": "570b9516-414a-47f2-b4bc-25ce168e5f32",
   "metadata": {},
   "outputs": [],
   "source": [
    "from sklearn.feature_extraction.text import TfidfVectorizer\n",
    "from sklearn.datasets import load_files\n",
    "from sklearn.model_selection import train_test_split"
   ]
  },
  {
   "cell_type": "code",
   "execution_count": 87,
   "id": "456f1f9d-30ab-4891-a06e-5574597808bd",
   "metadata": {},
   "outputs": [],
   "source": [
    "from sklearn.utils import resample"
   ]
  },
  {
   "cell_type": "code",
   "execution_count": 85,
   "id": "b75766ed-a433-4f2b-994b-8c76d0968649",
   "metadata": {},
   "outputs": [],
   "source": [
    "from sklearn.feature_selection import chi2"
   ]
  },
  {
   "cell_type": "code",
   "execution_count": 31,
   "id": "b2ea243f-6eed-4ea5-9ed0-b8231f474317",
   "metadata": {},
   "outputs": [],
   "source": [
    "from sklearn.decomposition import TruncatedSVD\n",
    "import matplotlib.pyplot as plt"
   ]
  },
  {
   "cell_type": "code",
   "execution_count": 23,
   "id": "895355d7-1f3f-4802-877d-b4e52af28688",
   "metadata": {},
   "outputs": [],
   "source": [
    "from gensim.matutils import Sparse2Corpus"
   ]
  },
  {
   "cell_type": "code",
   "execution_count": 20,
   "id": "ea650fb8-bd65-48c3-b1c0-2fa19f34b9ab",
   "metadata": {},
   "outputs": [],
   "source": [
    "from scipy.sparse import csr_matrix"
   ]
  },
  {
   "cell_type": "code",
   "execution_count": 10,
   "id": "dfbbdffe-5660-4d8e-9141-cd1eb498a4ad",
   "metadata": {},
   "outputs": [],
   "source": [
    "from sklearn.preprocessing import Normalizer\n",
    "from sklearn.cluster import KMeans"
   ]
  },
  {
   "cell_type": "code",
   "execution_count": 12,
   "id": "71e00ed5-8839-49fd-b3e4-744edcb18ecc",
   "metadata": {},
   "outputs": [],
   "source": [
    "from tqdm import tqdm"
   ]
  },
  {
   "cell_type": "code",
   "execution_count": 125,
   "id": "d2c2a0f9-6d9a-40c8-b117-5dae7852d0a3",
   "metadata": {},
   "outputs": [],
   "source": [
    "from sklearn.metrics import davies_bouldin_score"
   ]
  },
  {
   "cell_type": "code",
   "execution_count": 14,
   "id": "2c4eebd3-cdc4-455c-9452-c6091b50814e",
   "metadata": {},
   "outputs": [],
   "source": [
    "entity_counts_labels_df = pd.read_csv('entity_counts_labels_df.csv')"
   ]
  },
  {
   "cell_type": "code",
   "execution_count": 15,
   "id": "40084ac0-c772-4928-9ecb-5d0313a5bfe6",
   "metadata": {},
   "outputs": [
    {
     "name": "stderr",
     "output_type": "stream",
     "text": [
      "C:\\Users\\ryanc\\AppData\\Local\\Temp\\ipykernel_38976\\2925272866.py:1: DtypeWarning: Columns (15) have mixed types. Specify dtype option on import or set low_memory=False.\n",
      "  english_tweets = pd.read_csv('english_tweets.csv')\n"
     ]
    }
   ],
   "source": [
    "english_tweets = pd.read_csv('english_tweets.csv')"
   ]
  },
  {
   "cell_type": "markdown",
   "id": "a787e8ca-306c-4908-a887-21a75b2d88bc",
   "metadata": {},
   "source": [
    "https://campus.datacamp.com/courses/introduction-to-natural-language-processing-in-python/simple-topic-identification?ex=13"
   ]
  },
  {
   "cell_type": "markdown",
   "id": "a1e0f85a-0b3c-43c9-b3c4-170a14e2a89e",
   "metadata": {},
   "source": [
    "<!-- \n",
    "In that case, you can use TF-IDF as a preprocessing step for clustering and NER (Named Entity Recognition) models without needing labeled data.\n",
    "\r\n",
    "Since you don't have labeled data, you can simply compute TF-IDF on your tweet data and use the resulting features as input to your clustering or NER model\n",
    "s.\r\n",
    "For clustering, TF-IDF can help group similar tweets together based on their semantic meani\n",
    "ng.\r\n",
    "For NER, TF-IDF can help identify important keywords and phrases in your tweets, which can then be used as input to your NER model to identify entities such as names, locations, and organizati\n",
    "ons.\r\n",
    "So, go ahead and compute TF-IDF on your tweet data, and then use the resulting features as input to your clustering or NER models. No labels requ -->ired!"
   ]
  },
  {
   "cell_type": "code",
   "execution_count": 16,
   "id": "f9128265-eba5-4567-ba40-6fe7c97e7555",
   "metadata": {},
   "outputs": [],
   "source": [
    "# Create a TfidfVectorizer object\n",
    "vectorizer = TfidfVectorizer(stop_words='english')\n",
    "\n",
    "# Fit the vectorizer to the 'text' column and transform it into a matrix\n",
    "tfidf_matrix = vectorizer.fit_transform(english_tweets['text'])"
   ]
  },
  {
   "cell_type": "code",
   "execution_count": 7,
   "id": "0849baf3-2672-4f63-894a-92e3548a3436",
   "metadata": {},
   "outputs": [],
   "source": [
    "X_train, X_test = train_test_split(tfidf_matrix, test_size=0.2, random_state=42)"
   ]
  },
  {
   "cell_type": "code",
   "execution_count": null,
   "id": "ea3dddef-28c7-4e89-b7c9-7e0c28a97422",
   "metadata": {},
   "outputs": [],
   "source": [
    "# X_train, X_test, y_train, y_test = train_test_split(entity_counts_labels_df.data, entity_counts_labels_df.target, test_size=0.2, random_state=42)"
   ]
  },
  {
   "cell_type": "code",
   "execution_count": 10,
   "id": "da20d241-4ab1-4500-b035-4a8dde8371fc",
   "metadata": {},
   "outputs": [
    {
     "data": {
      "text/plain": [
       "<5x10 sparse matrix of type '<class 'numpy.float64'>'\n",
       "\twith 0 stored elements in Compressed Sparse Row format>"
      ]
     },
     "execution_count": 10,
     "metadata": {},
     "output_type": "execute_result"
    }
   ],
   "source": [
    "tfidf_matrix[:5, :10]"
   ]
  },
  {
   "cell_type": "code",
   "execution_count": 11,
   "id": "384c326f-1fb5-4e42-8c1e-13c32f88f436",
   "metadata": {},
   "outputs": [
    {
     "data": {
      "text/plain": [
       "(array([      0,       0,       0, ..., 1048586, 1048586, 1048586]),\n",
       " array([ 28887, 239643, 504995, ..., 396841, 400999, 350159]))"
      ]
     },
     "execution_count": 11,
     "metadata": {},
     "output_type": "execute_result"
    }
   ],
   "source": [
    "tfidf_matrix.nonzero()"
   ]
  },
  {
   "cell_type": "code",
   "execution_count": 22,
   "id": "e5005107-8ba3-40a9-bd52-c17bf5e4b7fc",
   "metadata": {},
   "outputs": [],
   "source": [
    "tfidf_matrix_sparse = csr_matrix(tfidf_matrix)"
   ]
  },
  {
   "cell_type": "code",
   "execution_count": 23,
   "id": "fe9927ec-1827-4ee8-bd75-a1648a442941",
   "metadata": {},
   "outputs": [
    {
     "name": "stderr",
     "output_type": "stream",
     "text": [
      "K-means clustering:   0%|                                                                  | 0/1048587 [00:00<?, ?it/s]c:\\users\\ryanc\\appdata\\local\\programs\\python\\python38\\lib\\site-packages\\sklearn\\cluster\\_kmeans.py:1416: FutureWarning: The default value of `n_init` will change from 10 to 'auto' in 1.4. Set the value of `n_init` explicitly to suppress the warning\n",
      "  super()._check_params_vs_input(X, default_n_init=10)\n",
      "K-means clustering: 100%|█████████████████████████████████████████████████| 1048587/1048587 [01:36<00:00, 10869.10it/s]\n"
     ]
    }
   ],
   "source": [
    "# Normalize the TF-IDF matrix\n",
    "normalizer = Normalizer()\n",
    "normalized_tfidf_matrix = normalizer.fit_transform(tfidf_matrix_sparse)\n",
    "\n",
    "# Determine the number of clusters (k)\n",
    "k = 5  # for example\n",
    "\n",
    "# Apply k-means clustering with tqdm progress bar\n",
    "kmeans = KMeans(n_clusters=k)\n",
    "with tqdm(total=normalized_tfidf_matrix.shape[0], desc=\"K-means clustering\") as pbar:\n",
    "    kmeans.fit(normalized_tfidf_matrix)\n",
    "    pbar.update(normalized_tfidf_matrix.shape[0])\n",
    "\n",
    "# Get the cluster labels\n",
    "labels = kmeans.labels_\n",
    "\n",
    "# Get the cluster centers\n",
    "centers = kmeans.cluster_centers_"
   ]
  },
  {
   "cell_type": "code",
   "execution_count": 33,
   "id": "9f59d819-fa93-4e64-963c-23e96c520059",
   "metadata": {},
   "outputs": [
    {
     "data": {
      "image/png": "[encoded data removed]",
      "text/plain": [
       "<Figure size 640x480 with 2 Axes>"
      ]
     },
     "metadata": {},
     "output_type": "display_data"
    }
   ],
   "source": [
    "# Reduce dimensionality using TruncatedSVD\n",
    "tsvd = TruncatedSVD(n_components=2)\n",
    "reduced_data = tsvd.fit_transform(normalized_tfidf_matrix)\n",
    "\n",
    "# Plot the clusters\n",
    "plt.scatter(reduced_data[:, 0], reduced_data[:, 1], c=labels)\n",
    "plt.scatter(centers[:, 0], centers[:, 1], marker='*', s=200, c='red')\n",
    "plt.colorbar()\n",
    "plt.show()"
   ]
  },
  {
   "cell_type": "code",
   "execution_count": 24,
   "id": "f2a8e5f2-e7f2-4269-991a-551ff49783d6",
   "metadata": {},
   "outputs": [
    {
     "data": {
      "text/plain": [
       "array([1, 2, 1, ..., 3, 1, 1])"
      ]
     },
     "execution_count": 24,
     "metadata": {},
     "output_type": "execute_result"
    }
   ],
   "source": [
    "labels"
   ]
  },
  {
   "cell_type": "code",
   "execution_count": 25,
   "id": "ce39fb96-c8c3-41b7-8ca3-6b0172090b49",
   "metadata": {},
   "outputs": [
    {
     "data": {
      "text/plain": [
       "array([[0.00000000e+00, 1.08344640e-05, 0.00000000e+00, ...,\n",
       "        0.00000000e+00, 0.00000000e+00, 0.00000000e+00],\n",
       "       [5.67869461e-04, 3.28431549e-03, 9.54973576e-06, ...,\n",
       "        3.72654980e-07, 9.20436327e-07, 9.38877372e-07],\n",
       "       [1.10135510e-03, 6.34085812e-03, 1.34956948e-04, ...,\n",
       "        0.00000000e+00, 0.00000000e+00, 2.64950815e-06],\n",
       "       [3.16337590e-04, 3.31837873e-03, 0.00000000e+00, ...,\n",
       "        0.00000000e+00, 0.00000000e+00, 0.00000000e+00],\n",
       "       [0.00000000e+00, 1.30544475e-05, 0.00000000e+00, ...,\n",
       "        0.00000000e+00, 0.00000000e+00, 0.00000000e+00]])"
      ]
     },
     "execution_count": 25,
     "metadata": {},
     "output_type": "execute_result"
    }
   ],
   "source": [
    "centers"
   ]
  },
  {
   "cell_type": "code",
   "execution_count": 134,
   "id": "919a6645-6939-421e-b1f2-d0ab606c0a33",
   "metadata": {},
   "outputs": [
    {
     "data": {
      "text/plain": [
       "[1028486.6803195885,\n",
       " 1026131.4158610171,\n",
       " 1024532.8922546656,\n",
       " 1022016.6932476986,\n",
       " 1020424.0322632578,\n",
       " 1018669.2669660578,\n",
       " 1016678.4647836933,\n",
       " 1014778.2759249344,\n",
       " 1013987.6631349096,\n",
       " 1010630.4209661108,\n",
       " 1009407.3711919315,\n",
       " 1008648.8277516795,\n",
       " 1007775.9491232629]"
      ]
     },
     "execution_count": 134,
     "metadata": {},
     "output_type": "execute_result"
    }
   ],
   "source": [
    "wcss"
   ]
  },
  {
   "cell_type": "markdown",
   "id": "8ab215c9-0d22-4e4c-a139-460b5ed2002e",
   "metadata": {},
   "source": [
    "Finding the best kmeans"
   ]
  },
  {
   "cell_type": "markdown",
   "id": "1d0f8d47-471d-41f1-ba18-5edd201c7d93",
   "metadata": {},
   "source": [
    "Finding the best kmeans"
   ]
  },
  {
   "cell_type": "code",
   "execution_count": 133,
   "id": "b7e8f3b7-a013-4233-bbd3-b0b4eb4a14e1",
   "metadata": {},
   "outputs": [
    {
     "name": "stderr",
     "output_type": "stream",
     "text": [
      "K-means clustering:   0%|                                                                       | 0/13 [00:00<?, ?it/s]\n",
      "K-means clustering:   0%|                                                                  | 0/1048587 [00:00<?, ?it/s]\u001b[A\n",
      "K-means clustering: 100%|█████████████████████████████████████████████████| 1048587/1048587 [00:48<00:00, 21474.66it/s]\u001b[A\n",
      "\n",
      "K-means clustering:   0%|                                                                  | 0/1048587 [00:00<?, ?it/s]\u001b[A\n",
      "K-means clustering: 100%|█████████████████████████████████████████████████| 1048587/1048587 [00:56<00:00, 18577.83it/s]\u001b[A\n",
      "\n",
      "K-means clustering:   0%|                                                                  | 0/1048587 [00:00<?, ?it/s]\u001b[A\n",
      "K-means clustering: 100%|█████████████████████████████████████████████████| 1048587/1048587 [01:36<00:00, 10870.43it/s]\u001b[A\n",
      "\n",
      "K-means clustering:   0%|                                                                  | 0/1048587 [00:00<?, ?it/s]\u001b[A\n",
      "K-means clustering: 100%|██████████████████████████████████████████████████| 1048587/1048587 [02:20<00:00, 7481.40it/s]\u001b[A\n",
      "\n",
      "K-means clustering:   0%|                                                                  | 0/1048587 [00:00<?, ?it/s]\u001b[A\n",
      "K-means clustering: 100%|██████████████████████████████████████████████████| 1048587/1048587 [02:35<00:00, 6729.97it/s]\u001b[A\n",
      "\n",
      "K-means clustering:   0%|                                                                  | 0/1048587 [00:00<?, ?it/s]\u001b[A\n",
      "K-means clustering: 100%|██████████████████████████████████████████████████| 1048587/1048587 [02:31<00:00, 6923.74it/s]\u001b[A\n",
      "\n",
      "K-means clustering:   0%|                                                                  | 0/1048587 [00:00<?, ?it/s]\u001b[A\n",
      "K-means clustering: 100%|██████████████████████████████████████████████████| 1048587/1048587 [02:33<00:00, 6822.02it/s]\u001b[A\n",
      "\n",
      "K-means clustering:   0%|                                                                  | 0/1048587 [00:00<?, ?it/s]\u001b[A\n",
      "K-means clustering: 100%|██████████████████████████████████████████████████| 1048587/1048587 [02:47<00:00, 6262.44it/s]\u001b[A\n",
      "\n",
      "K-means clustering:   0%|                                                                  | 0/1048587 [00:00<?, ?it/s]\u001b[A\n",
      "K-means clustering: 100%|██████████████████████████████████████████████████| 1048587/1048587 [03:04<00:00, 5698.79it/s]\u001b[A\n",
      "\n",
      "K-means clustering:   0%|                                                                  | 0/1048587 [00:00<?, ?it/s]\u001b[A\n",
      "K-means clustering: 100%|██████████████████████████████████████████████████| 1048587/1048587 [03:22<00:00, 5165.69it/s]\u001b[A\n",
      "\n",
      "K-means clustering:   0%|                                                                  | 0/1048587 [00:00<?, ?it/s]\u001b[A\n",
      "K-means clustering: 100%|██████████████████████████████████████████████████| 1048587/1048587 [04:20<00:00, 4019.48it/s]\u001b[A\n",
      "\n",
      "K-means clustering:   0%|                                                                  | 0/1048587 [00:00<?, ?it/s]\u001b[A\n",
      "K-means clustering: 100%|██████████████████████████████████████████████████| 1048587/1048587 [04:18<00:00, 4050.18it/s]\u001b[A\n",
      "\n",
      "K-means clustering:   0%|                                                                  | 0/1048587 [00:00<?, ?it/s]\u001b[A\n",
      "K-means clustering: 100%|██████████████████████████████████████████████████| 1048587/1048587 [03:56<00:00, 4427.17it/s]\u001b[A\n",
      "K-means clustering:   0%|                                                                       | 0/13 [35:13<?, ?it/s]\n"
     ]
    }
   ],
   "source": [
    "# finding the best kmeans\n",
    "\n",
    "wcss = []\n",
    "with tqdm(total=13, desc=\"K-means clustering\") as pbar:\n",
    "    for k in range(2, 15):\n",
    "        kmeans = KMeans(n_clusters=k, init='k-means++', max_iter=300, n_init=10)\n",
    "        with tqdm(total=normalized_tfidf_matrix.shape[0], desc=\"K-means clustering\") as pbar:    \n",
    "            kmeans.fit(normalized_tfidf_matrix)\n",
    "            wcss.append(kmeans.inertia_)\n",
    "            pbar.update(normalized_tfidf_matrix.shape[0])"
   ]
  },
  {
   "cell_type": "code",
   "execution_count": 137,
   "id": "56281ef1-7548-4d01-bc1b-402cd09db539",
   "metadata": {},
   "outputs": [],
   "source": [
    "# results:\n",
    "# [1028486.6803195885,\n",
    " # 1026131.4158610171,\n",
    " # 1024532.8922546656,\n",
    " # 1022016.6932476986,\n",
    " # 1020424.0322632578,\n",
    " # 1018669.2669660578,\n",
    " # 1016678.4647836933,\n",
    " # 1014778.2759249344,\n",
    " # 1013987.6631349096,\n",
    " # 1010630.4209661108,\n",
    " # 1009407.3711919315,\n",
    " # 1008648.8277516795,\n",
    " # 1007775.9491232629]"
   ]
  },
  {
   "cell_type": "code",
   "execution_count": 140,
   "id": "2d73d871-c2ad-497f-a4ec-424a933f7a93",
   "metadata": {},
   "outputs": [
    {
     "data": {
      "image/png": "[encoded data removed]",
      "text/plain": [
       "<Figure size 640x480 with 1 Axes>"
      ]
     },
     "metadata": {},
     "output_type": "display_data"
    }
   ],
   "source": [
    "plt.plot(range(2,15), wcss, marker='o')\n",
    "plt.show()"
   ]
  },
  {
   "cell_type": "markdown",
   "id": "25a852bd-7be5-42fb-afa4-a43814d7e855",
   "metadata": {},
   "source": [
    "Notice the drop from 10-11. Elbow method is showing me 11 fold kmeans is best."
   ]
  },
  {
   "cell_type": "code",
   "execution_count": 141,
   "id": "60fa6c8c-2f83-46b7-98b7-f21e0f501fa6",
   "metadata": {},
   "outputs": [],
   "source": [
    "# Normalize the TF-IDF matrix\n",
    "normalizer = Normalizer()\n",
    "normalized_tfidf_matrix = normalizer.fit_transform(tfidf_matrix_sparse)"
   ]
  },
  {
   "cell_type": "code",
   "execution_count": 142,
   "id": "2f447516-0ca7-47f5-b572-713936cedeeb",
   "metadata": {},
   "outputs": [
    {
     "name": "stderr",
     "output_type": "stream",
     "text": [
      "K-means clustering:   0%|                                                                  | 0/1048587 [00:00<?, ?it/s]c:\\users\\ryanc\\appdata\\local\\programs\\python\\python38\\lib\\site-packages\\sklearn\\cluster\\_kmeans.py:1416: FutureWarning: The default value of `n_init` will change from 10 to 'auto' in 1.4. Set the value of `n_init` explicitly to suppress the warning\n",
      "  super()._check_params_vs_input(X, default_n_init=10)\n",
      "K-means clustering: 100%|██████████████████████████████████████████████████| 1048587/1048587 [03:22<00:00, 5174.24it/s]\n"
     ]
    }
   ],
   "source": [
    "k = 11\n",
    "\n",
    "# Apply k-means clustering with tqdm progress bar\n",
    "kmeans2 = KMeans(n_clusters=k)\n",
    "with tqdm(total=normalized_tfidf_matrix.shape[0], desc=\"K-means clustering\") as pbar:\n",
    "    kmeans2.fit(normalized_tfidf_matrix)\n",
    "    pbar.update(normalized_tfidf_matrix.shape[0])"
   ]
  },
  {
   "cell_type": "code",
   "execution_count": 143,
   "id": "6c9ba039-f9ef-4dfd-ad42-f9fe3cfd1b77",
   "metadata": {},
   "outputs": [
    {
     "data": {
      "image/png": "[encoded data removed]",
      "text/plain": [
       "<Figure size 640x480 with 2 Axes>"
      ]
     },
     "metadata": {},
     "output_type": "display_data"
    }
   ],
   "source": [
    "# Reduce dimensionality using TruncatedSVD\n",
    "tsvd = TruncatedSVD(n_components=2)\n",
    "reduced_data = tsvd.fit_transform(normalized_tfidf_matrix)\n",
    "\n",
    "# Plot the clusters\n",
    "plt.scatter(reduced_data[:, 0], reduced_data[:, 1], c=labels)\n",
    "plt.scatter(centers[:, 0], centers[:, 1], marker='*', s=200, c='red')\n",
    "plt.colorbar()\n",
    "plt.show()"
   ]
  },
  {
   "cell_type": "code",
   "execution_count": 144,
   "id": "9357cff1-cf44-4095-8eac-81af86ecb07b",
   "metadata": {},
   "outputs": [],
   "source": [
    "# Get the cluster labels\n",
    "labels2 = kmeans2.labels_\n",
    "\n",
    "# Get the cluster centers\n",
    "centers2 = kmeans2.cluster_centers_"
   ]
  },
  {
   "cell_type": "code",
   "execution_count": 145,
   "id": "eebfe3d8-7fc9-405e-beec-529041cb4a1a",
   "metadata": {},
   "outputs": [
    {
     "data": {
      "text/html": [
       "<div>\n",
       "<style scoped>\n",
       "    .dataframe tbody tr th:only-of-type {\n",
       "        vertical-align: middle;\n",
       "    }\n",
       "\n",
       "    .dataframe tbody tr th {\n",
       "        vertical-align: top;\n",
       "    }\n",
       "\n",
       "    .dataframe thead th {\n",
       "        text-align: right;\n",
       "    }\n",
       "</style>\n",
       "<table border=\"1\" class=\"dataframe\">\n",
       "  <thead>\n",
       "    <tr style=\"text-align: right;\">\n",
       "      <th></th>\n",
       "      <th>Cluster</th>\n",
       "      <th>Tweet</th>\n",
       "      <th>Row Number</th>\n",
       "    </tr>\n",
       "  </thead>\n",
       "  <tbody>\n",
       "    <tr>\n",
       "      <th>0</th>\n",
       "      <td>7</td>\n",
       "      <td>Ukrainians gathering in Warsaw, Poland chantin...</td>\n",
       "      <td>0</td>\n",
       "    </tr>\n",
       "    <tr>\n",
       "      <th>1</th>\n",
       "      <td>6</td>\n",
       "      <td>Ukrainian citizens destroy 2 Russian tanks wit...</td>\n",
       "      <td>1</td>\n",
       "    </tr>\n",
       "    <tr>\n",
       "      <th>2</th>\n",
       "      <td>5</td>\n",
       "      <td>#WritingCommunity #writing #amwriting #poem #p...</td>\n",
       "      <td>2</td>\n",
       "    </tr>\n",
       "    <tr>\n",
       "      <th>3</th>\n",
       "      <td>7</td>\n",
       "      <td>@DaveKeating @dougf24 @whilderbrandt @joekeen9...</td>\n",
       "      <td>3</td>\n",
       "    </tr>\n",
       "    <tr>\n",
       "      <th>4</th>\n",
       "      <td>7</td>\n",
       "      <td>A reminder for the Texas Trumpers:\\n\\n#Ukraine...</td>\n",
       "      <td>4</td>\n",
       "    </tr>\n",
       "  </tbody>\n",
       "</table>\n",
       "</div>"
      ],
      "text/plain": [
       "   Cluster                                              Tweet  Row Number\n",
       "0        7  Ukrainians gathering in Warsaw, Poland chantin...           0\n",
       "1        6  Ukrainian citizens destroy 2 Russian tanks wit...           1\n",
       "2        5  #WritingCommunity #writing #amwriting #poem #p...           2\n",
       "3        7  @DaveKeating @dougf24 @whilderbrandt @joekeen9...           3\n",
       "4        7  A reminder for the Texas Trumpers:\\n\\n#Ukraine...           4"
      ]
     },
     "execution_count": 145,
     "metadata": {},
     "output_type": "execute_result"
    }
   ],
   "source": [
    "# second cluster dataframe, 11 kmeans\n",
    "\n",
    "# Create a dataframe with cluster labels, tweet texts, and row numbers\n",
    "cluster_df2 = pd.DataFrame({\n",
    "    'Cluster': labels2,\n",
    "    'Tweet': english_tweets['text'],\n",
    "    'Row Number': range(len(english_tweets))\n",
    "})\n",
    "\n",
    "# Print the dataframe\n",
    "cluster_df2.head()"
   ]
  },
  {
   "cell_type": "code",
   "execution_count": 147,
   "id": "9b1b92f7-38ec-40c6-a5b1-617163f521f3",
   "metadata": {},
   "outputs": [
    {
     "name": "stderr",
     "output_type": "stream",
     "text": [
      "1053642samples [00:00, 7195708.68samples/s]                                                                            "
     ]
    },
    {
     "name": "stdout",
     "output_type": "stream",
     "text": [
      "Davies-Bouldin Index: 9.096\n"
     ]
    },
    {
     "name": "stderr",
     "output_type": "stream",
     "text": [
      "\n"
     ]
    }
   ],
   "source": [
    "dbi = davies_bouldin_score(reduced_data, labels2)\n",
    "\n",
    "with tqdm(total=len(reduced_data), unit='samples') as pbar:\n",
    "    for i in range(len(reduced_data)):\n",
    "        # compute DBI for current sample\n",
    "        # ...\n",
    "        # update progress bar every 0.5%\n",
    "        if i % int(len(reduced_data) * 0.005) == 0:\n",
    "            pbar.update(int(len(reduced_data) * 0.005))\n",
    "\n",
    "print(f\"Davies-Bouldin Index: {dbi:.3f}\")"
   ]
  },
  {
   "cell_type": "code",
   "execution_count": 148,
   "id": "087fc64b-e31c-4ce5-96a4-aa99b11de5b0",
   "metadata": {},
   "outputs": [
    {
     "data": {
      "text/plain": [
       "numpy.ndarray"
      ]
     },
     "execution_count": 148,
     "metadata": {},
     "output_type": "execute_result"
    }
   ],
   "source": [
    "type(reduced_data)"
   ]
  },
  {
   "cell_type": "markdown",
   "id": "11073189-1407-484c-9145-e4544379e7d2",
   "metadata": {},
   "source": [
    "## Just saving stuff as pickles and csvs"
   ]
  },
  {
   "cell_type": "code",
   "execution_count": 101,
   "id": "0943c0be-8ef3-47c9-84fe-de3f49b918ac",
   "metadata": {},
   "outputs": [],
   "source": [
    "# import joblib"
   ]
  },
  {
   "cell_type": "code",
   "execution_count": 26,
   "id": "d52df666-4745-41c6-8a4b-44036ddaa4cb",
   "metadata": {},
   "outputs": [],
   "source": [
    "# import pickle"
   ]
  },
  {
   "cell_type": "code",
   "execution_count": 146,
   "id": "14558ad3-13f4-49c4-826c-d7500a21e922",
   "metadata": {},
   "outputs": [],
   "source": [
    "# cluster_df2.to_csv('cluster_df2.csv', index=False)"
   ]
  },
  {
   "cell_type": "code",
   "execution_count": 149,
   "id": "dcbbeeb6-c361-4c17-ad68-1b9d5e4203bf",
   "metadata": {},
   "outputs": [],
   "source": [
    "# with open('reduced_data.pkl', 'wb') as f:\n",
    "#     pickle.dump(reduced_data, f)"
   ]
  },
  {
   "cell_type": "code",
   "execution_count": 28,
   "id": "89417395-93d6-485e-a0e7-7b8879b74630",
   "metadata": {},
   "outputs": [],
   "source": [
    "# with open('k_means_labels.pkl', 'wb') as f:\n",
    "#     pickle.dump(labels, f)"
   ]
  },
  {
   "cell_type": "code",
   "execution_count": 27,
   "id": "86951537-4733-4321-9617-32b5b9c6ce0c",
   "metadata": {},
   "outputs": [],
   "source": [
    "# with open('k_means_centers.pkl', 'wb') as f:\n",
    "#     pickle.dump(centers, f)"
   ]
  },
  {
   "cell_type": "code",
   "execution_count": 96,
   "id": "c909693f-1234-421b-a0aa-d4e6a876412e",
   "metadata": {},
   "outputs": [],
   "source": [
    "# cluster_df.to_csv('cluster_df.csv', index=False)"
   ]
  },
  {
   "cell_type": "code",
   "execution_count": 102,
   "id": "8c198767-7ec6-4756-b31b-059e9bbcc2a4",
   "metadata": {},
   "outputs": [
    {
     "data": {
      "text/plain": [
       "['kmeans_model.pkl']"
      ]
     },
     "execution_count": 102,
     "metadata": {},
     "output_type": "execute_result"
    }
   ],
   "source": [
    "# joblib.dump(kmeans, 'kmeans_model.pkl')"
   ]
  },
  {
   "cell_type": "code",
   "execution_count": 108,
   "id": "b9b87788-66f9-4385-842a-d7df275a4529",
   "metadata": {},
   "outputs": [],
   "source": [
    "# =======\n",
    "# Scrap\n",
    "# =======\n",
    "\n",
    "# luster_entities = {}\n",
    "# for i, label in enumerate(labels):\n",
    "#     if label not in cluster_entities:\n",
    "#         cluster_entities[label] = []\n",
    "#     cluster_entities[label].append(english_tweets.iloc[i]['text'][:50])\n",
    "#     if len(cluster_entities[label]) >= 10:  # print 10 examples per cluster\n",
    "#         break\n",
    "\n",
    "# for label, tweet_texts in cluster_entities.items():\n",
    "#     print(f'Cluster {label}:')\n",
    "#     for tweet in tweet_texts:\n",
    "#         print(f'  {tweet}')"
   ]
  },
  {
   "cell_type": "markdown",
   "id": "93d55c1b-9f0f-484d-9d04-51c25fd83ade",
   "metadata": {},
   "source": [
    "## Older clusters (5 kmeans)"
   ]
  },
  {
   "cell_type": "code",
   "execution_count": 37,
   "id": "e9af8c12-5d58-4dd2-afea-bec7ceb43f33",
   "metadata": {},
   "outputs": [
    {
     "data": {
      "text/html": [
       "<div>\n",
       "<style scoped>\n",
       "    .dataframe tbody tr th:only-of-type {\n",
       "        vertical-align: middle;\n",
       "    }\n",
       "\n",
       "    .dataframe tbody tr th {\n",
       "        vertical-align: top;\n",
       "    }\n",
       "\n",
       "    .dataframe thead th {\n",
       "        text-align: right;\n",
       "    }\n",
       "</style>\n",
       "<table border=\"1\" class=\"dataframe\">\n",
       "  <thead>\n",
       "    <tr style=\"text-align: right;\">\n",
       "      <th></th>\n",
       "      <th>Cluster</th>\n",
       "      <th>Tweet</th>\n",
       "      <th>Row Number</th>\n",
       "    </tr>\n",
       "  </thead>\n",
       "  <tbody>\n",
       "    <tr>\n",
       "      <th>0</th>\n",
       "      <td>1</td>\n",
       "      <td>Ukrainians gathering in Warsaw, Poland chantin...</td>\n",
       "      <td>0</td>\n",
       "    </tr>\n",
       "    <tr>\n",
       "      <th>1</th>\n",
       "      <td>2</td>\n",
       "      <td>Ukrainian citizens destroy 2 Russian tanks wit...</td>\n",
       "      <td>1</td>\n",
       "    </tr>\n",
       "    <tr>\n",
       "      <th>2</th>\n",
       "      <td>1</td>\n",
       "      <td>#WritingCommunity #writing #amwriting #poem #p...</td>\n",
       "      <td>2</td>\n",
       "    </tr>\n",
       "    <tr>\n",
       "      <th>3</th>\n",
       "      <td>1</td>\n",
       "      <td>@DaveKeating @dougf24 @whilderbrandt @joekeen9...</td>\n",
       "      <td>3</td>\n",
       "    </tr>\n",
       "    <tr>\n",
       "      <th>4</th>\n",
       "      <td>1</td>\n",
       "      <td>A reminder for the Texas Trumpers:\\n\\n#Ukraine...</td>\n",
       "      <td>4</td>\n",
       "    </tr>\n",
       "  </tbody>\n",
       "</table>\n",
       "</div>"
      ],
      "text/plain": [
       "   Cluster                                              Tweet  Row Number\n",
       "0        1  Ukrainians gathering in Warsaw, Poland chantin...           0\n",
       "1        2  Ukrainian citizens destroy 2 Russian tanks wit...           1\n",
       "2        1  #WritingCommunity #writing #amwriting #poem #p...           2\n",
       "3        1  @DaveKeating @dougf24 @whilderbrandt @joekeen9...           3\n",
       "4        1  A reminder for the Texas Trumpers:\\n\\n#Ukraine...           4"
      ]
     },
     "execution_count": 37,
     "metadata": {},
     "output_type": "execute_result"
    }
   ],
   "source": [
    "# Create a dataframe with cluster labels, tweet texts, and row numbers\n",
    "cluster_df = pd.DataFrame({\n",
    "    'Cluster': labels,\n",
    "    'Tweet': english_tweets['text'],\n",
    "    'Row Number': range(len(english_tweets))\n",
    "})\n",
    "\n",
    "# Print the dataframe\n",
    "cluster_df.head()"
   ]
  },
  {
   "cell_type": "code",
   "execution_count": 39,
   "id": "5768f1fe-d44c-4f9f-9708-17b2adb83398",
   "metadata": {},
   "outputs": [
    {
     "data": {
      "text/plain": [
       "Cluster\n",
       "1    676440\n",
       "2    207998\n",
       "3    135440\n",
       "4     14993\n",
       "0     13716\n",
       "Name: count, dtype: int64"
      ]
     },
     "execution_count": 39,
     "metadata": {},
     "output_type": "execute_result"
    }
   ],
   "source": [
    "cluster_df.Cluster.value_counts()"
   ]
  },
  {
   "cell_type": "markdown",
   "id": "0231bc85-443d-4805-8ab9-1f0ba558b7c5",
   "metadata": {},
   "source": [
    "Here are my clusters from tf idf and clustering."
   ]
  },
  {
   "cell_type": "code",
   "execution_count": 43,
   "id": "d88923df-c8a9-4d51-ba36-9780963e1cd2",
   "metadata": {},
   "outputs": [
    {
     "data": {
      "text/html": [
       "<div>\n",
       "<style scoped>\n",
       "    .dataframe tbody tr th:only-of-type {\n",
       "        vertical-align: middle;\n",
       "    }\n",
       "\n",
       "    .dataframe tbody tr th {\n",
       "        vertical-align: top;\n",
       "    }\n",
       "\n",
       "    .dataframe thead th {\n",
       "        text-align: right;\n",
       "    }\n",
       "</style>\n",
       "<table border=\"1\" class=\"dataframe\">\n",
       "  <thead>\n",
       "    <tr style=\"text-align: right;\">\n",
       "      <th></th>\n",
       "      <th>Cluster</th>\n",
       "      <th>Tweet</th>\n",
       "      <th>Row Number</th>\n",
       "    </tr>\n",
       "  </thead>\n",
       "  <tbody>\n",
       "    <tr>\n",
       "      <th>42</th>\n",
       "      <td>0</td>\n",
       "      <td>.@ZelenskyyUa's tv address to the Russian (!) ...</td>\n",
       "      <td>42</td>\n",
       "    </tr>\n",
       "    <tr>\n",
       "      <th>45</th>\n",
       "      <td>0</td>\n",
       "      <td>.@ZelenskyyUa's tv address to the Russian (!) ...</td>\n",
       "      <td>45</td>\n",
       "    </tr>\n",
       "    <tr>\n",
       "      <th>75</th>\n",
       "      <td>0</td>\n",
       "      <td>.@ZelenskyyUa's tv address to the Russian (!) ...</td>\n",
       "      <td>75</td>\n",
       "    </tr>\n",
       "    <tr>\n",
       "      <th>124</th>\n",
       "      <td>0</td>\n",
       "      <td>.@ZelenskyyUa's tv address to the Russian (!) ...</td>\n",
       "      <td>124</td>\n",
       "    </tr>\n",
       "    <tr>\n",
       "      <th>224</th>\n",
       "      <td>0</td>\n",
       "      <td>.@ZelenskyyUa's tv address to the Russian (!) ...</td>\n",
       "      <td>224</td>\n",
       "    </tr>\n",
       "  </tbody>\n",
       "</table>\n",
       "</div>"
      ],
      "text/plain": [
       "     Cluster                                              Tweet  Row Number\n",
       "42         0  .@ZelenskyyUa's tv address to the Russian (!) ...          42\n",
       "45         0  .@ZelenskyyUa's tv address to the Russian (!) ...          45\n",
       "75         0  .@ZelenskyyUa's tv address to the Russian (!) ...          75\n",
       "124        0  .@ZelenskyyUa's tv address to the Russian (!) ...         124\n",
       "224        0  .@ZelenskyyUa's tv address to the Russian (!) ...         224"
      ]
     },
     "execution_count": 43,
     "metadata": {},
     "output_type": "execute_result"
    }
   ],
   "source": [
    "cluster_df[cluster_df.Cluster == 0].head()"
   ]
  },
  {
   "cell_type": "code",
   "execution_count": 44,
   "id": "da93c3be-25a4-49fc-bf89-3c9b00add456",
   "metadata": {},
   "outputs": [
    {
     "data": {
      "text/html": [
       "<div>\n",
       "<style scoped>\n",
       "    .dataframe tbody tr th:only-of-type {\n",
       "        vertical-align: middle;\n",
       "    }\n",
       "\n",
       "    .dataframe tbody tr th {\n",
       "        vertical-align: top;\n",
       "    }\n",
       "\n",
       "    .dataframe thead th {\n",
       "        text-align: right;\n",
       "    }\n",
       "</style>\n",
       "<table border=\"1\" class=\"dataframe\">\n",
       "  <thead>\n",
       "    <tr style=\"text-align: right;\">\n",
       "      <th></th>\n",
       "      <th>Cluster</th>\n",
       "      <th>Tweet</th>\n",
       "      <th>Row Number</th>\n",
       "    </tr>\n",
       "  </thead>\n",
       "  <tbody>\n",
       "    <tr>\n",
       "      <th>0</th>\n",
       "      <td>1</td>\n",
       "      <td>Ukrainians gathering in Warsaw, Poland chantin...</td>\n",
       "      <td>0</td>\n",
       "    </tr>\n",
       "    <tr>\n",
       "      <th>2</th>\n",
       "      <td>1</td>\n",
       "      <td>#WritingCommunity #writing #amwriting #poem #p...</td>\n",
       "      <td>2</td>\n",
       "    </tr>\n",
       "    <tr>\n",
       "      <th>3</th>\n",
       "      <td>1</td>\n",
       "      <td>@DaveKeating @dougf24 @whilderbrandt @joekeen9...</td>\n",
       "      <td>3</td>\n",
       "    </tr>\n",
       "    <tr>\n",
       "      <th>4</th>\n",
       "      <td>1</td>\n",
       "      <td>A reminder for the Texas Trumpers:\\n\\n#Ukraine...</td>\n",
       "      <td>4</td>\n",
       "    </tr>\n",
       "    <tr>\n",
       "      <th>5</th>\n",
       "      <td>1</td>\n",
       "      <td>#Poland now refusing to play next month's #Wor...</td>\n",
       "      <td>5</td>\n",
       "    </tr>\n",
       "  </tbody>\n",
       "</table>\n",
       "</div>"
      ],
      "text/plain": [
       "   Cluster                                              Tweet  Row Number\n",
       "0        1  Ukrainians gathering in Warsaw, Poland chantin...           0\n",
       "2        1  #WritingCommunity #writing #amwriting #poem #p...           2\n",
       "3        1  @DaveKeating @dougf24 @whilderbrandt @joekeen9...           3\n",
       "4        1  A reminder for the Texas Trumpers:\\n\\n#Ukraine...           4\n",
       "5        1  #Poland now refusing to play next month's #Wor...           5"
      ]
     },
     "execution_count": 44,
     "metadata": {},
     "output_type": "execute_result"
    }
   ],
   "source": [
    "cluster_df[cluster_df.Cluster == 1].head()"
   ]
  },
  {
   "cell_type": "code",
   "execution_count": 45,
   "id": "e8c91e59-8566-417e-b29f-a25e4e747e41",
   "metadata": {},
   "outputs": [
    {
     "data": {
      "text/html": [
       "<div>\n",
       "<style scoped>\n",
       "    .dataframe tbody tr th:only-of-type {\n",
       "        vertical-align: middle;\n",
       "    }\n",
       "\n",
       "    .dataframe tbody tr th {\n",
       "        vertical-align: top;\n",
       "    }\n",
       "\n",
       "    .dataframe thead th {\n",
       "        text-align: right;\n",
       "    }\n",
       "</style>\n",
       "<table border=\"1\" class=\"dataframe\">\n",
       "  <thead>\n",
       "    <tr style=\"text-align: right;\">\n",
       "      <th></th>\n",
       "      <th>Cluster</th>\n",
       "      <th>Tweet</th>\n",
       "      <th>Row Number</th>\n",
       "    </tr>\n",
       "  </thead>\n",
       "  <tbody>\n",
       "    <tr>\n",
       "      <th>1</th>\n",
       "      <td>2</td>\n",
       "      <td>Ukrainian citizens destroy 2 Russian tanks wit...</td>\n",
       "      <td>1</td>\n",
       "    </tr>\n",
       "    <tr>\n",
       "      <th>7</th>\n",
       "      <td>2</td>\n",
       "      <td>Ukrainian citizens destroy 2 Russian tanks wit...</td>\n",
       "      <td>7</td>\n",
       "    </tr>\n",
       "    <tr>\n",
       "      <th>15</th>\n",
       "      <td>2</td>\n",
       "      <td>Vasylkiv right now.\\nA local oil terminal has ...</td>\n",
       "      <td>15</td>\n",
       "    </tr>\n",
       "    <tr>\n",
       "      <th>27</th>\n",
       "      <td>2</td>\n",
       "      <td>#Ukraine air defence has downed a russian IL-7...</td>\n",
       "      <td>27</td>\n",
       "    </tr>\n",
       "    <tr>\n",
       "      <th>29</th>\n",
       "      <td>2</td>\n",
       "      <td>#Russian jets shooting at #Ukraine civilians. ...</td>\n",
       "      <td>29</td>\n",
       "    </tr>\n",
       "  </tbody>\n",
       "</table>\n",
       "</div>"
      ],
      "text/plain": [
       "    Cluster                                              Tweet  Row Number\n",
       "1         2  Ukrainian citizens destroy 2 Russian tanks wit...           1\n",
       "7         2  Ukrainian citizens destroy 2 Russian tanks wit...           7\n",
       "15        2  Vasylkiv right now.\\nA local oil terminal has ...          15\n",
       "27        2  #Ukraine air defence has downed a russian IL-7...          27\n",
       "29        2  #Russian jets shooting at #Ukraine civilians. ...          29"
      ]
     },
     "execution_count": 45,
     "metadata": {},
     "output_type": "execute_result"
    }
   ],
   "source": [
    "cluster_df[cluster_df.Cluster == 2].head()"
   ]
  },
  {
   "cell_type": "code",
   "execution_count": 46,
   "id": "a262d684-c47d-4f09-b899-a0d27180737d",
   "metadata": {},
   "outputs": [
    {
     "data": {
      "text/html": [
       "<div>\n",
       "<style scoped>\n",
       "    .dataframe tbody tr th:only-of-type {\n",
       "        vertical-align: middle;\n",
       "    }\n",
       "\n",
       "    .dataframe tbody tr th {\n",
       "        vertical-align: top;\n",
       "    }\n",
       "\n",
       "    .dataframe thead th {\n",
       "        text-align: right;\n",
       "    }\n",
       "</style>\n",
       "<table border=\"1\" class=\"dataframe\">\n",
       "  <thead>\n",
       "    <tr style=\"text-align: right;\">\n",
       "      <th></th>\n",
       "      <th>Cluster</th>\n",
       "      <th>Tweet</th>\n",
       "      <th>Row Number</th>\n",
       "    </tr>\n",
       "  </thead>\n",
       "  <tbody>\n",
       "    <tr>\n",
       "      <th>35</th>\n",
       "      <td>3</td>\n",
       "      <td>From now on, Russian mothers can look up their...</td>\n",
       "      <td>35</td>\n",
       "    </tr>\n",
       "    <tr>\n",
       "      <th>47</th>\n",
       "      <td>3</td>\n",
       "      <td>Putin Thread 1/\\n\\nDid not want to write this\\...</td>\n",
       "      <td>47</td>\n",
       "    </tr>\n",
       "    <tr>\n",
       "      <th>105</th>\n",
       "      <td>3</td>\n",
       "      <td>Stop #Putin Now.\\n#StandWithUkraine \\n#StopRus...</td>\n",
       "      <td>105</td>\n",
       "    </tr>\n",
       "    <tr>\n",
       "      <th>111</th>\n",
       "      <td>3</td>\n",
       "      <td>🇺🇦 #StandWithUkraine  🇺🇦\\n\\n#Ukraine #StopPuti...</td>\n",
       "      <td>111</td>\n",
       "    </tr>\n",
       "    <tr>\n",
       "      <th>152</th>\n",
       "      <td>3</td>\n",
       "      <td>JUST IN: Hacking group #Anonymous launches 'fu...</td>\n",
       "      <td>152</td>\n",
       "    </tr>\n",
       "  </tbody>\n",
       "</table>\n",
       "</div>"
      ],
      "text/plain": [
       "     Cluster                                              Tweet  Row Number\n",
       "35         3  From now on, Russian mothers can look up their...          35\n",
       "47         3  Putin Thread 1/\\n\\nDid not want to write this\\...          47\n",
       "105        3  Stop #Putin Now.\\n#StandWithUkraine \\n#StopRus...         105\n",
       "111        3  🇺🇦 #StandWithUkraine  🇺🇦\\n\\n#Ukraine #StopPuti...         111\n",
       "152        3  JUST IN: Hacking group #Anonymous launches 'fu...         152"
      ]
     },
     "execution_count": 46,
     "metadata": {},
     "output_type": "execute_result"
    }
   ],
   "source": [
    "cluster_df[cluster_df.Cluster == 3].head()"
   ]
  },
  {
   "cell_type": "code",
   "execution_count": 47,
   "id": "15898101-1ce7-4c4e-b629-ee24edec0361",
   "metadata": {},
   "outputs": [
    {
     "data": {
      "text/html": [
       "<div>\n",
       "<style scoped>\n",
       "    .dataframe tbody tr th:only-of-type {\n",
       "        vertical-align: middle;\n",
       "    }\n",
       "\n",
       "    .dataframe tbody tr th {\n",
       "        vertical-align: top;\n",
       "    }\n",
       "\n",
       "    .dataframe thead th {\n",
       "        text-align: right;\n",
       "    }\n",
       "</style>\n",
       "<table border=\"1\" class=\"dataframe\">\n",
       "  <thead>\n",
       "    <tr style=\"text-align: right;\">\n",
       "      <th></th>\n",
       "      <th>Cluster</th>\n",
       "      <th>Tweet</th>\n",
       "      <th>Row Number</th>\n",
       "    </tr>\n",
       "  </thead>\n",
       "  <tbody>\n",
       "    <tr>\n",
       "      <th>144805</th>\n",
       "      <td>4</td>\n",
       "      <td>@SenHydeSmith Ukraine needs weapons and humani...</td>\n",
       "      <td>144805</td>\n",
       "    </tr>\n",
       "    <tr>\n",
       "      <th>144808</th>\n",
       "      <td>4</td>\n",
       "      <td>@SenWhitehouse Ukraine needs weapons and human...</td>\n",
       "      <td>144808</td>\n",
       "    </tr>\n",
       "    <tr>\n",
       "      <th>145387</th>\n",
       "      <td>4</td>\n",
       "      <td>@ossoff Ukraine needs weapons and humanitarian...</td>\n",
       "      <td>145387</td>\n",
       "    </tr>\n",
       "    <tr>\n",
       "      <th>145514</th>\n",
       "      <td>4</td>\n",
       "      <td>@SenatorLujan Ukraine needs weapons and humani...</td>\n",
       "      <td>145514</td>\n",
       "    </tr>\n",
       "    <tr>\n",
       "      <th>145662</th>\n",
       "      <td>4</td>\n",
       "      <td>@SenatorHick Ukraine needs weapons and humanit...</td>\n",
       "      <td>145662</td>\n",
       "    </tr>\n",
       "  </tbody>\n",
       "</table>\n",
       "</div>"
      ],
      "text/plain": [
       "        Cluster                                              Tweet  Row Number\n",
       "144805        4  @SenHydeSmith Ukraine needs weapons and humani...      144805\n",
       "144808        4  @SenWhitehouse Ukraine needs weapons and human...      144808\n",
       "145387        4  @ossoff Ukraine needs weapons and humanitarian...      145387\n",
       "145514        4  @SenatorLujan Ukraine needs weapons and humani...      145514\n",
       "145662        4  @SenatorHick Ukraine needs weapons and humanit...      145662"
      ]
     },
     "execution_count": 47,
     "metadata": {},
     "output_type": "execute_result"
    }
   ],
   "source": [
    "cluster_df[cluster_df.Cluster == 4].head()"
   ]
  },
  {
   "cell_type": "code",
   "execution_count": null,
   "id": "c1b7b411-220e-4b60-a864-4813f3748cbd",
   "metadata": {},
   "outputs": [],
   "source": []
  },
  {
   "cell_type": "code",
   "execution_count": 117,
   "id": "a58cafac-bf7d-4845-9e6b-60e93dfda787",
   "metadata": {},
   "outputs": [
    {
     "data": {
      "text/plain": [
       "array([[ 0.07682605, -0.10481955],\n",
       "       [ 0.08727308, -0.12988956]])"
      ]
     },
     "execution_count": 117,
     "metadata": {},
     "output_type": "execute_result"
    }
   ],
   "source": [
    "reduced_data[:2]"
   ]
  },
  {
   "cell_type": "code",
   "execution_count": 120,
   "id": "d4d8f0f6-5d20-4a6b-aebb-b36033d653ee",
   "metadata": {},
   "outputs": [
    {
     "data": {
      "text/plain": [
       "numpy.ndarray"
      ]
     },
     "execution_count": 120,
     "metadata": {},
     "output_type": "execute_result"
    }
   ],
   "source": [
    "type(reduced_data)"
   ]
  },
  {
   "cell_type": "code",
   "execution_count": 127,
   "id": "5ab89e14-3213-455c-94ce-8f1a80188ccd",
   "metadata": {},
   "outputs": [
    {
     "name": "stderr",
     "output_type": "stream",
     "text": [
      "1053642samples [00:00, 6829448.05samples/s]                                                                            "
     ]
    },
    {
     "name": "stdout",
     "output_type": "stream",
     "text": [
      "Davies-Bouldin Index: 2.768\n"
     ]
    },
    {
     "name": "stderr",
     "output_type": "stream",
     "text": [
      "\n"
     ]
    }
   ],
   "source": [
    "dbi = davies_bouldin_score(reduced_data, labels)\n",
    "\n",
    "with tqdm(total=len(reduced_data), unit='samples') as pbar:\n",
    "    for i in range(len(reduced_data)):\n",
    "        # compute DBI for current sample\n",
    "        # ...\n",
    "        # update progress bar every 0.5%\n",
    "        if i % int(len(reduced_data) * 0.005) == 0:\n",
    "            pbar.update(int(len(reduced_data) * 0.005))\n",
    "\n",
    "print(f\"Davies-Bouldin Index: {dbi:.3f}\")"
   ]
  },
  {
   "cell_type": "code",
   "execution_count": 126,
   "id": "76bf103d-c29a-44bc-b15d-1800fe692c1d",
   "metadata": {},
   "outputs": [
    {
     "name": "stdout",
     "output_type": "stream",
     "text": [
      "Progress: 0.00%\n",
      "Davies-Bouldin Index: 2.768\n",
      "Progress: 0.00%\n",
      "Davies-Bouldin Index: 2.768\n",
      "Progress: 0.00%\n",
      "Davies-Bouldin Index: 2.768\n",
      "Progress: 0.00%\n",
      "Davies-Bouldin Index: 2.768\n",
      "Progress: 0.00%\n",
      "Davies-Bouldin Index: 2.768\n",
      "Progress: 0.00%\n",
      "Davies-Bouldin Index: 2.768\n",
      "Progress: 0.00%\n",
      "Davies-Bouldin Index: 2.768\n",
      "Progress: 0.00%\n",
      "Davies-Bouldin Index: 2.768\n",
      "Progress: 0.00%\n",
      "Davies-Bouldin Index: 2.768\n",
      "Progress: 0.00%\n",
      "Davies-Bouldin Index: 2.768\n",
      "Progress: 0.00%\n",
      "Davies-Bouldin Index: 2.768\n",
      "Progress: 0.00%\n",
      "Davies-Bouldin Index: 2.768\n",
      "Progress: 0.00%\n",
      "Davies-Bouldin Index: 2.768\n",
      "Progress: 0.00%\n",
      "Davies-Bouldin Index: 2.768\n",
      "Progress: 0.00%\n",
      "Davies-Bouldin Index: 2.768\n",
      "Progress: 0.00%\n",
      "Davies-Bouldin Index: 2.768\n",
      "Progress: 0.00%\n",
      "Davies-Bouldin Index: 2.768\n",
      "Progress: 0.00%\n",
      "Davies-Bouldin Index: 2.768\n",
      "Progress: 0.00%\n",
      "Davies-Bouldin Index: 2.768\n",
      "Progress: 0.00%\n",
      "Davies-Bouldin Index: 2.768\n",
      "Progress: 0.00%\n",
      "Davies-Bouldin Index: 2.768\n",
      "Progress: 0.00%\n",
      "Davies-Bouldin Index: 2.768\n",
      "Progress: 0.00%\n",
      "Davies-Bouldin Index: 2.768\n",
      "Progress: 0.00%\n",
      "Davies-Bouldin Index: 2.768\n",
      "Progress: 0.00%\n",
      "Davies-Bouldin Index: 2.768\n",
      "Progress: 0.00%\n",
      "Davies-Bouldin Index: 2.768\n",
      "Progress: 0.00%\n",
      "Davies-Bouldin Index: 2.768\n",
      "Progress: 0.00%\n",
      "Davies-Bouldin Index: 2.768\n",
      "Progress: 0.00%\n",
      "Davies-Bouldin Index: 2.768\n",
      "Progress: 0.00%\n",
      "Davies-Bouldin Index: 2.768\n",
      "Progress: 0.00%\n",
      "Davies-Bouldin Index: 2.768\n",
      "Progress: 0.00%\n",
      "Davies-Bouldin Index: 2.768\n",
      "Progress: 0.00%\n",
      "Davies-Bouldin Index: 2.768\n",
      "Progress: 0.00%\n",
      "Davies-Bouldin Index: 2.768\n",
      "Progress: 0.00%\n",
      "Davies-Bouldin Index: 2.768\n",
      "Progress: 0.00%\n",
      "Davies-Bouldin Index: 2.768\n",
      "Progress: 0.00%\n",
      "Davies-Bouldin Index: 2.768\n",
      "Progress: 0.00%\n",
      "Davies-Bouldin Index: 2.768\n",
      "Progress: 0.00%\n",
      "Davies-Bouldin Index: 2.768\n",
      "Progress: 0.00%\n",
      "Davies-Bouldin Index: 2.768\n",
      "Progress: 0.00%\n",
      "Davies-Bouldin Index: 2.768\n",
      "Progress: 0.00%\n",
      "Davies-Bouldin Index: 2.768\n",
      "Progress: 0.00%\n",
      "Davies-Bouldin Index: 2.768\n",
      "Progress: 0.00%\n",
      "Davies-Bouldin Index: 2.768\n",
      "Progress: 0.00%\n",
      "Davies-Bouldin Index: 2.768\n",
      "Progress: 0.00%\n",
      "Davies-Bouldin Index: 2.768\n",
      "Progress: 0.00%\n",
      "Davies-Bouldin Index: 2.768\n",
      "Progress: 0.00%\n",
      "Davies-Bouldin Index: 2.768\n",
      "Progress: 0.00%\n",
      "Davies-Bouldin Index: 2.768\n",
      "Progress: 0.00%\n",
      "Davies-Bouldin Index: 2.768\n",
      "Progress: 0.00%\n",
      "Davies-Bouldin Index: 2.768\n",
      "Progress: 0.00%\n",
      "Davies-Bouldin Index: 2.768\n",
      "Progress: 0.01%\n",
      "Davies-Bouldin Index: 2.768\n",
      "Progress: 0.01%\n",
      "Davies-Bouldin Index: 2.768\n",
      "Progress: 0.01%\n",
      "Davies-Bouldin Index: 2.768\n",
      "Progress: 0.01%\n",
      "Davies-Bouldin Index: 2.768\n",
      "Progress: 0.01%\n",
      "Davies-Bouldin Index: 2.768\n",
      "Progress: 0.01%\n",
      "Davies-Bouldin Index: 2.768\n",
      "Progress: 0.01%\n",
      "Davies-Bouldin Index: 2.768\n",
      "Progress: 0.01%\n",
      "Davies-Bouldin Index: 2.768\n",
      "Progress: 0.01%\n",
      "Davies-Bouldin Index: 2.768\n",
      "Progress: 0.01%\n",
      "Davies-Bouldin Index: 2.768\n",
      "Progress: 0.01%\n",
      "Davies-Bouldin Index: 2.768\n",
      "Progress: 0.01%\n",
      "Davies-Bouldin Index: 2.768\n",
      "Progress: 0.01%\n",
      "Davies-Bouldin Index: 2.768\n",
      "Progress: 0.01%\n",
      "Davies-Bouldin Index: 2.768\n",
      "Progress: 0.01%\n",
      "Davies-Bouldin Index: 2.768\n",
      "Progress: 0.01%\n",
      "Davies-Bouldin Index: 2.768\n",
      "Progress: 0.01%\n",
      "Davies-Bouldin Index: 2.768\n",
      "Progress: 0.01%\n",
      "Davies-Bouldin Index: 2.768\n",
      "Progress: 0.01%\n",
      "Davies-Bouldin Index: 2.768\n",
      "Progress: 0.01%\n",
      "Davies-Bouldin Index: 2.768\n",
      "Progress: 0.01%\n",
      "Davies-Bouldin Index: 2.768\n",
      "Progress: 0.01%\n",
      "Davies-Bouldin Index: 2.768\n",
      "Progress: 0.01%\n",
      "Davies-Bouldin Index: 2.768\n",
      "Progress: 0.01%\n",
      "Davies-Bouldin Index: 2.768\n",
      "Progress: 0.01%\n",
      "Davies-Bouldin Index: 2.768\n",
      "Progress: 0.01%\n",
      "Davies-Bouldin Index: 2.768\n",
      "Progress: 0.01%\n",
      "Davies-Bouldin Index: 2.768\n",
      "Progress: 0.01%\n",
      "Davies-Bouldin Index: 2.768\n",
      "Progress: 0.01%\n",
      "Davies-Bouldin Index: 2.768\n",
      "Progress: 0.01%\n",
      "Davies-Bouldin Index: 2.768\n",
      "Progress: 0.01%\n",
      "Davies-Bouldin Index: 2.768\n",
      "Progress: 0.01%\n",
      "Davies-Bouldin Index: 2.768\n",
      "Progress: 0.01%\n",
      "Davies-Bouldin Index: 2.768\n",
      "Progress: 0.01%\n",
      "Davies-Bouldin Index: 2.768\n",
      "Progress: 0.01%\n",
      "Davies-Bouldin Index: 2.768\n",
      "Progress: 0.01%\n",
      "Davies-Bouldin Index: 2.768\n",
      "Progress: 0.01%\n",
      "Davies-Bouldin Index: 2.768\n",
      "Progress: 0.01%\n",
      "Davies-Bouldin Index: 2.768\n",
      "Progress: 0.01%\n",
      "Davies-Bouldin Index: 2.768\n",
      "Progress: 0.01%\n",
      "Davies-Bouldin Index: 2.768\n",
      "Progress: 0.01%\n",
      "Davies-Bouldin Index: 2.768\n",
      "Progress: 0.01%\n",
      "Davies-Bouldin Index: 2.768\n",
      "Progress: 0.01%\n",
      "Davies-Bouldin Index: 2.768\n",
      "Progress: 0.01%\n",
      "Davies-Bouldin Index: 2.768\n",
      "Progress: 0.01%\n",
      "Davies-Bouldin Index: 2.768\n",
      "Progress: 0.01%\n",
      "Davies-Bouldin Index: 2.768\n",
      "Progress: 0.01%\n",
      "Davies-Bouldin Index: 2.768\n",
      "Progress: 0.01%\n",
      "Davies-Bouldin Index: 2.768\n",
      "Progress: 0.01%\n",
      "Davies-Bouldin Index: 2.768\n",
      "Progress: 0.01%\n",
      "Davies-Bouldin Index: 2.768\n",
      "Progress: 0.01%\n",
      "Davies-Bouldin Index: 2.768\n",
      "Progress: 0.01%\n",
      "Davies-Bouldin Index: 2.768\n",
      "Progress: 0.01%\n",
      "Davies-Bouldin Index: 2.768\n",
      "Progress: 0.01%\n",
      "Davies-Bouldin Index: 2.768\n",
      "Progress: 0.01%\n",
      "Davies-Bouldin Index: 2.768\n",
      "Progress: 0.01%\n",
      "Davies-Bouldin Index: 2.768\n",
      "Progress: 0.01%\n",
      "Davies-Bouldin Index: 2.768\n",
      "Progress: 0.01%\n",
      "Davies-Bouldin Index: 2.768\n",
      "Progress: 0.01%\n",
      "Davies-Bouldin Index: 2.768\n",
      "Progress: 0.01%\n",
      "Davies-Bouldin Index: 2.768\n",
      "Progress: 0.01%\n",
      "Davies-Bouldin Index: 2.768\n",
      "Progress: 0.01%\n",
      "Davies-Bouldin Index: 2.768\n",
      "Progress: 0.01%\n",
      "Davies-Bouldin Index: 2.768\n",
      "Progress: 0.01%\n",
      "Davies-Bouldin Index: 2.768\n",
      "Progress: 0.01%\n",
      "Davies-Bouldin Index: 2.768\n",
      "Progress: 0.01%\n",
      "Davies-Bouldin Index: 2.768\n",
      "Progress: 0.01%\n",
      "Davies-Bouldin Index: 2.768\n",
      "Progress: 0.01%\n",
      "Davies-Bouldin Index: 2.768\n",
      "Progress: 0.01%\n",
      "Davies-Bouldin Index: 2.768\n",
      "Progress: 0.01%\n",
      "Davies-Bouldin Index: 2.768\n",
      "Progress: 0.01%\n",
      "Davies-Bouldin Index: 2.768\n",
      "Progress: 0.01%\n",
      "Davies-Bouldin Index: 2.768\n",
      "Progress: 0.01%\n",
      "Davies-Bouldin Index: 2.768\n",
      "Progress: 0.01%\n",
      "Davies-Bouldin Index: 2.768\n",
      "Progress: 0.01%\n",
      "Davies-Bouldin Index: 2.768\n",
      "Progress: 0.01%\n",
      "Davies-Bouldin Index: 2.768\n",
      "Progress: 0.01%\n",
      "Davies-Bouldin Index: 2.768\n",
      "Progress: 0.01%\n",
      "Davies-Bouldin Index: 2.768\n",
      "Progress: 0.01%\n",
      "Davies-Bouldin Index: 2.768\n",
      "Progress: 0.01%\n",
      "Davies-Bouldin Index: 2.768\n",
      "Progress: 0.01%\n",
      "Davies-Bouldin Index: 2.768\n",
      "Progress: 0.01%\n",
      "Davies-Bouldin Index: 2.768\n",
      "Progress: 0.01%\n",
      "Davies-Bouldin Index: 2.768\n",
      "Progress: 0.01%\n",
      "Davies-Bouldin Index: 2.768\n",
      "Progress: 0.01%\n",
      "Davies-Bouldin Index: 2.768\n",
      "Progress: 0.01%\n",
      "Davies-Bouldin Index: 2.768\n",
      "Progress: 0.01%\n",
      "Davies-Bouldin Index: 2.768\n",
      "Progress: 0.01%\n",
      "Davies-Bouldin Index: 2.768\n",
      "Progress: 0.01%\n",
      "Davies-Bouldin Index: 2.768\n",
      "Progress: 0.01%\n",
      "Davies-Bouldin Index: 2.768\n",
      "Progress: 0.01%\n",
      "Davies-Bouldin Index: 2.768\n",
      "Progress: 0.01%\n",
      "Davies-Bouldin Index: 2.768\n",
      "Progress: 0.01%\n"
     ]
    },
    {
     "ename": "KeyboardInterrupt",
     "evalue": "",
     "output_type": "error",
     "traceback": [
      "\u001b[1;31m---------------------------------------------------------------------------\u001b[0m",
      "\u001b[1;31mKeyboardInterrupt\u001b[0m                         Traceback (most recent call last)",
      "Cell \u001b[1;32mIn[126], line 8\u001b[0m\n\u001b[0;32m      6\u001b[0m \u001b[38;5;28;01mfor\u001b[39;00m i \u001b[38;5;129;01min\u001b[39;00m \u001b[38;5;28mrange\u001b[39m(\u001b[38;5;28mlen\u001b[39m(reduced_data)):\n\u001b[0;32m      7\u001b[0m     \u001b[38;5;28mprint\u001b[39m(\u001b[38;5;124mf\u001b[39m\u001b[38;5;124m\"\u001b[39m\u001b[38;5;124mProgress: \u001b[39m\u001b[38;5;132;01m{\u001b[39;00m(i\u001b[38;5;241m+\u001b[39m\u001b[38;5;241m1\u001b[39m)\u001b[38;5;241m/\u001b[39m\u001b[38;5;28mlen\u001b[39m(reduced_data)\u001b[38;5;241m*\u001b[39m\u001b[38;5;241m100\u001b[39m\u001b[38;5;132;01m:\u001b[39;00m\u001b[38;5;124m.2f\u001b[39m\u001b[38;5;132;01m}\u001b[39;00m\u001b[38;5;124m%\u001b[39m\u001b[38;5;124m\"\u001b[39m)\n\u001b[1;32m----> 8\u001b[0m     dbi \u001b[38;5;241m=\u001b[39m \u001b[43mdavies_bouldin_score\u001b[49m\u001b[43m(\u001b[49m\u001b[43mreduced_data\u001b[49m\u001b[43m,\u001b[49m\u001b[43m \u001b[49m\u001b[43mlabels\u001b[49m\u001b[43m)\u001b[49m\n\u001b[0;32m      9\u001b[0m     \u001b[38;5;28mprint\u001b[39m(\u001b[38;5;124mf\u001b[39m\u001b[38;5;124m\"\u001b[39m\u001b[38;5;124mDavies-Bouldin Index: \u001b[39m\u001b[38;5;132;01m{\u001b[39;00mdbi\u001b[38;5;132;01m:\u001b[39;00m\u001b[38;5;124m.3f\u001b[39m\u001b[38;5;132;01m}\u001b[39;00m\u001b[38;5;124m\"\u001b[39m)\n\u001b[0;32m     11\u001b[0m \u001b[38;5;66;03m# silhouette = silhouette_score_tqdm(reduced_data, labels)\u001b[39;00m\n\u001b[0;32m     12\u001b[0m \u001b[38;5;66;03m# print(\"Silhouette Coefficient:\", silhouette)\u001b[39;00m\n",
      "File \u001b[1;32mc:\\users\\ryanc\\appdata\\local\\programs\\python\\python38\\lib\\site-packages\\sklearn\\utils\\_param_validation.py:214\u001b[0m, in \u001b[0;36mvalidate_params.<locals>.decorator.<locals>.wrapper\u001b[1;34m(*args, **kwargs)\u001b[0m\n\u001b[0;32m    208\u001b[0m \u001b[38;5;28;01mtry\u001b[39;00m:\n\u001b[0;32m    209\u001b[0m     \u001b[38;5;28;01mwith\u001b[39;00m config_context(\n\u001b[0;32m    210\u001b[0m         skip_parameter_validation\u001b[38;5;241m=\u001b[39m(\n\u001b[0;32m    211\u001b[0m             prefer_skip_nested_validation \u001b[38;5;129;01mor\u001b[39;00m global_skip_validation\n\u001b[0;32m    212\u001b[0m         )\n\u001b[0;32m    213\u001b[0m     ):\n\u001b[1;32m--> 214\u001b[0m         \u001b[38;5;28;01mreturn\u001b[39;00m \u001b[43mfunc\u001b[49m\u001b[43m(\u001b[49m\u001b[38;5;241;43m*\u001b[39;49m\u001b[43margs\u001b[49m\u001b[43m,\u001b[49m\u001b[43m \u001b[49m\u001b[38;5;241;43m*\u001b[39;49m\u001b[38;5;241;43m*\u001b[39;49m\u001b[43mkwargs\u001b[49m\u001b[43m)\u001b[49m\n\u001b[0;32m    215\u001b[0m \u001b[38;5;28;01mexcept\u001b[39;00m InvalidParameterError \u001b[38;5;28;01mas\u001b[39;00m e:\n\u001b[0;32m    216\u001b[0m     \u001b[38;5;66;03m# When the function is just a wrapper around an estimator, we allow\u001b[39;00m\n\u001b[0;32m    217\u001b[0m     \u001b[38;5;66;03m# the function to delegate validation to the estimator, but we replace\u001b[39;00m\n\u001b[0;32m    218\u001b[0m     \u001b[38;5;66;03m# the name of the estimator by the name of the function in the error\u001b[39;00m\n\u001b[0;32m    219\u001b[0m     \u001b[38;5;66;03m# message to avoid confusion.\u001b[39;00m\n\u001b[0;32m    220\u001b[0m     msg \u001b[38;5;241m=\u001b[39m re\u001b[38;5;241m.\u001b[39msub(\n\u001b[0;32m    221\u001b[0m         \u001b[38;5;124mr\u001b[39m\u001b[38;5;124m\"\u001b[39m\u001b[38;5;124mparameter of \u001b[39m\u001b[38;5;124m\\\u001b[39m\u001b[38;5;124mw+ must be\u001b[39m\u001b[38;5;124m\"\u001b[39m,\n\u001b[0;32m    222\u001b[0m         \u001b[38;5;124mf\u001b[39m\u001b[38;5;124m\"\u001b[39m\u001b[38;5;124mparameter of \u001b[39m\u001b[38;5;132;01m{\u001b[39;00mfunc\u001b[38;5;241m.\u001b[39m\u001b[38;5;18m__qualname__\u001b[39m\u001b[38;5;132;01m}\u001b[39;00m\u001b[38;5;124m must be\u001b[39m\u001b[38;5;124m\"\u001b[39m,\n\u001b[0;32m    223\u001b[0m         \u001b[38;5;28mstr\u001b[39m(e),\n\u001b[0;32m    224\u001b[0m     )\n",
      "File \u001b[1;32mc:\\users\\ryanc\\appdata\\local\\programs\\python\\python38\\lib\\site-packages\\sklearn\\metrics\\cluster\\_unsupervised.py:404\u001b[0m, in \u001b[0;36mdavies_bouldin_score\u001b[1;34m(X, labels)\u001b[0m\n\u001b[0;32m    402\u001b[0m X, labels \u001b[38;5;241m=\u001b[39m check_X_y(X, labels)\n\u001b[0;32m    403\u001b[0m le \u001b[38;5;241m=\u001b[39m LabelEncoder()\n\u001b[1;32m--> 404\u001b[0m labels \u001b[38;5;241m=\u001b[39m \u001b[43mle\u001b[49m\u001b[38;5;241;43m.\u001b[39;49m\u001b[43mfit_transform\u001b[49m\u001b[43m(\u001b[49m\u001b[43mlabels\u001b[49m\u001b[43m)\u001b[49m\n\u001b[0;32m    405\u001b[0m n_samples, _ \u001b[38;5;241m=\u001b[39m X\u001b[38;5;241m.\u001b[39mshape\n\u001b[0;32m    406\u001b[0m n_labels \u001b[38;5;241m=\u001b[39m \u001b[38;5;28mlen\u001b[39m(le\u001b[38;5;241m.\u001b[39mclasses_)\n",
      "File \u001b[1;32mc:\\users\\ryanc\\appdata\\local\\programs\\python\\python38\\lib\\site-packages\\sklearn\\preprocessing\\_label.py:115\u001b[0m, in \u001b[0;36mLabelEncoder.fit_transform\u001b[1;34m(self, y)\u001b[0m\n\u001b[0;32m    102\u001b[0m \u001b[38;5;250m\u001b[39m\u001b[38;5;124;03m\"\"\"Fit label encoder and return encoded labels.\u001b[39;00m\n\u001b[0;32m    103\u001b[0m \n\u001b[0;32m    104\u001b[0m \u001b[38;5;124;03mParameters\u001b[39;00m\n\u001b[1;32m   (...)\u001b[0m\n\u001b[0;32m    112\u001b[0m \u001b[38;5;124;03m    Encoded labels.\u001b[39;00m\n\u001b[0;32m    113\u001b[0m \u001b[38;5;124;03m\"\"\"\u001b[39;00m\n\u001b[0;32m    114\u001b[0m y \u001b[38;5;241m=\u001b[39m column_or_1d(y, warn\u001b[38;5;241m=\u001b[39m\u001b[38;5;28;01mTrue\u001b[39;00m)\n\u001b[1;32m--> 115\u001b[0m \u001b[38;5;28mself\u001b[39m\u001b[38;5;241m.\u001b[39mclasses_, y \u001b[38;5;241m=\u001b[39m \u001b[43m_unique\u001b[49m\u001b[43m(\u001b[49m\u001b[43my\u001b[49m\u001b[43m,\u001b[49m\u001b[43m \u001b[49m\u001b[43mreturn_inverse\u001b[49m\u001b[38;5;241;43m=\u001b[39;49m\u001b[38;5;28;43;01mTrue\u001b[39;49;00m\u001b[43m)\u001b[49m\n\u001b[0;32m    116\u001b[0m \u001b[38;5;28;01mreturn\u001b[39;00m y\n",
      "File \u001b[1;32mc:\\users\\ryanc\\appdata\\local\\programs\\python\\python38\\lib\\site-packages\\sklearn\\utils\\_encode.py:46\u001b[0m, in \u001b[0;36m_unique\u001b[1;34m(values, return_inverse, return_counts)\u001b[0m\n\u001b[0;32m     42\u001b[0m     \u001b[38;5;28;01mreturn\u001b[39;00m _unique_python(\n\u001b[0;32m     43\u001b[0m         values, return_inverse\u001b[38;5;241m=\u001b[39mreturn_inverse, return_counts\u001b[38;5;241m=\u001b[39mreturn_counts\n\u001b[0;32m     44\u001b[0m     )\n\u001b[0;32m     45\u001b[0m \u001b[38;5;66;03m# numerical\u001b[39;00m\n\u001b[1;32m---> 46\u001b[0m \u001b[38;5;28;01mreturn\u001b[39;00m \u001b[43m_unique_np\u001b[49m\u001b[43m(\u001b[49m\n\u001b[0;32m     47\u001b[0m \u001b[43m    \u001b[49m\u001b[43mvalues\u001b[49m\u001b[43m,\u001b[49m\u001b[43m \u001b[49m\u001b[43mreturn_inverse\u001b[49m\u001b[38;5;241;43m=\u001b[39;49m\u001b[43mreturn_inverse\u001b[49m\u001b[43m,\u001b[49m\u001b[43m \u001b[49m\u001b[43mreturn_counts\u001b[49m\u001b[38;5;241;43m=\u001b[39;49m\u001b[43mreturn_counts\u001b[49m\n\u001b[0;32m     48\u001b[0m \u001b[43m\u001b[49m\u001b[43m)\u001b[49m\n",
      "File \u001b[1;32mc:\\users\\ryanc\\appdata\\local\\programs\\python\\python38\\lib\\site-packages\\sklearn\\utils\\_encode.py:54\u001b[0m, in \u001b[0;36m_unique_np\u001b[1;34m(values, return_inverse, return_counts)\u001b[0m\n\u001b[0;32m     51\u001b[0m \u001b[38;5;28;01mdef\u001b[39;00m \u001b[38;5;21m_unique_np\u001b[39m(values, return_inverse\u001b[38;5;241m=\u001b[39m\u001b[38;5;28;01mFalse\u001b[39;00m, return_counts\u001b[38;5;241m=\u001b[39m\u001b[38;5;28;01mFalse\u001b[39;00m):\n\u001b[0;32m     52\u001b[0m \u001b[38;5;250m    \u001b[39m\u001b[38;5;124;03m\"\"\"Helper function to find unique values for numpy arrays that correctly\u001b[39;00m\n\u001b[0;32m     53\u001b[0m \u001b[38;5;124;03m    accounts for nans. See `_unique` documentation for details.\"\"\"\u001b[39;00m\n\u001b[1;32m---> 54\u001b[0m     uniques \u001b[38;5;241m=\u001b[39m \u001b[43mnp\u001b[49m\u001b[38;5;241;43m.\u001b[39;49m\u001b[43munique\u001b[49m\u001b[43m(\u001b[49m\n\u001b[0;32m     55\u001b[0m \u001b[43m        \u001b[49m\u001b[43mvalues\u001b[49m\u001b[43m,\u001b[49m\u001b[43m \u001b[49m\u001b[43mreturn_inverse\u001b[49m\u001b[38;5;241;43m=\u001b[39;49m\u001b[43mreturn_inverse\u001b[49m\u001b[43m,\u001b[49m\u001b[43m \u001b[49m\u001b[43mreturn_counts\u001b[49m\u001b[38;5;241;43m=\u001b[39;49m\u001b[43mreturn_counts\u001b[49m\n\u001b[0;32m     56\u001b[0m \u001b[43m    \u001b[49m\u001b[43m)\u001b[49m\n\u001b[0;32m     58\u001b[0m     inverse, counts \u001b[38;5;241m=\u001b[39m \u001b[38;5;28;01mNone\u001b[39;00m, \u001b[38;5;28;01mNone\u001b[39;00m\n\u001b[0;32m     60\u001b[0m     \u001b[38;5;28;01mif\u001b[39;00m return_counts:\n",
      "File \u001b[1;32m<__array_function__ internals>:200\u001b[0m, in \u001b[0;36munique\u001b[1;34m(*args, **kwargs)\u001b[0m\n",
      "File \u001b[1;32mc:\\users\\ryanc\\appdata\\local\\programs\\python\\python38\\lib\\site-packages\\numpy\\lib\\arraysetops.py:274\u001b[0m, in \u001b[0;36munique\u001b[1;34m(ar, return_index, return_inverse, return_counts, axis, equal_nan)\u001b[0m\n\u001b[0;32m    272\u001b[0m ar \u001b[38;5;241m=\u001b[39m np\u001b[38;5;241m.\u001b[39masanyarray(ar)\n\u001b[0;32m    273\u001b[0m \u001b[38;5;28;01mif\u001b[39;00m axis \u001b[38;5;129;01mis\u001b[39;00m \u001b[38;5;28;01mNone\u001b[39;00m:\n\u001b[1;32m--> 274\u001b[0m     ret \u001b[38;5;241m=\u001b[39m \u001b[43m_unique1d\u001b[49m\u001b[43m(\u001b[49m\u001b[43mar\u001b[49m\u001b[43m,\u001b[49m\u001b[43m \u001b[49m\u001b[43mreturn_index\u001b[49m\u001b[43m,\u001b[49m\u001b[43m \u001b[49m\u001b[43mreturn_inverse\u001b[49m\u001b[43m,\u001b[49m\u001b[43m \u001b[49m\u001b[43mreturn_counts\u001b[49m\u001b[43m,\u001b[49m\u001b[43m \u001b[49m\n\u001b[0;32m    275\u001b[0m \u001b[43m                    \u001b[49m\u001b[43mequal_nan\u001b[49m\u001b[38;5;241;43m=\u001b[39;49m\u001b[43mequal_nan\u001b[49m\u001b[43m)\u001b[49m\n\u001b[0;32m    276\u001b[0m     \u001b[38;5;28;01mreturn\u001b[39;00m _unpack_tuple(ret)\n\u001b[0;32m    278\u001b[0m \u001b[38;5;66;03m# axis was specified and not None\u001b[39;00m\n",
      "File \u001b[1;32mc:\\users\\ryanc\\appdata\\local\\programs\\python\\python38\\lib\\site-packages\\numpy\\lib\\arraysetops.py:333\u001b[0m, in \u001b[0;36m_unique1d\u001b[1;34m(ar, return_index, return_inverse, return_counts, equal_nan)\u001b[0m\n\u001b[0;32m    330\u001b[0m optional_indices \u001b[38;5;241m=\u001b[39m return_index \u001b[38;5;129;01mor\u001b[39;00m return_inverse\n\u001b[0;32m    332\u001b[0m \u001b[38;5;28;01mif\u001b[39;00m optional_indices:\n\u001b[1;32m--> 333\u001b[0m     perm \u001b[38;5;241m=\u001b[39m \u001b[43mar\u001b[49m\u001b[38;5;241;43m.\u001b[39;49m\u001b[43margsort\u001b[49m\u001b[43m(\u001b[49m\u001b[43mkind\u001b[49m\u001b[38;5;241;43m=\u001b[39;49m\u001b[38;5;124;43m'\u001b[39;49m\u001b[38;5;124;43mmergesort\u001b[39;49m\u001b[38;5;124;43m'\u001b[39;49m\u001b[43m \u001b[49m\u001b[38;5;28;43;01mif\u001b[39;49;00m\u001b[43m \u001b[49m\u001b[43mreturn_index\u001b[49m\u001b[43m \u001b[49m\u001b[38;5;28;43;01melse\u001b[39;49;00m\u001b[43m \u001b[49m\u001b[38;5;124;43m'\u001b[39;49m\u001b[38;5;124;43mquicksort\u001b[39;49m\u001b[38;5;124;43m'\u001b[39;49m\u001b[43m)\u001b[49m\n\u001b[0;32m    334\u001b[0m     aux \u001b[38;5;241m=\u001b[39m ar[perm]\n\u001b[0;32m    335\u001b[0m \u001b[38;5;28;01melse\u001b[39;00m:\n",
      "\u001b[1;31mKeyboardInterrupt\u001b[0m: "
     ]
    }
   ],
   "source": [
    "# silhouette = silhouette_score(reduced_data, labels)\n",
    "\n",
    "# reshape_data = reduced_data.reshape(1, -1)\n",
    "\n",
    "# Calculate Silhouette Coefficient for each sample\n",
    "for i in range(len(reduced_data)):\n",
    "    print(f\"Progress: {(i+1)/len(reduced_data)*100:.2f}%\")\n",
    "    dbi = davies_bouldin_score(reduced_data, labels)\n",
    "    print(f\"Davies-Bouldin Index: {dbi:.3f}\")\n",
    "\n",
    "# silhouette = silhouette_score_tqdm(reduced_data, labels)\n",
    "# print(\"Silhouette Coefficient:\", silhouette)"
   ]
  },
  {
   "cell_type": "code",
   "execution_count": null,
   "id": "81b1d82c-3478-4e6e-a938-5705fac0c819",
   "metadata": {},
   "outputs": [],
   "source": [
    "# it's not running"
   ]
  },
  {
   "cell_type": "code",
   "execution_count": 103,
   "id": "9f948f20-7e35-427e-8b8c-9a2154441db1",
   "metadata": {},
   "outputs": [],
   "source": [
    "# chi_scores, p_values = chi2(reduced_data, labels)\n",
    "# reduced_feature_names = ['Reduced_Feature_{}'.format(i) for i in range(reduced_data.shape[1])]\n",
    "# results = list(zip(reduced_feature_names, chi_scores, p_values))"
   ]
  },
  {
   "cell_type": "markdown",
   "id": "fee0ac88-89de-4165-8435-e49fa244f774",
   "metadata": {
    "jp-MarkdownHeadingCollapsed": true
   },
   "source": [
    "## Testing Chi samples"
   ]
  },
  {
   "cell_type": "markdown",
   "id": "7f18e054-2224-42c8-b683-4272b8395438",
   "metadata": {},
   "source": [
    "I have to sample the data because chi scores need dense arrays instead of sparse."
   ]
  },
  {
   "cell_type": "code",
   "execution_count": 82,
   "id": "039befe4-5ab3-4aec-aca0-e9cf5682ab56",
   "metadata": {},
   "outputs": [],
   "source": [
    "# Set the sample size\n",
    "sample_size = int(0.01 * tfidf_matrix.shape[0])\n",
    "\n",
    "# Randomly sample the data points\n",
    "sample_indices = np.random.choice(tfidf_matrix.shape[0], sample_size, replace=False)\n",
    "\n",
    "# Select the sampled data points and labels\n",
    "X_sample = tfidf_matrix[sample_indices, :]\n",
    "y_sample = labels[sample_indices]"
   ]
  },
  {
   "cell_type": "code",
   "execution_count": 84,
   "id": "5e49bd75-c7af-42fb-a423-a4d205e803d4",
   "metadata": {},
   "outputs": [
    {
     "data": {
      "text/plain": [
       "(10485, 589956)"
      ]
     },
     "execution_count": 84,
     "metadata": {},
     "output_type": "execute_result"
    }
   ],
   "source": [
    "X_sample.shape"
   ]
  },
  {
   "cell_type": "code",
   "execution_count": 88,
   "id": "1b6f3bf0-02e0-4fb8-85d2-c9e42ca4009f",
   "metadata": {},
   "outputs": [
    {
     "name": "stdout",
     "output_type": "stream",
     "text": [
      "(array([1.87179353, 9.06785044, 0.22310764, ...,        nan,        nan,\n",
      "              nan]), array([0.75932447, 0.05942574, 0.99422181, ...,        nan,        nan,\n",
      "              nan]))\n"
     ]
    }
   ],
   "source": [
    "# Resample the data to reduce memory usage\n",
    "X_resampled, y_resampled = resample(X_sample, y_sample, n_samples=10000, random_state=42)\n",
    "\n",
    "# Calculate the CHI score\n",
    "chi_scores = chi2(X_resampled, y_resampled)\n",
    "\n",
    "print(chi_scores)"
   ]
  },
  {
   "cell_type": "code",
   "execution_count": 91,
   "id": "d5e5a360-ff69-4a5f-912d-0d02f18e922b",
   "metadata": {},
   "outputs": [],
   "source": [
    "chi_scores, p_values = chi2(X_resampled, y_resampled)"
   ]
  },
  {
   "cell_type": "code",
   "execution_count": 92,
   "id": "8ec07ee4-7260-4f9b-9c06-c102c3d44b48",
   "metadata": {},
   "outputs": [
    {
     "name": "stdout",
     "output_type": "stream",
     "text": [
      "Feature 0: Chi score = 52.788, p-value = 0.000\n",
      "Feature 1: Chi score = 18.974, p-value = 0.001\n",
      "Feature 2: Chi score = 9.997, p-value = 0.040\n",
      "Feature 3: Chi score = 21.716, p-value = 0.000\n",
      "Feature 4: Chi score = 19.279, p-value = 0.001\n",
      "Feature 5: Chi score = 19.507, p-value = 0.001\n",
      "Feature 6: Chi score = 11.354, p-value = 0.023\n",
      "Feature 7: Chi score = 10.433, p-value = 0.034\n",
      "Feature 8: Chi score = 15.190, p-value = 0.004\n",
      "Feature 9: Chi score = 18.722, p-value = 0.001\n",
      "Feature 10: Chi score = 17.404, p-value = 0.002\n",
      "Feature 11: Chi score = 12.468, p-value = 0.014\n",
      "Feature 12: Chi score = 9.532, p-value = 0.049\n",
      "Feature 13: Chi score = 268.860, p-value = 0.000\n",
      "Feature 14: Chi score = 19.278, p-value = 0.001\n",
      "Feature 15: Chi score = 9.729, p-value = 0.045\n",
      "Feature 16: Chi score = 80.709, p-value = 0.000\n",
      "Feature 17: Chi score = 444.972, p-value = 0.000\n",
      "Feature 18: Chi score = 9.830, p-value = 0.043\n",
      "Feature 19: Chi score = 19.212, p-value = 0.001\n",
      "Feature 20: Chi score = 9.771, p-value = 0.044\n",
      "Feature 21: Chi score = 21.896, p-value = 0.000\n",
      "Feature 22: Chi score = 24.778, p-value = 0.000\n",
      "Feature 23: Chi score = 85.758, p-value = 0.000\n",
      "Feature 24: Chi score = 15.747, p-value = 0.003\n",
      "Feature 25: Chi score = 9.837, p-value = 0.043\n",
      "Feature 26: Chi score = 16.515, p-value = 0.002\n",
      "Feature 27: Chi score = 12.118, p-value = 0.016\n",
      "Feature 28: Chi score = 9.877, p-value = 0.043\n",
      "Feature 29: Chi score = 27.766, p-value = 0.000\n",
      "Feature 30: Chi score = 9.517, p-value = 0.049\n",
      "Feature 31: Chi score = 16.418, p-value = 0.003\n",
      "Feature 32: Chi score = 19.613, p-value = 0.001\n",
      "Feature 33: Chi score = 9.761, p-value = 0.045\n",
      "Feature 34: Chi score = 9.543, p-value = 0.049\n",
      "Feature 35: Chi score = 289.311, p-value = 0.000\n",
      "Feature 36: Chi score = 21.290, p-value = 0.000\n",
      "Feature 37: Chi score = 12.893, p-value = 0.012\n",
      "Feature 38: Chi score = 188.673, p-value = 0.000\n",
      "Feature 39: Chi score = 9.980, p-value = 0.041\n",
      "Feature 40: Chi score = 13.946, p-value = 0.007\n",
      "Feature 41: Chi score = 33.971, p-value = 0.000\n",
      "Feature 42: Chi score = 9.560, p-value = 0.049\n",
      "Feature 43: Chi score = 20.399, p-value = 0.000\n",
      "Feature 44: Chi score = 15.425, p-value = 0.004\n",
      "Feature 45: Chi score = 20.567, p-value = 0.000\n",
      "Feature 46: Chi score = 15.829, p-value = 0.003\n",
      "Feature 47: Chi score = 18.796, p-value = 0.001\n",
      "Feature 48: Chi score = 51.835, p-value = 0.000\n",
      "Feature 49: Chi score = 10.691, p-value = 0.030\n",
      "Feature 50: Chi score = 11.576, p-value = 0.021\n",
      "Feature 51: Chi score = 37.173, p-value = 0.000\n",
      "Feature 52: Chi score = 11.717, p-value = 0.020\n",
      "Feature 53: Chi score = 60.182, p-value = 0.000\n",
      "Feature 54: Chi score = 12.480, p-value = 0.014\n",
      "Feature 55: Chi score = 84.717, p-value = 0.000\n",
      "Feature 56: Chi score = 20.063, p-value = 0.000\n",
      "Feature 57: Chi score = 2172.350, p-value = 0.000\n",
      "Feature 58: Chi score = 10.391, p-value = 0.034\n",
      "Feature 59: Chi score = 12.889, p-value = 0.012\n",
      "Feature 60: Chi score = 15.432, p-value = 0.004\n",
      "Feature 61: Chi score = 20.145, p-value = 0.000\n",
      "Feature 62: Chi score = 10.522, p-value = 0.032\n",
      "Feature 63: Chi score = 15.545, p-value = 0.004\n",
      "Feature 64: Chi score = 10.101, p-value = 0.039\n",
      "Feature 65: Chi score = 10.069, p-value = 0.039\n",
      "Feature 66: Chi score = 9.873, p-value = 0.043\n",
      "Feature 67: Chi score = 13.685, p-value = 0.008\n",
      "Feature 68: Chi score = 13.610, p-value = 0.009\n",
      "Feature 69: Chi score = 23.024, p-value = 0.000\n",
      "Feature 70: Chi score = 11.742, p-value = 0.019\n",
      "Feature 71: Chi score = 9.777, p-value = 0.044\n",
      "Feature 72: Chi score = 17.047, p-value = 0.002\n",
      "Feature 73: Chi score = 10.748, p-value = 0.030\n",
      "Feature 74: Chi score = 12.635, p-value = 0.013\n",
      "Feature 75: Chi score = 10.101, p-value = 0.039\n",
      "Feature 76: Chi score = 13.582, p-value = 0.009\n",
      "Feature 77: Chi score = 22.681, p-value = 0.000\n",
      "Feature 78: Chi score = 19.818, p-value = 0.001\n",
      "Feature 79: Chi score = 13.161, p-value = 0.011\n",
      "Feature 80: Chi score = 11.818, p-value = 0.019\n",
      "Feature 81: Chi score = 14.634, p-value = 0.006\n",
      "Feature 82: Chi score = 18.746, p-value = 0.001\n",
      "Feature 83: Chi score = 30.496, p-value = 0.000\n",
      "Feature 84: Chi score = 13.117, p-value = 0.011\n",
      "Feature 85: Chi score = 13.822, p-value = 0.008\n",
      "Feature 86: Chi score = 29.166, p-value = 0.000\n",
      "Feature 87: Chi score = 12.139, p-value = 0.016\n",
      "Feature 88: Chi score = 13.181, p-value = 0.010\n",
      "Feature 89: Chi score = 13.968, p-value = 0.007\n",
      "Feature 90: Chi score = 47.930, p-value = 0.000\n",
      "Feature 91: Chi score = 13.006, p-value = 0.011\n",
      "Feature 92: Chi score = 88.103, p-value = 0.000\n",
      "Feature 93: Chi score = 10.209, p-value = 0.037\n",
      "Feature 94: Chi score = 10.819, p-value = 0.029\n",
      "Feature 95: Chi score = 10.218, p-value = 0.037\n",
      "Feature 96: Chi score = 12.288, p-value = 0.015\n",
      "Feature 97: Chi score = 13.149, p-value = 0.011\n",
      "Feature 98: Chi score = 92.003, p-value = 0.000\n",
      "Feature 99: Chi score = 11.091, p-value = 0.026\n",
      "Feature 100: Chi score = 13.939, p-value = 0.007\n",
      "Feature 101: Chi score = 182.233, p-value = 0.000\n",
      "Feature 102: Chi score = 12.019, p-value = 0.017\n",
      "Feature 103: Chi score = 89.806, p-value = 0.000\n",
      "Feature 104: Chi score = 1714.232, p-value = 0.000\n",
      "Feature 105: Chi score = 14.032, p-value = 0.007\n",
      "Feature 106: Chi score = 16.842, p-value = 0.002\n",
      "Feature 107: Chi score = 347.140, p-value = 0.000\n",
      "Feature 108: Chi score = 17.448, p-value = 0.002\n",
      "Feature 109: Chi score = 9.763, p-value = 0.045\n",
      "Feature 110: Chi score = 10.471, p-value = 0.033\n",
      "Feature 111: Chi score = 12.002, p-value = 0.017\n",
      "Feature 112: Chi score = 11.792, p-value = 0.019\n",
      "Feature 113: Chi score = 39.143, p-value = 0.000\n",
      "Feature 114: Chi score = 626.147, p-value = 0.000\n",
      "Feature 115: Chi score = 11.603, p-value = 0.021\n",
      "Feature 116: Chi score = 11.444, p-value = 0.022\n",
      "Feature 117: Chi score = 14.164, p-value = 0.007\n",
      "Feature 118: Chi score = 14.555, p-value = 0.006\n",
      "Feature 119: Chi score = 19.512, p-value = 0.001\n",
      "Feature 120: Chi score = 115.937, p-value = 0.000\n",
      "Feature 121: Chi score = 627.037, p-value = 0.000\n",
      "Feature 122: Chi score = 11.680, p-value = 0.020\n",
      "Feature 123: Chi score = 424.303, p-value = 0.000\n",
      "Feature 124: Chi score = 19.910, p-value = 0.001\n",
      "Feature 125: Chi score = 52.310, p-value = 0.000\n",
      "Feature 126: Chi score = 29.825, p-value = 0.000\n",
      "Feature 127: Chi score = 2344.526, p-value = 0.000\n",
      "Feature 128: Chi score = 72.295, p-value = 0.000\n",
      "Feature 129: Chi score = 23.939, p-value = 0.000\n",
      "Feature 130: Chi score = 28.074, p-value = 0.000\n",
      "Feature 131: Chi score = 1584.464, p-value = 0.000\n",
      "Feature 132: Chi score = 11.324, p-value = 0.023\n",
      "Feature 133: Chi score = 12.198, p-value = 0.016\n",
      "Feature 134: Chi score = 15.040, p-value = 0.005\n",
      "Feature 135: Chi score = 12.194, p-value = 0.016\n",
      "Feature 136: Chi score = 86.199, p-value = 0.000\n",
      "Feature 137: Chi score = 26.403, p-value = 0.000\n",
      "Feature 138: Chi score = 27.103, p-value = 0.000\n",
      "Feature 139: Chi score = 10.753, p-value = 0.029\n",
      "Feature 140: Chi score = 37.032, p-value = 0.000\n",
      "Feature 141: Chi score = 11.121, p-value = 0.025\n",
      "Feature 142: Chi score = 9.810, p-value = 0.044\n",
      "Feature 143: Chi score = 9.887, p-value = 0.042\n",
      "Feature 144: Chi score = 9.595, p-value = 0.048\n",
      "Feature 145: Chi score = 13.132, p-value = 0.011\n",
      "Feature 146: Chi score = 14.794, p-value = 0.005\n",
      "Feature 147: Chi score = 10.276, p-value = 0.036\n",
      "Feature 148: Chi score = 21.409, p-value = 0.000\n",
      "Feature 149: Chi score = 15.171, p-value = 0.004\n",
      "Feature 150: Chi score = 11.431, p-value = 0.022\n",
      "Feature 151: Chi score = 30.579, p-value = 0.000\n",
      "Feature 152: Chi score = 52.745, p-value = 0.000\n",
      "Feature 153: Chi score = 9.999, p-value = 0.040\n",
      "Feature 154: Chi score = 133.731, p-value = 0.000\n",
      "Feature 155: Chi score = 24.946, p-value = 0.000\n",
      "Feature 156: Chi score = 35.442, p-value = 0.000\n",
      "Feature 157: Chi score = 344.555, p-value = 0.000\n",
      "Feature 158: Chi score = 94.562, p-value = 0.000\n",
      "Feature 159: Chi score = 28.885, p-value = 0.000\n",
      "Feature 160: Chi score = 31.956, p-value = 0.000\n",
      "Feature 161: Chi score = 14.863, p-value = 0.005\n",
      "Feature 162: Chi score = 19.047, p-value = 0.001\n",
      "Feature 163: Chi score = 9.933, p-value = 0.042\n",
      "Feature 164: Chi score = 31.059, p-value = 0.000\n",
      "Feature 165: Chi score = 202.696, p-value = 0.000\n",
      "Feature 166: Chi score = 33.791, p-value = 0.000\n",
      "Feature 167: Chi score = 364.930, p-value = 0.000\n",
      "Feature 168: Chi score = 11.718, p-value = 0.020\n",
      "Feature 169: Chi score = 16.969, p-value = 0.002\n",
      "Feature 170: Chi score = 17.763, p-value = 0.001\n",
      "Feature 171: Chi score = 949.215, p-value = 0.000\n",
      "Feature 172: Chi score = 83.985, p-value = 0.000\n",
      "Feature 173: Chi score = 121.882, p-value = 0.000\n",
      "Feature 174: Chi score = 15.068, p-value = 0.005\n",
      "Feature 175: Chi score = 13.417, p-value = 0.009\n",
      "Feature 176: Chi score = 104.464, p-value = 0.000\n",
      "Feature 177: Chi score = 21.785, p-value = 0.000\n",
      "Feature 178: Chi score = 13.795, p-value = 0.008\n",
      "Feature 179: Chi score = 24.093, p-value = 0.000\n",
      "Feature 180: Chi score = 24.412, p-value = 0.000\n",
      "Feature 181: Chi score = 44.511, p-value = 0.000\n",
      "Feature 182: Chi score = 37.242, p-value = 0.000\n",
      "Feature 183: Chi score = 11.050, p-value = 0.026\n",
      "Feature 184: Chi score = 26.803, p-value = 0.000\n",
      "Feature 185: Chi score = 194.329, p-value = 0.000\n",
      "Feature 186: Chi score = 13.255, p-value = 0.010\n",
      "Feature 187: Chi score = 9.628, p-value = 0.047\n",
      "Feature 188: Chi score = 12.696, p-value = 0.013\n",
      "Feature 189: Chi score = 13.078, p-value = 0.011\n",
      "Feature 190: Chi score = 48.449, p-value = 0.000\n",
      "Feature 191: Chi score = 55.957, p-value = 0.000\n",
      "Feature 192: Chi score = 10.213, p-value = 0.037\n",
      "Feature 193: Chi score = 10.325, p-value = 0.035\n",
      "Feature 194: Chi score = 17.860, p-value = 0.001\n",
      "Feature 195: Chi score = 12.507, p-value = 0.014\n",
      "Feature 196: Chi score = 11.076, p-value = 0.026\n",
      "Feature 197: Chi score = 10.151, p-value = 0.038\n",
      "Feature 198: Chi score = 50.210, p-value = 0.000\n",
      "Feature 199: Chi score = 17.966, p-value = 0.001\n",
      "Feature 200: Chi score = 11.465, p-value = 0.022\n",
      "Feature 201: Chi score = 203.536, p-value = 0.000\n",
      "Feature 202: Chi score = 10.393, p-value = 0.034\n",
      "Feature 203: Chi score = 16.560, p-value = 0.002\n",
      "Feature 204: Chi score = 18.379, p-value = 0.001\n",
      "Feature 205: Chi score = 12.164, p-value = 0.016\n",
      "Feature 206: Chi score = 10.390, p-value = 0.034\n",
      "Feature 207: Chi score = 11.638, p-value = 0.020\n",
      "Feature 208: Chi score = 36.889, p-value = 0.000\n",
      "Feature 209: Chi score = 11.352, p-value = 0.023\n",
      "Feature 210: Chi score = 10.295, p-value = 0.036\n",
      "Feature 211: Chi score = 11.543, p-value = 0.021\n",
      "Feature 212: Chi score = 10.339, p-value = 0.035\n",
      "Feature 213: Chi score = 11.429, p-value = 0.022\n",
      "Feature 214: Chi score = 11.901, p-value = 0.018\n",
      "Feature 215: Chi score = 10.408, p-value = 0.034\n",
      "Feature 216: Chi score = 11.298, p-value = 0.023\n",
      "Feature 217: Chi score = 9.940, p-value = 0.041\n",
      "Feature 218: Chi score = 13.740, p-value = 0.008\n",
      "Feature 219: Chi score = 47.012, p-value = 0.000\n",
      "Feature 220: Chi score = 10.849, p-value = 0.028\n",
      "Feature 221: Chi score = 77.986, p-value = 0.000\n",
      "Feature 222: Chi score = 1150.161, p-value = 0.000\n",
      "Feature 223: Chi score = 9.494, p-value = 0.050\n",
      "Feature 224: Chi score = 10.021, p-value = 0.040\n",
      "Feature 225: Chi score = 11.818, p-value = 0.019\n",
      "Feature 226: Chi score = 22.853, p-value = 0.000\n",
      "Feature 227: Chi score = 10.788, p-value = 0.029\n",
      "Feature 228: Chi score = 12.242, p-value = 0.016\n",
      "Feature 229: Chi score = 29.382, p-value = 0.000\n",
      "Feature 230: Chi score = 30.818, p-value = 0.000\n",
      "Feature 231: Chi score = 24.071, p-value = 0.000\n",
      "Feature 232: Chi score = 26.069, p-value = 0.000\n",
      "Feature 233: Chi score = 10.055, p-value = 0.040\n",
      "Feature 234: Chi score = 9.542, p-value = 0.049\n",
      "Feature 235: Chi score = 13.897, p-value = 0.008\n",
      "Feature 236: Chi score = 13.968, p-value = 0.007\n",
      "Feature 237: Chi score = 9.842, p-value = 0.043\n",
      "Feature 238: Chi score = 1916.785, p-value = 0.000\n",
      "Feature 239: Chi score = 35.093, p-value = 0.000\n",
      "Feature 240: Chi score = 24.438, p-value = 0.000\n",
      "Feature 241: Chi score = 11.101, p-value = 0.025\n",
      "Feature 242: Chi score = 10.632, p-value = 0.031\n",
      "Feature 243: Chi score = 15.934, p-value = 0.003\n",
      "Feature 244: Chi score = 12.180, p-value = 0.016\n",
      "Feature 245: Chi score = 31.173, p-value = 0.000\n",
      "Feature 246: Chi score = 15.201, p-value = 0.004\n",
      "Feature 247: Chi score = 10.011, p-value = 0.040\n",
      "Feature 248: Chi score = 10.799, p-value = 0.029\n",
      "Feature 249: Chi score = 66.289, p-value = 0.000\n",
      "Feature 250: Chi score = 15.226, p-value = 0.004\n",
      "Feature 251: Chi score = 9.540, p-value = 0.049\n",
      "Feature 252: Chi score = 13.946, p-value = 0.007\n",
      "Feature 253: Chi score = 79.747, p-value = 0.000\n",
      "Feature 254: Chi score = 10.532, p-value = 0.032\n",
      "Feature 255: Chi score = 26.117, p-value = 0.000\n",
      "Feature 256: Chi score = 28.794, p-value = 0.000\n",
      "Feature 257: Chi score = 40.534, p-value = 0.000\n",
      "Feature 258: Chi score = 9.764, p-value = 0.045\n",
      "Feature 259: Chi score = 36.679, p-value = 0.000\n",
      "Feature 260: Chi score = 14.455, p-value = 0.006\n",
      "Feature 261: Chi score = 12.139, p-value = 0.016\n",
      "Feature 262: Chi score = 129.956, p-value = 0.000\n",
      "Feature 263: Chi score = 14.836, p-value = 0.005\n",
      "Feature 264: Chi score = 17.512, p-value = 0.002\n",
      "Feature 265: Chi score = 9.827, p-value = 0.043\n",
      "Feature 266: Chi score = 12.048, p-value = 0.017\n",
      "Feature 267: Chi score = 17.112, p-value = 0.002\n",
      "Feature 268: Chi score = 27.745, p-value = 0.000\n",
      "Feature 269: Chi score = 116.554, p-value = 0.000\n",
      "Feature 270: Chi score = 24.485, p-value = 0.000\n",
      "Feature 271: Chi score = 11.916, p-value = 0.018\n",
      "Feature 272: Chi score = 154.940, p-value = 0.000\n",
      "Feature 273: Chi score = 12.697, p-value = 0.013\n",
      "Feature 274: Chi score = 9.842, p-value = 0.043\n",
      "Feature 275: Chi score = 60.283, p-value = 0.000\n",
      "Feature 276: Chi score = 9.743, p-value = 0.045\n",
      "Feature 277: Chi score = 146.987, p-value = 0.000\n",
      "Feature 278: Chi score = 107.235, p-value = 0.000\n",
      "Feature 279: Chi score = 82.539, p-value = 0.000\n",
      "Feature 280: Chi score = 11.641, p-value = 0.020\n",
      "Feature 281: Chi score = 10.023, p-value = 0.040\n",
      "Feature 282: Chi score = 30.864, p-value = 0.000\n",
      "Feature 283: Chi score = 26.102, p-value = 0.000\n",
      "Feature 284: Chi score = 38.136, p-value = 0.000\n",
      "Feature 285: Chi score = 23.346, p-value = 0.000\n",
      "Feature 286: Chi score = 28.247, p-value = 0.000\n",
      "Feature 287: Chi score = 13.556, p-value = 0.009\n",
      "Feature 288: Chi score = 23.033, p-value = 0.000\n",
      "Feature 289: Chi score = 13.969, p-value = 0.007\n",
      "Feature 290: Chi score = 14.067, p-value = 0.007\n",
      "Feature 291: Chi score = 9.931, p-value = 0.042\n",
      "Feature 292: Chi score = 11.689, p-value = 0.020\n",
      "Feature 293: Chi score = 9.493, p-value = 0.050\n",
      "Feature 294: Chi score = 11.315, p-value = 0.023\n",
      "Feature 295: Chi score = 12.936, p-value = 0.012\n",
      "Feature 296: Chi score = 29.112, p-value = 0.000\n",
      "Feature 297: Chi score = 14.031, p-value = 0.007\n",
      "Feature 298: Chi score = 250.131, p-value = 0.000\n",
      "Feature 299: Chi score = 13.582, p-value = 0.009\n",
      "Feature 300: Chi score = 208.211, p-value = 0.000\n",
      "Feature 301: Chi score = 35.922, p-value = 0.000\n",
      "Feature 302: Chi score = 10.815, p-value = 0.029\n",
      "Feature 303: Chi score = 11.109, p-value = 0.025\n",
      "Feature 304: Chi score = 14.227, p-value = 0.007\n",
      "Feature 305: Chi score = 64.660, p-value = 0.000\n",
      "Feature 306: Chi score = 33.374, p-value = 0.000\n",
      "Feature 307: Chi score = 9.770, p-value = 0.044\n",
      "Feature 308: Chi score = 9.710, p-value = 0.046\n",
      "Feature 309: Chi score = 13.664, p-value = 0.008\n",
      "Feature 310: Chi score = 181.078, p-value = 0.000\n",
      "Feature 311: Chi score = 11.717, p-value = 0.020\n",
      "Feature 312: Chi score = 53.364, p-value = 0.000\n",
      "Feature 313: Chi score = 234.218, p-value = 0.000\n",
      "Feature 314: Chi score = 268.227, p-value = 0.000\n",
      "Feature 315: Chi score = 36.614, p-value = 0.000\n",
      "Feature 316: Chi score = 16.239, p-value = 0.003\n",
      "Feature 317: Chi score = 187.454, p-value = 0.000\n",
      "Feature 318: Chi score = 29.999, p-value = 0.000\n",
      "Feature 319: Chi score = 12.974, p-value = 0.011\n",
      "Feature 320: Chi score = 21.156, p-value = 0.000\n",
      "Feature 321: Chi score = 24.105, p-value = 0.000\n",
      "Feature 322: Chi score = 11.228, p-value = 0.024\n",
      "Feature 323: Chi score = 419.032, p-value = 0.000\n",
      "Feature 324: Chi score = 11.784, p-value = 0.019\n",
      "Feature 325: Chi score = 10.758, p-value = 0.029\n",
      "Feature 326: Chi score = 11.467, p-value = 0.022\n",
      "Feature 327: Chi score = 12.529, p-value = 0.014\n",
      "Feature 328: Chi score = 9.842, p-value = 0.043\n",
      "Feature 329: Chi score = 13.691, p-value = 0.008\n",
      "Feature 330: Chi score = 16.712, p-value = 0.002\n",
      "Feature 331: Chi score = 11.465, p-value = 0.022\n",
      "Feature 332: Chi score = 19.803, p-value = 0.001\n",
      "Feature 333: Chi score = 10.534, p-value = 0.032\n",
      "Feature 334: Chi score = 70.443, p-value = 0.000\n",
      "Feature 335: Chi score = 49.537, p-value = 0.000\n",
      "Feature 336: Chi score = 1415.723, p-value = 0.000\n",
      "Feature 337: Chi score = 18.040, p-value = 0.001\n",
      "Feature 338: Chi score = 9.919, p-value = 0.042\n",
      "Feature 339: Chi score = 29.465, p-value = 0.000\n",
      "Feature 340: Chi score = 15.036, p-value = 0.005\n",
      "Feature 341: Chi score = 24.934, p-value = 0.000\n",
      "Feature 342: Chi score = 10.969, p-value = 0.027\n",
      "Feature 343: Chi score = 10.112, p-value = 0.039\n",
      "Feature 344: Chi score = 27.847, p-value = 0.000\n",
      "Feature 345: Chi score = 17.573, p-value = 0.001\n",
      "Feature 346: Chi score = 62.018, p-value = 0.000\n",
      "Feature 347: Chi score = 15.340, p-value = 0.004\n",
      "Feature 348: Chi score = 20.711, p-value = 0.000\n",
      "Feature 349: Chi score = 10.772, p-value = 0.029\n",
      "Feature 350: Chi score = 11.601, p-value = 0.021\n",
      "Feature 351: Chi score = 9.711, p-value = 0.046\n",
      "Feature 352: Chi score = 13.632, p-value = 0.009\n",
      "Feature 353: Chi score = 41.207, p-value = 0.000\n",
      "Feature 354: Chi score = 10.739, p-value = 0.030\n",
      "Feature 355: Chi score = 11.387, p-value = 0.023\n",
      "Feature 356: Chi score = 60.283, p-value = 0.000\n",
      "Feature 357: Chi score = 15.866, p-value = 0.003\n",
      "Feature 358: Chi score = 88.987, p-value = 0.000\n",
      "Feature 359: Chi score = 15.866, p-value = 0.003\n",
      "Feature 360: Chi score = 242.945, p-value = 0.000\n",
      "Feature 361: Chi score = 37.501, p-value = 0.000\n",
      "Feature 362: Chi score = 10.182, p-value = 0.037\n",
      "Feature 363: Chi score = 113.789, p-value = 0.000\n",
      "Feature 364: Chi score = 9.691, p-value = 0.046\n",
      "Feature 365: Chi score = 9.972, p-value = 0.041\n",
      "Feature 366: Chi score = 22.452, p-value = 0.000\n",
      "Feature 367: Chi score = 10.428, p-value = 0.034\n",
      "Feature 368: Chi score = 10.005, p-value = 0.040\n",
      "Feature 369: Chi score = 1474.488, p-value = 0.000\n",
      "Feature 370: Chi score = 16.351, p-value = 0.003\n",
      "Feature 371: Chi score = 85.943, p-value = 0.000\n",
      "Feature 372: Chi score = 11.113, p-value = 0.025\n",
      "Feature 373: Chi score = 240.363, p-value = 0.000\n",
      "Feature 374: Chi score = 9.799, p-value = 0.044\n",
      "Feature 375: Chi score = 9.894, p-value = 0.042\n",
      "Feature 376: Chi score = 12.934, p-value = 0.012\n",
      "Feature 377: Chi score = 1711.154, p-value = 0.000\n",
      "Feature 378: Chi score = 10.919, p-value = 0.027\n",
      "Feature 379: Chi score = 140.950, p-value = 0.000\n",
      "Feature 380: Chi score = 28.233, p-value = 0.000\n",
      "Feature 381: Chi score = 15.639, p-value = 0.004\n",
      "Feature 382: Chi score = 64.746, p-value = 0.000\n",
      "Feature 383: Chi score = 13.899, p-value = 0.008\n",
      "Feature 384: Chi score = 12.682, p-value = 0.013\n",
      "Feature 385: Chi score = 37.346, p-value = 0.000\n",
      "Feature 386: Chi score = 42.034, p-value = 0.000\n",
      "Feature 387: Chi score = 24.002, p-value = 0.000\n",
      "Feature 388: Chi score = 9.967, p-value = 0.041\n",
      "Feature 389: Chi score = 10.784, p-value = 0.029\n",
      "Feature 390: Chi score = 11.940, p-value = 0.018\n",
      "Feature 391: Chi score = 21.503, p-value = 0.000\n",
      "Feature 392: Chi score = 12.468, p-value = 0.014\n",
      "Feature 393: Chi score = 17.173, p-value = 0.002\n",
      "Feature 394: Chi score = 12.448, p-value = 0.014\n",
      "Feature 395: Chi score = 51.555, p-value = 0.000\n",
      "Feature 396: Chi score = 13.918, p-value = 0.008\n",
      "Feature 397: Chi score = 47.091, p-value = 0.000\n",
      "Feature 398: Chi score = 117.581, p-value = 0.000\n",
      "Feature 399: Chi score = 11.702, p-value = 0.020\n",
      "Feature 400: Chi score = 18.616, p-value = 0.001\n",
      "Feature 401: Chi score = 36.487, p-value = 0.000\n",
      "Feature 402: Chi score = 52.759, p-value = 0.000\n",
      "Feature 403: Chi score = 20.987, p-value = 0.000\n",
      "Feature 404: Chi score = 18.079, p-value = 0.001\n",
      "Feature 405: Chi score = 118.554, p-value = 0.000\n",
      "Feature 406: Chi score = 53.745, p-value = 0.000\n",
      "Feature 407: Chi score = 167.401, p-value = 0.000\n",
      "Feature 408: Chi score = 11.849, p-value = 0.019\n",
      "Feature 409: Chi score = 10.478, p-value = 0.033\n",
      "Feature 410: Chi score = 158.369, p-value = 0.000\n",
      "Feature 411: Chi score = 11.872, p-value = 0.018\n",
      "Feature 412: Chi score = 27.132, p-value = 0.000\n",
      "Feature 413: Chi score = 11.824, p-value = 0.019\n",
      "Feature 414: Chi score = 28.026, p-value = 0.000\n",
      "Feature 415: Chi score = 29.537, p-value = 0.000\n",
      "Feature 416: Chi score = 33.635, p-value = 0.000\n",
      "Feature 417: Chi score = 12.595, p-value = 0.013\n",
      "Feature 418: Chi score = 249.818, p-value = 0.000\n",
      "Feature 419: Chi score = 25.390, p-value = 0.000\n",
      "Feature 420: Chi score = 48.656, p-value = 0.000\n",
      "Feature 421: Chi score = 198.390, p-value = 0.000\n",
      "Feature 422: Chi score = 11.465, p-value = 0.022\n",
      "Feature 423: Chi score = 2357.315, p-value = 0.000\n",
      "Feature 424: Chi score = 14.112, p-value = 0.007\n",
      "Feature 425: Chi score = 310.530, p-value = 0.000\n",
      "Feature 426: Chi score = 123.103, p-value = 0.000\n",
      "Feature 427: Chi score = 16.000, p-value = 0.003\n",
      "Feature 428: Chi score = 89.034, p-value = 0.000\n",
      "Feature 429: Chi score = 130.973, p-value = 0.000\n",
      "Feature 430: Chi score = 30.806, p-value = 0.000\n",
      "Feature 431: Chi score = 235.039, p-value = 0.000\n",
      "Feature 432: Chi score = 111.090, p-value = 0.000\n",
      "Feature 433: Chi score = 173.168, p-value = 0.000\n",
      "Feature 434: Chi score = 179.906, p-value = 0.000\n",
      "Feature 435: Chi score = 60.824, p-value = 0.000\n",
      "Feature 436: Chi score = 10.198, p-value = 0.037\n",
      "Feature 437: Chi score = 119.076, p-value = 0.000\n",
      "Feature 438: Chi score = 219.901, p-value = 0.000\n",
      "Feature 439: Chi score = 89.640, p-value = 0.000\n",
      "Feature 440: Chi score = 76.912, p-value = 0.000\n",
      "Feature 441: Chi score = 45.772, p-value = 0.000\n",
      "Feature 442: Chi score = 272.120, p-value = 0.000\n",
      "Feature 443: Chi score = 388.637, p-value = 0.000\n",
      "Feature 444: Chi score = 173.188, p-value = 0.000\n",
      "Feature 445: Chi score = 41.421, p-value = 0.000\n",
      "Feature 446: Chi score = 29.657, p-value = 0.000\n",
      "Feature 447: Chi score = 117.134, p-value = 0.000\n",
      "Feature 448: Chi score = 11.458, p-value = 0.022\n",
      "Feature 449: Chi score = 192.383, p-value = 0.000\n",
      "Feature 450: Chi score = 226.712, p-value = 0.000\n",
      "Feature 451: Chi score = 31.038, p-value = 0.000\n",
      "Feature 452: Chi score = 123.335, p-value = 0.000\n",
      "Feature 453: Chi score = 15.193, p-value = 0.004\n",
      "Feature 454: Chi score = 11.102, p-value = 0.025\n",
      "Feature 455: Chi score = 11.892, p-value = 0.018\n",
      "Feature 456: Chi score = 20.587, p-value = 0.000\n",
      "Feature 457: Chi score = 11.481, p-value = 0.022\n",
      "Feature 458: Chi score = 16.773, p-value = 0.002\n",
      "Feature 459: Chi score = 10.298, p-value = 0.036\n",
      "Feature 460: Chi score = 334.775, p-value = 0.000\n",
      "Feature 461: Chi score = 11.391, p-value = 0.023\n",
      "Feature 462: Chi score = 589.212, p-value = 0.000\n",
      "Feature 463: Chi score = 13.316, p-value = 0.010\n",
      "Feature 464: Chi score = 38.975, p-value = 0.000\n",
      "Feature 465: Chi score = 23.507, p-value = 0.000\n",
      "Feature 466: Chi score = 341.936, p-value = 0.000\n",
      "Feature 467: Chi score = 17.983, p-value = 0.001\n",
      "Feature 468: Chi score = 14.737, p-value = 0.005\n",
      "Feature 469: Chi score = 88.203, p-value = 0.000\n",
      "Feature 470: Chi score = 830.529, p-value = 0.000\n",
      "Feature 471: Chi score = 14.353, p-value = 0.006\n",
      "Feature 472: Chi score = 68.029, p-value = 0.000\n",
      "Feature 473: Chi score = 34.512, p-value = 0.000\n",
      "Feature 474: Chi score = 652.247, p-value = 0.000\n",
      "Feature 475: Chi score = 1015.958, p-value = 0.000\n",
      "Feature 476: Chi score = 61.955, p-value = 0.000\n",
      "Feature 477: Chi score = 121.824, p-value = 0.000\n",
      "Feature 478: Chi score = 17.139, p-value = 0.002\n",
      "Feature 479: Chi score = 24.727, p-value = 0.000\n",
      "Feature 480: Chi score = 67.448, p-value = 0.000\n",
      "Feature 481: Chi score = 24.127, p-value = 0.000\n",
      "Feature 482: Chi score = 33.779, p-value = 0.000\n",
      "Feature 483: Chi score = 70.968, p-value = 0.000\n",
      "Feature 484: Chi score = 10.548, p-value = 0.032\n",
      "Feature 485: Chi score = 191.482, p-value = 0.000\n",
      "Feature 486: Chi score = 30.746, p-value = 0.000\n",
      "Feature 487: Chi score = 18.068, p-value = 0.001\n",
      "Feature 488: Chi score = 18.233, p-value = 0.001\n",
      "Feature 489: Chi score = 77.236, p-value = 0.000\n",
      "Feature 490: Chi score = 17.112, p-value = 0.002\n",
      "Feature 491: Chi score = 10.369, p-value = 0.035\n",
      "Feature 492: Chi score = 39.899, p-value = 0.000\n",
      "Feature 493: Chi score = 38.225, p-value = 0.000\n",
      "Feature 494: Chi score = 9.648, p-value = 0.047\n",
      "Feature 495: Chi score = 11.203, p-value = 0.024\n",
      "Feature 496: Chi score = 45.737, p-value = 0.000\n",
      "Feature 497: Chi score = 10.781, p-value = 0.029\n",
      "Feature 498: Chi score = 47.114, p-value = 0.000\n",
      "Feature 499: Chi score = 12.633, p-value = 0.013\n",
      "Feature 500: Chi score = 17.532, p-value = 0.002\n",
      "Feature 501: Chi score = 10.236, p-value = 0.037\n",
      "Feature 502: Chi score = 11.487, p-value = 0.022\n",
      "Feature 503: Chi score = 10.137, p-value = 0.038\n",
      "Feature 504: Chi score = 54.500, p-value = 0.000\n",
      "Feature 505: Chi score = 16.193, p-value = 0.003\n",
      "Feature 506: Chi score = 33.075, p-value = 0.000\n",
      "Feature 507: Chi score = 9.959, p-value = 0.041\n",
      "Feature 508: Chi score = 11.286, p-value = 0.024\n",
      "Feature 509: Chi score = 10.225, p-value = 0.037\n",
      "Feature 510: Chi score = 202.954, p-value = 0.000\n",
      "Feature 511: Chi score = 11.191, p-value = 0.024\n",
      "Feature 512: Chi score = 69.826, p-value = 0.000\n",
      "Feature 513: Chi score = 15.576, p-value = 0.004\n",
      "Feature 514: Chi score = 13.061, p-value = 0.011\n",
      "Feature 515: Chi score = 17.695, p-value = 0.001\n",
      "Feature 516: Chi score = 24.121, p-value = 0.000\n",
      "Feature 517: Chi score = 15.341, p-value = 0.004\n",
      "Feature 518: Chi score = 28.354, p-value = 0.000\n",
      "Feature 519: Chi score = 13.339, p-value = 0.010\n",
      "Feature 520: Chi score = 32.133, p-value = 0.000\n",
      "Feature 521: Chi score = 16.476, p-value = 0.002\n",
      "Feature 522: Chi score = 125.649, p-value = 0.000\n",
      "Feature 523: Chi score = 13.070, p-value = 0.011\n",
      "Feature 524: Chi score = 11.690, p-value = 0.020\n",
      "Feature 525: Chi score = 265.356, p-value = 0.000\n",
      "Feature 526: Chi score = 12.117, p-value = 0.017\n",
      "Feature 527: Chi score = 10.948, p-value = 0.027\n",
      "Feature 528: Chi score = 25.190, p-value = 0.000\n",
      "Feature 529: Chi score = 15.241, p-value = 0.004\n",
      "Feature 530: Chi score = 12.442, p-value = 0.014\n",
      "Feature 531: Chi score = 13.391, p-value = 0.010\n",
      "Feature 532: Chi score = 19.261, p-value = 0.001\n",
      "Feature 533: Chi score = 9.865, p-value = 0.043\n",
      "Feature 534: Chi score = 52.165, p-value = 0.000\n",
      "Feature 535: Chi score = 10.172, p-value = 0.038\n",
      "Feature 536: Chi score = 165.541, p-value = 0.000\n",
      "Feature 537: Chi score = 20.454, p-value = 0.000\n",
      "Feature 538: Chi score = 21.365, p-value = 0.000\n",
      "Feature 539: Chi score = 12.353, p-value = 0.015\n",
      "Feature 540: Chi score = 13.807, p-value = 0.008\n",
      "Feature 541: Chi score = 101.156, p-value = 0.000\n",
      "Feature 542: Chi score = 19.779, p-value = 0.001\n",
      "Feature 543: Chi score = 17.010, p-value = 0.002\n",
      "Feature 544: Chi score = 9.648, p-value = 0.047\n",
      "Feature 545: Chi score = 11.491, p-value = 0.022\n",
      "Feature 546: Chi score = 195.805, p-value = 0.000\n",
      "Feature 547: Chi score = 80.004, p-value = 0.000\n",
      "Feature 548: Chi score = 23.785, p-value = 0.000\n",
      "Feature 549: Chi score = 10.155, p-value = 0.038\n",
      "Feature 550: Chi score = 19.837, p-value = 0.001\n",
      "Feature 551: Chi score = 16.245, p-value = 0.003\n",
      "Feature 552: Chi score = 10.348, p-value = 0.035\n",
      "Feature 553: Chi score = 114.785, p-value = 0.000\n",
      "Feature 554: Chi score = 10.648, p-value = 0.031\n",
      "Feature 555: Chi score = 10.723, p-value = 0.030\n",
      "Feature 556: Chi score = 1270.489, p-value = 0.000\n",
      "Feature 557: Chi score = 90.216, p-value = 0.000\n",
      "Feature 558: Chi score = 36.939, p-value = 0.000\n",
      "Feature 559: Chi score = 70.936, p-value = 0.000\n",
      "Feature 560: Chi score = 23.970, p-value = 0.000\n",
      "Feature 561: Chi score = 707.050, p-value = 0.000\n",
      "Feature 562: Chi score = 36.723, p-value = 0.000\n",
      "Feature 563: Chi score = 10.172, p-value = 0.038\n",
      "Feature 564: Chi score = 22.716, p-value = 0.000\n",
      "Feature 565: Chi score = 19.138, p-value = 0.001\n",
      "Feature 566: Chi score = 11.786, p-value = 0.019\n",
      "Feature 567: Chi score = 11.077, p-value = 0.026\n",
      "Feature 568: Chi score = 167.452, p-value = 0.000\n",
      "Feature 569: Chi score = 10.099, p-value = 0.039\n",
      "Feature 570: Chi score = 16.782, p-value = 0.002\n",
      "Feature 571: Chi score = 66.676, p-value = 0.000\n",
      "Feature 572: Chi score = 561.409, p-value = 0.000\n",
      "Feature 573: Chi score = 81.523, p-value = 0.000\n",
      "Feature 574: Chi score = 479.994, p-value = 0.000\n"
     ]
    }
   ],
   "source": [
    "# Set a threshold for Chi scores and p-values\n",
    "chi_threshold = 5\n",
    "p_threshold = 0.05\n",
    "\n",
    "# results\n",
    "results = list(zip(chi_scores, p_values))\n",
    "\n",
    "# Filter the results\n",
    "filtered_results = [(chi_score, p_value) for chi_score, p_value in results if chi_score > chi_threshold and p_value < p_threshold]\n",
    "\n",
    "# Print the filtered results\n",
    "for i, (chi_score, p_value) in enumerate(filtered_results):\n",
    "\tprint(f\"Feature {i}: Chi score = {chi_score:.3f}, p-value = {p_value:.3f}\")"
   ]
  },
  {
   "cell_type": "code",
   "execution_count": 83,
   "id": "29be87d5-a84e-4486-94df-ec89c544ca67",
   "metadata": {},
   "outputs": [
    {
     "ename": "AxisError",
     "evalue": "axis 0 is out of bounds for array of dimension 0",
     "output_type": "error",
     "traceback": [
      "\u001b[1;31m---------------------------------------------------------------------------\u001b[0m",
      "\u001b[1;31mAxisError\u001b[0m                                 Traceback (most recent call last)",
      "Cell \u001b[1;32mIn[83], line 2\u001b[0m\n\u001b[0;32m      1\u001b[0m \u001b[38;5;66;03m# Calculate the variance of each feature\u001b[39;00m\n\u001b[1;32m----> 2\u001b[0m variances \u001b[38;5;241m=\u001b[39m \u001b[43mnp\u001b[49m\u001b[38;5;241;43m.\u001b[39;49m\u001b[43mvar\u001b[49m\u001b[43m(\u001b[49m\u001b[43mX_sample\u001b[49m\u001b[43m,\u001b[49m\u001b[43m \u001b[49m\u001b[43maxis\u001b[49m\u001b[38;5;241;43m=\u001b[39;49m\u001b[38;5;241;43m0\u001b[39;49m\u001b[43m)\u001b[49m\n\u001b[0;32m      4\u001b[0m \u001b[38;5;66;03m# Select the top N features with the highest variance\u001b[39;00m\n\u001b[0;32m      5\u001b[0m N \u001b[38;5;241m=\u001b[39m \u001b[38;5;241m10000\u001b[39m  \u001b[38;5;66;03m# adjust this value to select more or fewer features\u001b[39;00m\n",
      "File \u001b[1;32m<__array_function__ internals>:200\u001b[0m, in \u001b[0;36mvar\u001b[1;34m(*args, **kwargs)\u001b[0m\n",
      "File \u001b[1;32mc:\\users\\ryanc\\appdata\\local\\programs\\python\\python38\\lib\\site-packages\\numpy\\core\\fromnumeric.py:3747\u001b[0m, in \u001b[0;36mvar\u001b[1;34m(a, axis, dtype, out, ddof, keepdims, where)\u001b[0m\n\u001b[0;32m   3744\u001b[0m     \u001b[38;5;28;01melse\u001b[39;00m:\n\u001b[0;32m   3745\u001b[0m         \u001b[38;5;28;01mreturn\u001b[39;00m var(axis\u001b[38;5;241m=\u001b[39maxis, dtype\u001b[38;5;241m=\u001b[39mdtype, out\u001b[38;5;241m=\u001b[39mout, ddof\u001b[38;5;241m=\u001b[39mddof, \u001b[38;5;241m*\u001b[39m\u001b[38;5;241m*\u001b[39mkwargs)\n\u001b[1;32m-> 3747\u001b[0m \u001b[38;5;28;01mreturn\u001b[39;00m \u001b[43m_methods\u001b[49m\u001b[38;5;241;43m.\u001b[39;49m\u001b[43m_var\u001b[49m\u001b[43m(\u001b[49m\u001b[43ma\u001b[49m\u001b[43m,\u001b[49m\u001b[43m \u001b[49m\u001b[43maxis\u001b[49m\u001b[38;5;241;43m=\u001b[39;49m\u001b[43maxis\u001b[49m\u001b[43m,\u001b[49m\u001b[43m \u001b[49m\u001b[43mdtype\u001b[49m\u001b[38;5;241;43m=\u001b[39;49m\u001b[43mdtype\u001b[49m\u001b[43m,\u001b[49m\u001b[43m \u001b[49m\u001b[43mout\u001b[49m\u001b[38;5;241;43m=\u001b[39;49m\u001b[43mout\u001b[49m\u001b[43m,\u001b[49m\u001b[43m \u001b[49m\u001b[43mddof\u001b[49m\u001b[38;5;241;43m=\u001b[39;49m\u001b[43mddof\u001b[49m\u001b[43m,\u001b[49m\n\u001b[0;32m   3748\u001b[0m \u001b[43m                     \u001b[49m\u001b[38;5;241;43m*\u001b[39;49m\u001b[38;5;241;43m*\u001b[39;49m\u001b[43mkwargs\u001b[49m\u001b[43m)\u001b[49m\n",
      "File \u001b[1;32mc:\\users\\ryanc\\appdata\\local\\programs\\python\\python38\\lib\\site-packages\\numpy\\core\\_methods.py:202\u001b[0m, in \u001b[0;36m_var\u001b[1;34m(a, axis, dtype, out, ddof, keepdims, where)\u001b[0m\n\u001b[0;32m    198\u001b[0m \u001b[38;5;28;01mdef\u001b[39;00m \u001b[38;5;21m_var\u001b[39m(a, axis\u001b[38;5;241m=\u001b[39m\u001b[38;5;28;01mNone\u001b[39;00m, dtype\u001b[38;5;241m=\u001b[39m\u001b[38;5;28;01mNone\u001b[39;00m, out\u001b[38;5;241m=\u001b[39m\u001b[38;5;28;01mNone\u001b[39;00m, ddof\u001b[38;5;241m=\u001b[39m\u001b[38;5;241m0\u001b[39m, keepdims\u001b[38;5;241m=\u001b[39m\u001b[38;5;28;01mFalse\u001b[39;00m, \u001b[38;5;241m*\u001b[39m,\n\u001b[0;32m    199\u001b[0m          where\u001b[38;5;241m=\u001b[39m\u001b[38;5;28;01mTrue\u001b[39;00m):\n\u001b[0;32m    200\u001b[0m     arr \u001b[38;5;241m=\u001b[39m asanyarray(a)\n\u001b[1;32m--> 202\u001b[0m     rcount \u001b[38;5;241m=\u001b[39m \u001b[43m_count_reduce_items\u001b[49m\u001b[43m(\u001b[49m\u001b[43marr\u001b[49m\u001b[43m,\u001b[49m\u001b[43m \u001b[49m\u001b[43maxis\u001b[49m\u001b[43m,\u001b[49m\u001b[43m \u001b[49m\u001b[43mkeepdims\u001b[49m\u001b[38;5;241;43m=\u001b[39;49m\u001b[43mkeepdims\u001b[49m\u001b[43m,\u001b[49m\u001b[43m \u001b[49m\u001b[43mwhere\u001b[49m\u001b[38;5;241;43m=\u001b[39;49m\u001b[43mwhere\u001b[49m\u001b[43m)\u001b[49m\n\u001b[0;32m    203\u001b[0m     \u001b[38;5;66;03m# Make this warning show up on top.\u001b[39;00m\n\u001b[0;32m    204\u001b[0m     \u001b[38;5;28;01mif\u001b[39;00m ddof \u001b[38;5;241m>\u001b[39m\u001b[38;5;241m=\u001b[39m rcount \u001b[38;5;28;01mif\u001b[39;00m where \u001b[38;5;129;01mis\u001b[39;00m \u001b[38;5;28;01mTrue\u001b[39;00m \u001b[38;5;28;01melse\u001b[39;00m umr_any(ddof \u001b[38;5;241m>\u001b[39m\u001b[38;5;241m=\u001b[39m rcount, axis\u001b[38;5;241m=\u001b[39m\u001b[38;5;28;01mNone\u001b[39;00m):\n",
      "File \u001b[1;32mc:\\users\\ryanc\\appdata\\local\\programs\\python\\python38\\lib\\site-packages\\numpy\\core\\_methods.py:77\u001b[0m, in \u001b[0;36m_count_reduce_items\u001b[1;34m(arr, axis, keepdims, where)\u001b[0m\n\u001b[0;32m     75\u001b[0m     items \u001b[38;5;241m=\u001b[39m \u001b[38;5;241m1\u001b[39m\n\u001b[0;32m     76\u001b[0m     \u001b[38;5;28;01mfor\u001b[39;00m ax \u001b[38;5;129;01min\u001b[39;00m axis:\n\u001b[1;32m---> 77\u001b[0m         items \u001b[38;5;241m*\u001b[39m\u001b[38;5;241m=\u001b[39m arr\u001b[38;5;241m.\u001b[39mshape[\u001b[43mmu\u001b[49m\u001b[38;5;241;43m.\u001b[39;49m\u001b[43mnormalize_axis_index\u001b[49m\u001b[43m(\u001b[49m\u001b[43max\u001b[49m\u001b[43m,\u001b[49m\u001b[43m \u001b[49m\u001b[43marr\u001b[49m\u001b[38;5;241;43m.\u001b[39;49m\u001b[43mndim\u001b[49m\u001b[43m)\u001b[49m]\n\u001b[0;32m     78\u001b[0m     items \u001b[38;5;241m=\u001b[39m nt\u001b[38;5;241m.\u001b[39mintp(items)\n\u001b[0;32m     79\u001b[0m \u001b[38;5;28;01melse\u001b[39;00m:\n\u001b[0;32m     80\u001b[0m     \u001b[38;5;66;03m# TODO: Optimize case when `where` is broadcast along a non-reduction\u001b[39;00m\n\u001b[0;32m     81\u001b[0m     \u001b[38;5;66;03m# axis and full sum is more excessive than needed.\u001b[39;00m\n\u001b[0;32m     82\u001b[0m \n\u001b[0;32m     83\u001b[0m     \u001b[38;5;66;03m# guarded to protect circular imports\u001b[39;00m\n",
      "\u001b[1;31mAxisError\u001b[0m: axis 0 is out of bounds for array of dimension 0"
     ]
    }
   ],
   "source": [
    "# # Calculate the variance of each feature\n",
    "# variances = np.var(X_sample, axis=0)\n",
    "\n",
    "# # Select the top N features with the highest variance\n",
    "# N = 10000  # adjust this value to select more or fewer features\n",
    "# selected_features = np.argsort(variances)[::-1][:N]\n",
    "\n",
    "# # Select the corresponding columns from the data matrix\n",
    "# X_selected = X_sample[:, selected_features]"
   ]
  },
  {
   "cell_type": "code",
   "execution_count": 79,
   "id": "2c407b5f-3b45-444b-8bec-44d327a6afe3",
   "metadata": {},
   "outputs": [
    {
     "ename": "MemoryError",
     "evalue": "Unable to allocate 6.91 GiB for an array with shape (3145, 589956) and data type float32",
     "output_type": "error",
     "traceback": [
      "\u001b[1;31m---------------------------------------------------------------------------\u001b[0m",
      "\u001b[1;31mMemoryError\u001b[0m                               Traceback (most recent call last)",
      "Cell \u001b[1;32mIn[79], line 1\u001b[0m\n\u001b[1;32m----> 1\u001b[0m chi_score \u001b[38;5;241m=\u001b[39m calinski_harabasz_score(\u001b[43mX_sample\u001b[49m\u001b[38;5;241;43m.\u001b[39;49m\u001b[43mtoarray\u001b[49m\u001b[43m(\u001b[49m\u001b[43m)\u001b[49m, labels)\n\u001b[0;32m      2\u001b[0m \u001b[38;5;28mprint\u001b[39m(\u001b[38;5;124m\"\u001b[39m\u001b[38;5;124mCalinski-Harabasz Index:\u001b[39m\u001b[38;5;124m\"\u001b[39m, chi_score)\n",
      "File \u001b[1;32mc:\\users\\ryanc\\appdata\\local\\programs\\python\\python38\\lib\\site-packages\\scipy\\sparse\\_compressed.py:1051\u001b[0m, in \u001b[0;36m_cs_matrix.toarray\u001b[1;34m(self, order, out)\u001b[0m\n\u001b[0;32m   1049\u001b[0m \u001b[38;5;28;01mif\u001b[39;00m out \u001b[38;5;129;01mis\u001b[39;00m \u001b[38;5;28;01mNone\u001b[39;00m \u001b[38;5;129;01mand\u001b[39;00m order \u001b[38;5;129;01mis\u001b[39;00m \u001b[38;5;28;01mNone\u001b[39;00m:\n\u001b[0;32m   1050\u001b[0m     order \u001b[38;5;241m=\u001b[39m \u001b[38;5;28mself\u001b[39m\u001b[38;5;241m.\u001b[39m_swap(\u001b[38;5;124m'\u001b[39m\u001b[38;5;124mcf\u001b[39m\u001b[38;5;124m'\u001b[39m)[\u001b[38;5;241m0\u001b[39m]\n\u001b[1;32m-> 1051\u001b[0m out \u001b[38;5;241m=\u001b[39m \u001b[38;5;28;43mself\u001b[39;49m\u001b[38;5;241;43m.\u001b[39;49m\u001b[43m_process_toarray_args\u001b[49m\u001b[43m(\u001b[49m\u001b[43morder\u001b[49m\u001b[43m,\u001b[49m\u001b[43m \u001b[49m\u001b[43mout\u001b[49m\u001b[43m)\u001b[49m\n\u001b[0;32m   1052\u001b[0m \u001b[38;5;28;01mif\u001b[39;00m \u001b[38;5;129;01mnot\u001b[39;00m (out\u001b[38;5;241m.\u001b[39mflags\u001b[38;5;241m.\u001b[39mc_contiguous \u001b[38;5;129;01mor\u001b[39;00m out\u001b[38;5;241m.\u001b[39mflags\u001b[38;5;241m.\u001b[39mf_contiguous):\n\u001b[0;32m   1053\u001b[0m     \u001b[38;5;28;01mraise\u001b[39;00m \u001b[38;5;167;01mValueError\u001b[39;00m(\u001b[38;5;124m'\u001b[39m\u001b[38;5;124mOutput array must be C or F contiguous\u001b[39m\u001b[38;5;124m'\u001b[39m)\n",
      "File \u001b[1;32mc:\\users\\ryanc\\appdata\\local\\programs\\python\\python38\\lib\\site-packages\\scipy\\sparse\\_base.py:1298\u001b[0m, in \u001b[0;36mspmatrix._process_toarray_args\u001b[1;34m(self, order, out)\u001b[0m\n\u001b[0;32m   1296\u001b[0m     \u001b[38;5;28;01mreturn\u001b[39;00m out\n\u001b[0;32m   1297\u001b[0m \u001b[38;5;28;01melse\u001b[39;00m:\n\u001b[1;32m-> 1298\u001b[0m     \u001b[38;5;28;01mreturn\u001b[39;00m \u001b[43mnp\u001b[49m\u001b[38;5;241;43m.\u001b[39;49m\u001b[43mzeros\u001b[49m\u001b[43m(\u001b[49m\u001b[38;5;28;43mself\u001b[39;49m\u001b[38;5;241;43m.\u001b[39;49m\u001b[43mshape\u001b[49m\u001b[43m,\u001b[49m\u001b[43m \u001b[49m\u001b[43mdtype\u001b[49m\u001b[38;5;241;43m=\u001b[39;49m\u001b[38;5;28;43mself\u001b[39;49m\u001b[38;5;241;43m.\u001b[39;49m\u001b[43mdtype\u001b[49m\u001b[43m,\u001b[49m\u001b[43m \u001b[49m\u001b[43morder\u001b[49m\u001b[38;5;241;43m=\u001b[39;49m\u001b[43morder\u001b[49m\u001b[43m)\u001b[49m\n",
      "\u001b[1;31mMemoryError\u001b[0m: Unable to allocate 6.91 GiB for an array with shape (3145, 589956) and data type float32"
     ]
    }
   ],
   "source": [
    "chi_score = calinski_harabasz_score(X_sample.toarray(), labels)\n",
    "print(\"Calinski-Harabasz Index:\", chi_score)"
   ]
  },
  {
   "cell_type": "code",
   "execution_count": null,
   "id": "b2316627-4710-4976-a760-b56f62a0bc5a",
   "metadata": {},
   "outputs": [],
   "source": [
    "# corpus = Sparse2Corpus(tfidf_matrix_sparse)\n",
    "\n",
    "# def train_lda(corpus, num_topics, passes):\n",
    "#     lda_model = LdaModel(\n",
    "#         corpus=corpus,\n",
    "#         num_topics=num_topics,\n",
    "#         passes=passes\n",
    "#     )\n",
    "#     lda_model.train(corpus, iterations=passes)\n",
    "\n",
    "# if __name__ == '__main__':\n",
    "#     progress_bar = tqdm(total=15, desc=\"Training LDA\", unit=\"passes\")\n",
    "\n",
    "#     p = multiprocessing.Process(target=train_lda, args=(corpus, 3, 15))\n",
    "#     p.start()\n",
    "\n",
    "#     while p.is_alive():\n",
    "#         progress_bar.update(1)\n",
    "#         time.sleep(1)\n",
    "\n",
    "#     progress_bar.close()"
   ]
  },
  {
   "cell_type": "code",
   "execution_count": null,
   "id": "162e7c74-2e1d-41bb-9b21-89b484656201",
   "metadata": {},
   "outputs": [],
   "source": [
    "# # Load a sample dataset (e.g., 20 Newsgroups)\n",
    "# data = load_files('path/to/20newsgroups')\n",
    "\n",
    "# # Split the data into training and test sets\n",
    "# X_train, X_test, y_train, y_test = train_test_split(data.data, data.target, test_size=0.2, random_state=42)\n",
    "\n",
    "# # Initialize the TF-IDF vectorizer\n",
    "# vectorizer = TfidfVectorizer(stop_words='english')\n",
    "\n",
    "# # Fit the vectorizer to the training data and transform both the training and test data\n",
    "# X_train_tfidf = vectorizer.fit_transform(X_train)\n",
    "# X_test_tfidf = vectorizer.transform(X_test)\n",
    "\n",
    "# # Now you can use the TF-IDF transformed data for classification, clustering, or other tasks\n",
    "# # For example, train a simple classifier\n",
    "# from sklearn.naive_bayes import MultinomialNB\n",
    "# clf = MultinomialNB()\n",
    "# clf.fit(X_train_tfidf, y_train)\n",
    "\n",
    "# # Evaluate the classifier on the test data\n",
    "# print(\"Accuracy:\", clf.score(X_test_tfidf, y_test))"
   ]
  }
 ],
 "metadata": {
  "kernelspec": {
   "display_name": "Python 3 (ipykernel)",
   "language": "python",
   "name": "python3"
  },
  "language_info": {
   "codemirror_mode": {
    "name": "ipython",
    "version": 3
   },
   "file_extension": ".py",
   "mimetype": "text/x-python",
   "name": "python",
   "nbconvert_exporter": "python",
   "pygments_lexer": "ipython3",
   "version": "3.8.5"
  }
 },
 "nbformat": 4,
 "nbformat_minor": 5
}
