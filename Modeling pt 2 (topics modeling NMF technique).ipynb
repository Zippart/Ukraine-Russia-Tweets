{
 "cells": [
  {
   "cell_type": "code",
   "execution_count": 1,
   "id": "ff17efff-e44e-41dc-9cce-4b6882aba3fe",
   "metadata": {},
   "outputs": [],
   "source": [
    "from sklearn.cluster import DBSCAN"
   ]
  },
  {
   "cell_type": "code",
   "execution_count": 2,
   "id": "fa7e6388-2c23-4f18-91d5-2046361a0864",
   "metadata": {},
   "outputs": [],
   "source": [
    "from sklearn.model_selection import GridSearchCV"
   ]
  },
  {
   "cell_type": "code",
   "execution_count": 3,
   "id": "5f76d16f-c8f0-473e-8621-94aa361eea8e",
   "metadata": {},
   "outputs": [],
   "source": [
    "import numpy as np"
   ]
  },
  {
   "cell_type": "code",
   "execution_count": 4,
   "id": "3fcd8336-eac1-433c-ae79-24528d22919b",
   "metadata": {},
   "outputs": [],
   "source": [
    "import pickle"
   ]
  },
  {
   "cell_type": "code",
   "execution_count": 5,
   "id": "3cfd6ceb-8124-4054-b95d-b8657b77bba1",
   "metadata": {},
   "outputs": [],
   "source": [
    "from tqdm import tqdm"
   ]
  },
  {
   "cell_type": "code",
   "execution_count": 6,
   "id": "b0735e5c-c299-4535-a4a1-369864f7a69c",
   "metadata": {},
   "outputs": [],
   "source": [
    "from sklearn.metrics import make_scorer, davies_bouldin_score"
   ]
  },
  {
   "cell_type": "code",
   "execution_count": 7,
   "id": "52b44d9d-614b-44b7-9b61-2987c2584142",
   "metadata": {},
   "outputs": [],
   "source": [
    "from sklearn.cluster import AgglomerativeClustering"
   ]
  },
  {
   "cell_type": "code",
   "execution_count": 10,
   "id": "94fcf7e2-883f-4fd9-b139-28a60feb981a",
   "metadata": {},
   "outputs": [],
   "source": [
    "from scipy.sparse import csr_matrix"
   ]
  },
  {
   "cell_type": "code",
   "execution_count": 14,
   "id": "1d54884a-5f44-4d29-83df-121a08457ba5",
   "metadata": {},
   "outputs": [],
   "source": [
    "# from sklearn.decomposition import PCA"
   ]
  },
  {
   "cell_type": "code",
   "execution_count": null,
   "id": "0b4257f3-eb98-4afa-8c64-2b14c61e1612",
   "metadata": {},
   "outputs": [],
   "source": [
    "# from sklearn.random_projection import GaussianRandomProjection"
   ]
  },
  {
   "cell_type": "code",
   "execution_count": 19,
   "id": "250154c8-3539-4e4f-9e58-2722775d1657",
   "metadata": {},
   "outputs": [],
   "source": [
    "from sklearn.decomposition import NMF"
   ]
  },
  {
   "cell_type": "code",
   "execution_count": 30,
   "id": "9bcf7a58-8279-4ea8-8810-978f04fe495a",
   "metadata": {},
   "outputs": [],
   "source": [
    "import matplotlib.pyplot as plt"
   ]
  },
  {
   "cell_type": "markdown",
   "id": "f8025fe6-72a0-4ef7-b6f5-945843b8ab42",
   "metadata": {},
   "source": [
    "I'll grab my reduced_data variable from the first modeling notebook"
   ]
  },
  {
   "cell_type": "code",
   "execution_count": 8,
   "id": "25a74500-91bb-455b-a0bb-deaaef9b825e",
   "metadata": {},
   "outputs": [],
   "source": [
    "with open('reduced_data.pkl', 'rb') as f:\n",
    "    reduced_data = pickle.load(f)"
   ]
  },
  {
   "cell_type": "markdown",
   "id": "77e49a86-c1d8-414d-b18a-11d500e256ed",
   "metadata": {},
   "source": [
    "NMF can be tricky to hyperparameter tune, but I'll start with default"
   ]
  },
  {
   "cell_type": "code",
   "execution_count": 35,
   "id": "34b4cebc-3f6a-426d-862e-02428af31724",
   "metadata": {},
   "outputs": [
    {
     "data": {
      "text/plain": [
       "(1048587, 2)"
      ]
     },
     "execution_count": 35,
     "metadata": {},
     "output_type": "execute_result"
    }
   ],
   "source": [
    "reduced_data.shape"
   ]
  },
  {
   "cell_type": "code",
   "execution_count": 24,
   "id": "281a1100-3d8c-4841-9893-02a59cb711fb",
   "metadata": {},
   "outputs": [
    {
     "name": "stderr",
     "output_type": "stream",
     "text": [
      "c:\\users\\ryanc\\appdata\\local\\programs\\python\\python38\\lib\\site-packages\\sklearn\\decomposition\\_nmf.py:1710: ConvergenceWarning: Maximum number of iterations 200 reached. Increase it to improve convergence.\n",
      "  warnings.warn(\n"
     ]
    }
   ],
   "source": [
    "nmf = NMF()\n",
    "NMF_data = nmf.fit(abs(reduced_data))"
   ]
  },
  {
   "cell_type": "code",
   "execution_count": 28,
   "id": "b5a7b26c-73c5-4685-9f1e-94af69e584e8",
   "metadata": {},
   "outputs": [
    {
     "name": "stdout",
     "output_type": "stream",
     "text": [
      "[[12.38824335  1.06161523]\n",
      " [ 0.          9.78829717]]\n",
      "[[0.00620148 0.01003745]\n",
      " [0.007045   0.01250455]\n",
      " [0.00464758 0.00707109]\n",
      " ...\n",
      " [0.00945799 0.00812874]\n",
      " [0.00862706 0.00285819]\n",
      " [0.00329689 0.00086048]]\n"
     ]
    }
   ],
   "source": [
    "# Get the topic matrix (H) and the feature matrix (W)\n",
    "topic_matrix = nmf.components_\n",
    "feature_matrix = nmf.transform(abs(reduced_data))\n",
    "\n",
    "# Print the topic matrix and feature matrix\n",
    "print(topic_matrix)\n",
    "print(feature_matrix)"
   ]
  },
  {
   "cell_type": "code",
   "execution_count": 34,
   "id": "c0acf46f-77e3-4921-95e2-2486576a38d1",
   "metadata": {},
   "outputs": [
    {
     "name": "stdout",
     "output_type": "stream",
     "text": [
      "[[12.38824335  1.06161523]\n",
      " [ 0.          9.78829717]]\n",
      "==========\n",
      "(2, 2)\n"
     ]
    }
   ],
   "source": [
    "# Print the topic matrix and feature matrix\n",
    "print(topic_matrix)\n",
    "print('='*10)\n",
    "print(topic_matrix.shape)"
   ]
  },
  {
   "cell_type": "code",
   "execution_count": 33,
   "id": "fbe0ab30-c0cd-4dc2-a487-0086af6af9c2",
   "metadata": {},
   "outputs": [
    {
     "name": "stdout",
     "output_type": "stream",
     "text": [
      "[[0.00620148 0.01003745]\n",
      " [0.007045   0.01250455]\n",
      " [0.00464758 0.00707109]\n",
      " ...\n",
      " [0.00945799 0.00812874]\n",
      " [0.00862706 0.00285819]\n",
      " [0.00329689 0.00086048]]\n",
      "==========\n",
      "(1048587, 2)\n"
     ]
    }
   ],
   "source": [
    "# Print the topic matrix and feature matrix\n",
    "# print(topic_matrix)\n",
    "print(feature_matrix)\n",
    "print('='*10)\n",
    "print(feature_matrix.shape)"
   ]
  },
  {
   "cell_type": "code",
   "execution_count": 36,
   "id": "eb1aa961-f364-4d70-a5a2-811c3f4c693e",
   "metadata": {},
   "outputs": [
    {
     "name": "stdout",
     "output_type": "stream",
     "text": [
      "Topic-Feature Mapping:\n",
      "[334171 172748]\n",
      "Document Topics:\n",
      "[0 1]\n"
     ]
    }
   ],
   "source": [
    "# Topic-feature mapping\n",
    "topic_features = np.argmax(feature_matrix, axis=0)\n",
    "print(\"Topic-Feature Mapping:\")\n",
    "print(topic_features)\n",
    "\n",
    "# Document analysis\n",
    "document_topics = np.argmax(topic_matrix, axis=1)\n",
    "print(\"Document Topics:\")\n",
    "print(document_topics)"
   ]
  },
  {
   "cell_type": "code",
   "execution_count": null,
   "id": "9460e298-b641-41a2-a117-243fcc782066",
   "metadata": {},
   "outputs": [],
   "source": []
  },
  {
   "cell_type": "code",
   "execution_count": 31,
   "id": "93484a1c-067c-43a6-bf54-aa610f360bdc",
   "metadata": {},
   "outputs": [
    {
     "data": {
      "image/png": "[encoded data removed]",
      "text/plain": [
       "<Figure size 640x480 with 2 Axes>"
      ]
     },
     "metadata": {},
     "output_type": "display_data"
    },
    {
     "data": {
      "image/png": "[encoded data removed]",
      "text/plain": [
       "<Figure size 640x480 with 2 Axes>"
      ]
     },
     "metadata": {},
     "output_type": "display_data"
    }
   ],
   "source": [
    "# Visualize topic matrix (H)\n",
    "plt.imshow(topic_matrix, cmap='viridis', interpolation='nearest')\n",
    "plt.title('Topic Matrix (H)')\n",
    "plt.xlabel('Topic Index')\n",
    "plt.ylabel('Feature Index')\n",
    "plt.colorbar()\n",
    "plt.show()\n",
    "\n",
    "# Visualize feature matrix (W)\n",
    "plt.imshow(feature_matrix, cmap='viridis', interpolation='nearest')\n",
    "plt.title('Feature Matrix (W)')\n",
    "plt.xlabel('Sample Index')\n",
    "plt.ylabel('Feature Index')\n",
    "plt.colorbar()\n",
    "plt.show()"
   ]
  },
  {
   "cell_type": "markdown",
   "id": "d866a61c-ec67-4445-bcf3-ef3fdbb4ac49",
   "metadata": {},
   "source": [
    "Something went wrong with my modeling. I only see 2 topics... unfortunately I have a bit of a time crunch, so I'll just stick with my clustering model for now..."
   ]
  },
  {
   "cell_type": "markdown",
   "id": "6b1e3dc8-fe2b-4553-b51b-a261909bae49",
   "metadata": {
    "jp-MarkdownHeadingCollapsed": true
   },
   "source": [
    "# Testing different models scrap"
   ]
  },
  {
   "cell_type": "markdown",
   "id": "7e769f45-28c4-412e-8232-0fbf668047e4",
   "metadata": {},
   "source": [
    "Need to use CSR and Gaussian Random Projection because data is too big, but the numpy needs to be dense still."
   ]
  },
  {
   "cell_type": "code",
   "execution_count": 18,
   "id": "72031c2e-e051-40de-b5f4-5dd44378c52d",
   "metadata": {},
   "outputs": [
    {
     "name": "stderr",
     "output_type": "stream",
     "text": [
      "c:\\users\\ryanc\\appdata\\local\\programs\\python\\python38\\lib\\site-packages\\sklearn\\cluster\\_agglomerative.py:1006: FutureWarning: Attribute `affinity` was deprecated in version 1.2 and will be removed in 1.4. Use `metric` instead\n",
      "  warnings.warn(\n",
      "c:\\users\\ryanc\\appdata\\local\\programs\\python\\python38\\lib\\site-packages\\sklearn\\cluster\\_agglomerative.py:1006: FutureWarning: Attribute `affinity` was deprecated in version 1.2 and will be removed in 1.4. Use `metric` instead\n",
      "  warnings.warn(\n",
      "c:\\users\\ryanc\\appdata\\local\\programs\\python\\python38\\lib\\site-packages\\sklearn\\cluster\\_agglomerative.py:1006: FutureWarning: Attribute `affinity` was deprecated in version 1.2 and will be removed in 1.4. Use `metric` instead\n",
      "  warnings.warn(\n",
      "c:\\users\\ryanc\\appdata\\local\\programs\\python\\python38\\lib\\site-packages\\sklearn\\cluster\\_agglomerative.py:1006: FutureWarning: Attribute `affinity` was deprecated in version 1.2 and will be removed in 1.4. Use `metric` instead\n",
      "  warnings.warn(\n",
      "c:\\users\\ryanc\\appdata\\local\\programs\\python\\python38\\lib\\site-packages\\sklearn\\cluster\\_agglomerative.py:1006: FutureWarning: Attribute `affinity` was deprecated in version 1.2 and will be removed in 1.4. Use `metric` instead\n",
      "  warnings.warn(\n",
      "c:\\users\\ryanc\\appdata\\local\\programs\\python\\python38\\lib\\site-packages\\sklearn\\cluster\\_agglomerative.py:1006: FutureWarning: Attribute `affinity` was deprecated in version 1.2 and will be removed in 1.4. Use `metric` instead\n",
      "  warnings.warn(\n",
      "c:\\users\\ryanc\\appdata\\local\\programs\\python\\python38\\lib\\site-packages\\sklearn\\cluster\\_agglomerative.py:1006: FutureWarning: Attribute `affinity` was deprecated in version 1.2 and will be removed in 1.4. Use `metric` instead\n",
      "  warnings.warn(\n",
      "c:\\users\\ryanc\\appdata\\local\\programs\\python\\python38\\lib\\site-packages\\sklearn\\cluster\\_agglomerative.py:1006: FutureWarning: Attribute `affinity` was deprecated in version 1.2 and will be removed in 1.4. Use `metric` instead\n",
      "  warnings.warn(\n",
      "c:\\users\\ryanc\\appdata\\local\\programs\\python\\python38\\lib\\site-packages\\sklearn\\cluster\\_agglomerative.py:1006: FutureWarning: Attribute `affinity` was deprecated in version 1.2 and will be removed in 1.4. Use `metric` instead\n",
      "  warnings.warn(\n",
      "c:\\users\\ryanc\\appdata\\local\\programs\\python\\python38\\lib\\site-packages\\sklearn\\cluster\\_agglomerative.py:1006: FutureWarning: Attribute `affinity` was deprecated in version 1.2 and will be removed in 1.4. Use `metric` instead\n",
      "  warnings.warn(\n",
      "c:\\users\\ryanc\\appdata\\local\\programs\\python\\python38\\lib\\site-packages\\sklearn\\cluster\\_agglomerative.py:1006: FutureWarning: Attribute `affinity` was deprecated in version 1.2 and will be removed in 1.4. Use `metric` instead\n",
      "  warnings.warn(\n",
      "c:\\users\\ryanc\\appdata\\local\\programs\\python\\python38\\lib\\site-packages\\sklearn\\cluster\\_agglomerative.py:1006: FutureWarning: Attribute `affinity` was deprecated in version 1.2 and will be removed in 1.4. Use `metric` instead\n",
      "  warnings.warn(\n",
      "c:\\users\\ryanc\\appdata\\local\\programs\\python\\python38\\lib\\site-packages\\sklearn\\cluster\\_agglomerative.py:1006: FutureWarning: Attribute `affinity` was deprecated in version 1.2 and will be removed in 1.4. Use `metric` instead\n",
      "  warnings.warn(\n",
      "c:\\users\\ryanc\\appdata\\local\\programs\\python\\python38\\lib\\site-packages\\sklearn\\cluster\\_agglomerative.py:1006: FutureWarning: Attribute `affinity` was deprecated in version 1.2 and will be removed in 1.4. Use `metric` instead\n",
      "  warnings.warn(\n",
      "c:\\users\\ryanc\\appdata\\local\\programs\\python\\python38\\lib\\site-packages\\sklearn\\cluster\\_agglomerative.py:1006: FutureWarning: Attribute `affinity` was deprecated in version 1.2 and will be removed in 1.4. Use `metric` instead\n",
      "  warnings.warn(\n",
      "c:\\users\\ryanc\\appdata\\local\\programs\\python\\python38\\lib\\site-packages\\sklearn\\cluster\\_agglomerative.py:1006: FutureWarning: Attribute `affinity` was deprecated in version 1.2 and will be removed in 1.4. Use `metric` instead\n",
      "  warnings.warn(\n",
      "c:\\users\\ryanc\\appdata\\local\\programs\\python\\python38\\lib\\site-packages\\sklearn\\cluster\\_agglomerative.py:1006: FutureWarning: Attribute `affinity` was deprecated in version 1.2 and will be removed in 1.4. Use `metric` instead\n",
      "  warnings.warn(\n",
      "c:\\users\\ryanc\\appdata\\local\\programs\\python\\python38\\lib\\site-packages\\sklearn\\cluster\\_agglomerative.py:1006: FutureWarning: Attribute `affinity` was deprecated in version 1.2 and will be removed in 1.4. Use `metric` instead\n",
      "  warnings.warn(\n",
      "c:\\users\\ryanc\\appdata\\local\\programs\\python\\python38\\lib\\site-packages\\sklearn\\cluster\\_agglomerative.py:1006: FutureWarning: Attribute `affinity` was deprecated in version 1.2 and will be removed in 1.4. Use `metric` instead\n",
      "  warnings.warn(\n",
      "c:\\users\\ryanc\\appdata\\local\\programs\\python\\python38\\lib\\site-packages\\sklearn\\cluster\\_agglomerative.py:1006: FutureWarning: Attribute `affinity` was deprecated in version 1.2 and will be removed in 1.4. Use `metric` instead\n",
      "  warnings.warn(\n",
      "c:\\users\\ryanc\\appdata\\local\\programs\\python\\python38\\lib\\site-packages\\sklearn\\cluster\\_agglomerative.py:1006: FutureWarning: Attribute `affinity` was deprecated in version 1.2 and will be removed in 1.4. Use `metric` instead\n",
      "  warnings.warn(\n",
      "c:\\users\\ryanc\\appdata\\local\\programs\\python\\python38\\lib\\site-packages\\sklearn\\cluster\\_agglomerative.py:1006: FutureWarning: Attribute `affinity` was deprecated in version 1.2 and will be removed in 1.4. Use `metric` instead\n",
      "  warnings.warn(\n",
      "c:\\users\\ryanc\\appdata\\local\\programs\\python\\python38\\lib\\site-packages\\sklearn\\cluster\\_agglomerative.py:1006: FutureWarning: Attribute `affinity` was deprecated in version 1.2 and will be removed in 1.4. Use `metric` instead\n",
      "  warnings.warn(\n",
      "c:\\users\\ryanc\\appdata\\local\\programs\\python\\python38\\lib\\site-packages\\sklearn\\cluster\\_agglomerative.py:1006: FutureWarning: Attribute `affinity` was deprecated in version 1.2 and will be removed in 1.4. Use `metric` instead\n",
      "  warnings.warn(\n",
      "c:\\users\\ryanc\\appdata\\local\\programs\\python\\python38\\lib\\site-packages\\sklearn\\cluster\\_agglomerative.py:1006: FutureWarning: Attribute `affinity` was deprecated in version 1.2 and will be removed in 1.4. Use `metric` instead\n",
      "  warnings.warn(\n",
      "c:\\users\\ryanc\\appdata\\local\\programs\\python\\python38\\lib\\site-packages\\sklearn\\cluster\\_agglomerative.py:1006: FutureWarning: Attribute `affinity` was deprecated in version 1.2 and will be removed in 1.4. Use `metric` instead\n",
      "  warnings.warn(\n",
      "c:\\users\\ryanc\\appdata\\local\\programs\\python\\python38\\lib\\site-packages\\sklearn\\cluster\\_agglomerative.py:1006: FutureWarning: Attribute `affinity` was deprecated in version 1.2 and will be removed in 1.4. Use `metric` instead\n",
      "  warnings.warn(\n",
      "c:\\users\\ryanc\\appdata\\local\\programs\\python\\python38\\lib\\site-packages\\sklearn\\cluster\\_agglomerative.py:1006: FutureWarning: Attribute `affinity` was deprecated in version 1.2 and will be removed in 1.4. Use `metric` instead\n",
      "  warnings.warn(\n",
      "c:\\users\\ryanc\\appdata\\local\\programs\\python\\python38\\lib\\site-packages\\sklearn\\cluster\\_agglomerative.py:1006: FutureWarning: Attribute `affinity` was deprecated in version 1.2 and will be removed in 1.4. Use `metric` instead\n",
      "  warnings.warn(\n",
      "c:\\users\\ryanc\\appdata\\local\\programs\\python\\python38\\lib\\site-packages\\sklearn\\cluster\\_agglomerative.py:1006: FutureWarning: Attribute `affinity` was deprecated in version 1.2 and will be removed in 1.4. Use `metric` instead\n",
      "  warnings.warn(\n"
     ]
    },
    {
     "ename": "ValueError",
     "evalue": "\nAll the 30 fits failed.\nIt is very likely that your model is misconfigured.\nYou can try to debug the error by setting error_score='raise'.\n\nBelow are more details about the failures:\n--------------------------------------------------------------------------------\n6 fits failed with the following error:\nTraceback (most recent call last):\n  File \"c:\\users\\ryanc\\appdata\\local\\programs\\python\\python38\\lib\\site-packages\\sklearn\\model_selection\\_validation.py\", line 727, in _fit_and_score\n    estimator.fit(X_train, **fit_params)\n  File \"c:\\users\\ryanc\\appdata\\local\\programs\\python\\python38\\lib\\site-packages\\sklearn\\base.py\", line 1152, in wrapper\n    return fit_method(estimator, *args, **kwargs)\n  File \"c:\\users\\ryanc\\appdata\\local\\programs\\python\\python38\\lib\\site-packages\\sklearn\\cluster\\_agglomerative.py\", line 979, in fit\n    return self._fit(X)\n  File \"c:\\users\\ryanc\\appdata\\local\\programs\\python\\python38\\lib\\site-packages\\sklearn\\cluster\\_agglomerative.py\", line 1071, in _fit\n    out = memory.cache(tree_builder)(\n  File \"c:\\users\\ryanc\\appdata\\local\\programs\\python\\python38\\lib\\site-packages\\joblib\\memory.py\", line 353, in __call__\n    return self.func(*args, **kwargs)\n  File \"c:\\users\\ryanc\\appdata\\local\\programs\\python\\python38\\lib\\site-packages\\sklearn\\utils\\_param_validation.py\", line 187, in wrapper\n    return func(*args, **kwargs)\n  File \"c:\\users\\ryanc\\appdata\\local\\programs\\python\\python38\\lib\\site-packages\\sklearn\\cluster\\_agglomerative.py\", line 295, in ward_tree\n    out = hierarchy.ward(X)\n  File \"c:\\users\\ryanc\\appdata\\local\\programs\\python\\python38\\lib\\site-packages\\scipy\\cluster\\hierarchy.py\", line 834, in ward\n    return linkage(y, method='ward', metric='euclidean')\n  File \"c:\\users\\ryanc\\appdata\\local\\programs\\python\\python38\\lib\\site-packages\\scipy\\cluster\\hierarchy.py\", line 1060, in linkage\n    y = distance.pdist(y, metric)\n  File \"c:\\users\\ryanc\\appdata\\local\\programs\\python\\python38\\lib\\site-packages\\scipy\\spatial\\distance.py\", line 2242, in pdist\n    return pdist_fn(X, out=out, **kwargs)\nnumpy.core._exceptions._ArrayMemoryError: Unable to allocate 2.56 TiB for an array with shape (351850180146,) and data type float64\n\n--------------------------------------------------------------------------------\n9 fits failed with the following error:\nTraceback (most recent call last):\n  File \"c:\\users\\ryanc\\appdata\\local\\programs\\python\\python38\\lib\\site-packages\\sklearn\\model_selection\\_validation.py\", line 727, in _fit_and_score\n    estimator.fit(X_train, **fit_params)\n  File \"c:\\users\\ryanc\\appdata\\local\\programs\\python\\python38\\lib\\site-packages\\sklearn\\base.py\", line 1152, in wrapper\n    return fit_method(estimator, *args, **kwargs)\n  File \"c:\\users\\ryanc\\appdata\\local\\programs\\python\\python38\\lib\\site-packages\\sklearn\\cluster\\_agglomerative.py\", line 979, in fit\n    return self._fit(X)\n  File \"c:\\users\\ryanc\\appdata\\local\\programs\\python\\python38\\lib\\site-packages\\sklearn\\cluster\\_agglomerative.py\", line 1071, in _fit\n    out = memory.cache(tree_builder)(\n  File \"c:\\users\\ryanc\\appdata\\local\\programs\\python\\python38\\lib\\site-packages\\joblib\\memory.py\", line 353, in __call__\n    return self.func(*args, **kwargs)\n  File \"c:\\users\\ryanc\\appdata\\local\\programs\\python\\python38\\lib\\site-packages\\sklearn\\utils\\_param_validation.py\", line 187, in wrapper\n    return func(*args, **kwargs)\n  File \"c:\\users\\ryanc\\appdata\\local\\programs\\python\\python38\\lib\\site-packages\\sklearn\\cluster\\_agglomerative.py\", line 295, in ward_tree\n    out = hierarchy.ward(X)\n  File \"c:\\users\\ryanc\\appdata\\local\\programs\\python\\python38\\lib\\site-packages\\scipy\\cluster\\hierarchy.py\", line 834, in ward\n    return linkage(y, method='ward', metric='euclidean')\n  File \"c:\\users\\ryanc\\appdata\\local\\programs\\python\\python38\\lib\\site-packages\\scipy\\cluster\\hierarchy.py\", line 1060, in linkage\n    y = distance.pdist(y, metric)\n  File \"c:\\users\\ryanc\\appdata\\local\\programs\\python\\python38\\lib\\site-packages\\scipy\\spatial\\distance.py\", line 2242, in pdist\n    return pdist_fn(X, out=out, **kwargs)\nnumpy.core._exceptions._ArrayMemoryError: Unable to allocate 2.56 TiB for an array with shape (351851019015,) and data type float64\n\n--------------------------------------------------------------------------------\n6 fits failed with the following error:\nTraceback (most recent call last):\n  File \"c:\\users\\ryanc\\appdata\\local\\programs\\python\\python38\\lib\\site-packages\\sklearn\\model_selection\\_validation.py\", line 727, in _fit_and_score\n    estimator.fit(X_train, **fit_params)\n  File \"c:\\users\\ryanc\\appdata\\local\\programs\\python\\python38\\lib\\site-packages\\sklearn\\base.py\", line 1152, in wrapper\n    return fit_method(estimator, *args, **kwargs)\n  File \"c:\\users\\ryanc\\appdata\\local\\programs\\python\\python38\\lib\\site-packages\\sklearn\\cluster\\_agglomerative.py\", line 979, in fit\n    return self._fit(X)\n  File \"c:\\users\\ryanc\\appdata\\local\\programs\\python\\python38\\lib\\site-packages\\sklearn\\cluster\\_agglomerative.py\", line 1071, in _fit\n    out = memory.cache(tree_builder)(\n  File \"c:\\users\\ryanc\\appdata\\local\\programs\\python\\python38\\lib\\site-packages\\joblib\\memory.py\", line 353, in __call__\n    return self.func(*args, **kwargs)\n  File \"c:\\users\\ryanc\\appdata\\local\\programs\\python\\python38\\lib\\site-packages\\sklearn\\cluster\\_agglomerative.py\", line 688, in _complete_linkage\n    return linkage_tree(*args, **kwargs)\n  File \"c:\\users\\ryanc\\appdata\\local\\programs\\python\\python38\\lib\\site-packages\\sklearn\\cluster\\_agglomerative.py\", line 567, in linkage_tree\n    out = hierarchy.linkage(X, method=linkage, metric=affinity)\n  File \"c:\\users\\ryanc\\appdata\\local\\programs\\python\\python38\\lib\\site-packages\\scipy\\cluster\\hierarchy.py\", line 1060, in linkage\n    y = distance.pdist(y, metric)\n  File \"c:\\users\\ryanc\\appdata\\local\\programs\\python\\python38\\lib\\site-packages\\scipy\\spatial\\distance.py\", line 2242, in pdist\n    return pdist_fn(X, out=out, **kwargs)\nnumpy.core._exceptions._ArrayMemoryError: Unable to allocate 2.56 TiB for an array with shape (351850180146,) and data type float64\n\n--------------------------------------------------------------------------------\n9 fits failed with the following error:\nTraceback (most recent call last):\n  File \"c:\\users\\ryanc\\appdata\\local\\programs\\python\\python38\\lib\\site-packages\\sklearn\\model_selection\\_validation.py\", line 727, in _fit_and_score\n    estimator.fit(X_train, **fit_params)\n  File \"c:\\users\\ryanc\\appdata\\local\\programs\\python\\python38\\lib\\site-packages\\sklearn\\base.py\", line 1152, in wrapper\n    return fit_method(estimator, *args, **kwargs)\n  File \"c:\\users\\ryanc\\appdata\\local\\programs\\python\\python38\\lib\\site-packages\\sklearn\\cluster\\_agglomerative.py\", line 979, in fit\n    return self._fit(X)\n  File \"c:\\users\\ryanc\\appdata\\local\\programs\\python\\python38\\lib\\site-packages\\sklearn\\cluster\\_agglomerative.py\", line 1071, in _fit\n    out = memory.cache(tree_builder)(\n  File \"c:\\users\\ryanc\\appdata\\local\\programs\\python\\python38\\lib\\site-packages\\joblib\\memory.py\", line 353, in __call__\n    return self.func(*args, **kwargs)\n  File \"c:\\users\\ryanc\\appdata\\local\\programs\\python\\python38\\lib\\site-packages\\sklearn\\cluster\\_agglomerative.py\", line 688, in _complete_linkage\n    return linkage_tree(*args, **kwargs)\n  File \"c:\\users\\ryanc\\appdata\\local\\programs\\python\\python38\\lib\\site-packages\\sklearn\\cluster\\_agglomerative.py\", line 567, in linkage_tree\n    out = hierarchy.linkage(X, method=linkage, metric=affinity)\n  File \"c:\\users\\ryanc\\appdata\\local\\programs\\python\\python38\\lib\\site-packages\\scipy\\cluster\\hierarchy.py\", line 1060, in linkage\n    y = distance.pdist(y, metric)\n  File \"c:\\users\\ryanc\\appdata\\local\\programs\\python\\python38\\lib\\site-packages\\scipy\\spatial\\distance.py\", line 2242, in pdist\n    return pdist_fn(X, out=out, **kwargs)\nnumpy.core._exceptions._ArrayMemoryError: Unable to allocate 2.56 TiB for an array with shape (351851019015,) and data type float64\n",
     "output_type": "error",
     "traceback": [
      "\u001b[1;31m---------------------------------------------------------------------------\u001b[0m",
      "\u001b[1;31mValueError\u001b[0m                                Traceback (most recent call last)",
      "Cell \u001b[1;32mIn[18], line 22\u001b[0m\n\u001b[0;32m     20\u001b[0m \u001b[38;5;66;03m# Perform grid search with nested cross-validation\u001b[39;00m\n\u001b[0;32m     21\u001b[0m grid_search \u001b[38;5;241m=\u001b[39m GridSearchCV(AgglomerativeClustering(), param_grid, cv\u001b[38;5;241m=\u001b[39m\u001b[38;5;241m5\u001b[39m, scoring\u001b[38;5;241m=\u001b[39mmake_scorer(davies_bouldin_score))\n\u001b[1;32m---> 22\u001b[0m \u001b[43mgrid_search\u001b[49m\u001b[38;5;241;43m.\u001b[39;49m\u001b[43mfit\u001b[49m\u001b[43m(\u001b[49m\u001b[43mreduced_data_rp\u001b[49m\u001b[43m)\u001b[49m\n\u001b[0;32m     24\u001b[0m \u001b[38;5;66;03m# Print the best hyperparameters and score\u001b[39;00m\n\u001b[0;32m     25\u001b[0m \u001b[38;5;28mprint\u001b[39m(\u001b[38;5;124m\"\u001b[39m\u001b[38;5;124mBest hyperparameters:\u001b[39m\u001b[38;5;124m\"\u001b[39m, grid_search\u001b[38;5;241m.\u001b[39mbest_params_)\n",
      "File \u001b[1;32mc:\\users\\ryanc\\appdata\\local\\programs\\python\\python38\\lib\\site-packages\\sklearn\\base.py:1152\u001b[0m, in \u001b[0;36m_fit_context.<locals>.decorator.<locals>.wrapper\u001b[1;34m(estimator, *args, **kwargs)\u001b[0m\n\u001b[0;32m   1145\u001b[0m     estimator\u001b[38;5;241m.\u001b[39m_validate_params()\n\u001b[0;32m   1147\u001b[0m \u001b[38;5;28;01mwith\u001b[39;00m config_context(\n\u001b[0;32m   1148\u001b[0m     skip_parameter_validation\u001b[38;5;241m=\u001b[39m(\n\u001b[0;32m   1149\u001b[0m         prefer_skip_nested_validation \u001b[38;5;129;01mor\u001b[39;00m global_skip_validation\n\u001b[0;32m   1150\u001b[0m     )\n\u001b[0;32m   1151\u001b[0m ):\n\u001b[1;32m-> 1152\u001b[0m     \u001b[38;5;28;01mreturn\u001b[39;00m \u001b[43mfit_method\u001b[49m\u001b[43m(\u001b[49m\u001b[43mestimator\u001b[49m\u001b[43m,\u001b[49m\u001b[43m \u001b[49m\u001b[38;5;241;43m*\u001b[39;49m\u001b[43margs\u001b[49m\u001b[43m,\u001b[49m\u001b[43m \u001b[49m\u001b[38;5;241;43m*\u001b[39;49m\u001b[38;5;241;43m*\u001b[39;49m\u001b[43mkwargs\u001b[49m\u001b[43m)\u001b[49m\n",
      "File \u001b[1;32mc:\\users\\ryanc\\appdata\\local\\programs\\python\\python38\\lib\\site-packages\\sklearn\\model_selection\\_search.py:898\u001b[0m, in \u001b[0;36mBaseSearchCV.fit\u001b[1;34m(self, X, y, groups, **fit_params)\u001b[0m\n\u001b[0;32m    892\u001b[0m     results \u001b[38;5;241m=\u001b[39m \u001b[38;5;28mself\u001b[39m\u001b[38;5;241m.\u001b[39m_format_results(\n\u001b[0;32m    893\u001b[0m         all_candidate_params, n_splits, all_out, all_more_results\n\u001b[0;32m    894\u001b[0m     )\n\u001b[0;32m    896\u001b[0m     \u001b[38;5;28;01mreturn\u001b[39;00m results\n\u001b[1;32m--> 898\u001b[0m \u001b[38;5;28;43mself\u001b[39;49m\u001b[38;5;241;43m.\u001b[39;49m\u001b[43m_run_search\u001b[49m\u001b[43m(\u001b[49m\u001b[43mevaluate_candidates\u001b[49m\u001b[43m)\u001b[49m\n\u001b[0;32m    900\u001b[0m \u001b[38;5;66;03m# multimetric is determined here because in the case of a callable\u001b[39;00m\n\u001b[0;32m    901\u001b[0m \u001b[38;5;66;03m# self.scoring the return type is only known after calling\u001b[39;00m\n\u001b[0;32m    902\u001b[0m first_test_score \u001b[38;5;241m=\u001b[39m all_out[\u001b[38;5;241m0\u001b[39m][\u001b[38;5;124m\"\u001b[39m\u001b[38;5;124mtest_scores\u001b[39m\u001b[38;5;124m\"\u001b[39m]\n",
      "File \u001b[1;32mc:\\users\\ryanc\\appdata\\local\\programs\\python\\python38\\lib\\site-packages\\sklearn\\model_selection\\_search.py:1422\u001b[0m, in \u001b[0;36mGridSearchCV._run_search\u001b[1;34m(self, evaluate_candidates)\u001b[0m\n\u001b[0;32m   1420\u001b[0m \u001b[38;5;28;01mdef\u001b[39;00m \u001b[38;5;21m_run_search\u001b[39m(\u001b[38;5;28mself\u001b[39m, evaluate_candidates):\n\u001b[0;32m   1421\u001b[0m \u001b[38;5;250m    \u001b[39m\u001b[38;5;124;03m\"\"\"Search all candidates in param_grid\"\"\"\u001b[39;00m\n\u001b[1;32m-> 1422\u001b[0m     \u001b[43mevaluate_candidates\u001b[49m\u001b[43m(\u001b[49m\u001b[43mParameterGrid\u001b[49m\u001b[43m(\u001b[49m\u001b[38;5;28;43mself\u001b[39;49m\u001b[38;5;241;43m.\u001b[39;49m\u001b[43mparam_grid\u001b[49m\u001b[43m)\u001b[49m\u001b[43m)\u001b[49m\n",
      "File \u001b[1;32mc:\\users\\ryanc\\appdata\\local\\programs\\python\\python38\\lib\\site-packages\\sklearn\\model_selection\\_search.py:875\u001b[0m, in \u001b[0;36mBaseSearchCV.fit.<locals>.evaluate_candidates\u001b[1;34m(candidate_params, cv, more_results)\u001b[0m\n\u001b[0;32m    868\u001b[0m \u001b[38;5;28;01melif\u001b[39;00m \u001b[38;5;28mlen\u001b[39m(out) \u001b[38;5;241m!=\u001b[39m n_candidates \u001b[38;5;241m*\u001b[39m n_splits:\n\u001b[0;32m    869\u001b[0m     \u001b[38;5;28;01mraise\u001b[39;00m \u001b[38;5;167;01mValueError\u001b[39;00m(\n\u001b[0;32m    870\u001b[0m         \u001b[38;5;124m\"\u001b[39m\u001b[38;5;124mcv.split and cv.get_n_splits returned \u001b[39m\u001b[38;5;124m\"\u001b[39m\n\u001b[0;32m    871\u001b[0m         \u001b[38;5;124m\"\u001b[39m\u001b[38;5;124minconsistent results. Expected \u001b[39m\u001b[38;5;132;01m{}\u001b[39;00m\u001b[38;5;124m \u001b[39m\u001b[38;5;124m\"\u001b[39m\n\u001b[0;32m    872\u001b[0m         \u001b[38;5;124m\"\u001b[39m\u001b[38;5;124msplits, got \u001b[39m\u001b[38;5;132;01m{}\u001b[39;00m\u001b[38;5;124m\"\u001b[39m\u001b[38;5;241m.\u001b[39mformat(n_splits, \u001b[38;5;28mlen\u001b[39m(out) \u001b[38;5;241m/\u001b[39m\u001b[38;5;241m/\u001b[39m n_candidates)\n\u001b[0;32m    873\u001b[0m     )\n\u001b[1;32m--> 875\u001b[0m \u001b[43m_warn_or_raise_about_fit_failures\u001b[49m\u001b[43m(\u001b[49m\u001b[43mout\u001b[49m\u001b[43m,\u001b[49m\u001b[43m \u001b[49m\u001b[38;5;28;43mself\u001b[39;49m\u001b[38;5;241;43m.\u001b[39;49m\u001b[43merror_score\u001b[49m\u001b[43m)\u001b[49m\n\u001b[0;32m    877\u001b[0m \u001b[38;5;66;03m# For callable self.scoring, the return type is only know after\u001b[39;00m\n\u001b[0;32m    878\u001b[0m \u001b[38;5;66;03m# calling. If the return type is a dictionary, the error scores\u001b[39;00m\n\u001b[0;32m    879\u001b[0m \u001b[38;5;66;03m# can now be inserted with the correct key. The type checking\u001b[39;00m\n\u001b[0;32m    880\u001b[0m \u001b[38;5;66;03m# of out will be done in `_insert_error_scores`.\u001b[39;00m\n\u001b[0;32m    881\u001b[0m \u001b[38;5;28;01mif\u001b[39;00m \u001b[38;5;28mcallable\u001b[39m(\u001b[38;5;28mself\u001b[39m\u001b[38;5;241m.\u001b[39mscoring):\n",
      "File \u001b[1;32mc:\\users\\ryanc\\appdata\\local\\programs\\python\\python38\\lib\\site-packages\\sklearn\\model_selection\\_validation.py:414\u001b[0m, in \u001b[0;36m_warn_or_raise_about_fit_failures\u001b[1;34m(results, error_score)\u001b[0m\n\u001b[0;32m    407\u001b[0m \u001b[38;5;28;01mif\u001b[39;00m num_failed_fits \u001b[38;5;241m==\u001b[39m num_fits:\n\u001b[0;32m    408\u001b[0m     all_fits_failed_message \u001b[38;5;241m=\u001b[39m (\n\u001b[0;32m    409\u001b[0m         \u001b[38;5;124mf\u001b[39m\u001b[38;5;124m\"\u001b[39m\u001b[38;5;130;01m\\n\u001b[39;00m\u001b[38;5;124mAll the \u001b[39m\u001b[38;5;132;01m{\u001b[39;00mnum_fits\u001b[38;5;132;01m}\u001b[39;00m\u001b[38;5;124m fits failed.\u001b[39m\u001b[38;5;130;01m\\n\u001b[39;00m\u001b[38;5;124m\"\u001b[39m\n\u001b[0;32m    410\u001b[0m         \u001b[38;5;124m\"\u001b[39m\u001b[38;5;124mIt is very likely that your model is misconfigured.\u001b[39m\u001b[38;5;130;01m\\n\u001b[39;00m\u001b[38;5;124m\"\u001b[39m\n\u001b[0;32m    411\u001b[0m         \u001b[38;5;124m\"\u001b[39m\u001b[38;5;124mYou can try to debug the error by setting error_score=\u001b[39m\u001b[38;5;124m'\u001b[39m\u001b[38;5;124mraise\u001b[39m\u001b[38;5;124m'\u001b[39m\u001b[38;5;124m.\u001b[39m\u001b[38;5;130;01m\\n\u001b[39;00m\u001b[38;5;130;01m\\n\u001b[39;00m\u001b[38;5;124m\"\u001b[39m\n\u001b[0;32m    412\u001b[0m         \u001b[38;5;124mf\u001b[39m\u001b[38;5;124m\"\u001b[39m\u001b[38;5;124mBelow are more details about the failures:\u001b[39m\u001b[38;5;130;01m\\n\u001b[39;00m\u001b[38;5;132;01m{\u001b[39;00mfit_errors_summary\u001b[38;5;132;01m}\u001b[39;00m\u001b[38;5;124m\"\u001b[39m\n\u001b[0;32m    413\u001b[0m     )\n\u001b[1;32m--> 414\u001b[0m     \u001b[38;5;28;01mraise\u001b[39;00m \u001b[38;5;167;01mValueError\u001b[39;00m(all_fits_failed_message)\n\u001b[0;32m    416\u001b[0m \u001b[38;5;28;01melse\u001b[39;00m:\n\u001b[0;32m    417\u001b[0m     some_fits_failed_message \u001b[38;5;241m=\u001b[39m (\n\u001b[0;32m    418\u001b[0m         \u001b[38;5;124mf\u001b[39m\u001b[38;5;124m\"\u001b[39m\u001b[38;5;130;01m\\n\u001b[39;00m\u001b[38;5;132;01m{\u001b[39;00mnum_failed_fits\u001b[38;5;132;01m}\u001b[39;00m\u001b[38;5;124m fits failed out of a total of \u001b[39m\u001b[38;5;132;01m{\u001b[39;00mnum_fits\u001b[38;5;132;01m}\u001b[39;00m\u001b[38;5;124m.\u001b[39m\u001b[38;5;130;01m\\n\u001b[39;00m\u001b[38;5;124m\"\u001b[39m\n\u001b[0;32m    419\u001b[0m         \u001b[38;5;124m\"\u001b[39m\u001b[38;5;124mThe score on these train-test partitions for these parameters\u001b[39m\u001b[38;5;124m\"\u001b[39m\n\u001b[1;32m   (...)\u001b[0m\n\u001b[0;32m    423\u001b[0m         \u001b[38;5;124mf\u001b[39m\u001b[38;5;124m\"\u001b[39m\u001b[38;5;124mBelow are more details about the failures:\u001b[39m\u001b[38;5;130;01m\\n\u001b[39;00m\u001b[38;5;132;01m{\u001b[39;00mfit_errors_summary\u001b[38;5;132;01m}\u001b[39;00m\u001b[38;5;124m\"\u001b[39m\n\u001b[0;32m    424\u001b[0m     )\n",
      "\u001b[1;31mValueError\u001b[0m: \nAll the 30 fits failed.\nIt is very likely that your model is misconfigured.\nYou can try to debug the error by setting error_score='raise'.\n\nBelow are more details about the failures:\n--------------------------------------------------------------------------------\n6 fits failed with the following error:\nTraceback (most recent call last):\n  File \"c:\\users\\ryanc\\appdata\\local\\programs\\python\\python38\\lib\\site-packages\\sklearn\\model_selection\\_validation.py\", line 727, in _fit_and_score\n    estimator.fit(X_train, **fit_params)\n  File \"c:\\users\\ryanc\\appdata\\local\\programs\\python\\python38\\lib\\site-packages\\sklearn\\base.py\", line 1152, in wrapper\n    return fit_method(estimator, *args, **kwargs)\n  File \"c:\\users\\ryanc\\appdata\\local\\programs\\python\\python38\\lib\\site-packages\\sklearn\\cluster\\_agglomerative.py\", line 979, in fit\n    return self._fit(X)\n  File \"c:\\users\\ryanc\\appdata\\local\\programs\\python\\python38\\lib\\site-packages\\sklearn\\cluster\\_agglomerative.py\", line 1071, in _fit\n    out = memory.cache(tree_builder)(\n  File \"c:\\users\\ryanc\\appdata\\local\\programs\\python\\python38\\lib\\site-packages\\joblib\\memory.py\", line 353, in __call__\n    return self.func(*args, **kwargs)\n  File \"c:\\users\\ryanc\\appdata\\local\\programs\\python\\python38\\lib\\site-packages\\sklearn\\utils\\_param_validation.py\", line 187, in wrapper\n    return func(*args, **kwargs)\n  File \"c:\\users\\ryanc\\appdata\\local\\programs\\python\\python38\\lib\\site-packages\\sklearn\\cluster\\_agglomerative.py\", line 295, in ward_tree\n    out = hierarchy.ward(X)\n  File \"c:\\users\\ryanc\\appdata\\local\\programs\\python\\python38\\lib\\site-packages\\scipy\\cluster\\hierarchy.py\", line 834, in ward\n    return linkage(y, method='ward', metric='euclidean')\n  File \"c:\\users\\ryanc\\appdata\\local\\programs\\python\\python38\\lib\\site-packages\\scipy\\cluster\\hierarchy.py\", line 1060, in linkage\n    y = distance.pdist(y, metric)\n  File \"c:\\users\\ryanc\\appdata\\local\\programs\\python\\python38\\lib\\site-packages\\scipy\\spatial\\distance.py\", line 2242, in pdist\n    return pdist_fn(X, out=out, **kwargs)\nnumpy.core._exceptions._ArrayMemoryError: Unable to allocate 2.56 TiB for an array with shape (351850180146,) and data type float64\n\n--------------------------------------------------------------------------------\n9 fits failed with the following error:\nTraceback (most recent call last):\n  File \"c:\\users\\ryanc\\appdata\\local\\programs\\python\\python38\\lib\\site-packages\\sklearn\\model_selection\\_validation.py\", line 727, in _fit_and_score\n    estimator.fit(X_train, **fit_params)\n  File \"c:\\users\\ryanc\\appdata\\local\\programs\\python\\python38\\lib\\site-packages\\sklearn\\base.py\", line 1152, in wrapper\n    return fit_method(estimator, *args, **kwargs)\n  File \"c:\\users\\ryanc\\appdata\\local\\programs\\python\\python38\\lib\\site-packages\\sklearn\\cluster\\_agglomerative.py\", line 979, in fit\n    return self._fit(X)\n  File \"c:\\users\\ryanc\\appdata\\local\\programs\\python\\python38\\lib\\site-packages\\sklearn\\cluster\\_agglomerative.py\", line 1071, in _fit\n    out = memory.cache(tree_builder)(\n  File \"c:\\users\\ryanc\\appdata\\local\\programs\\python\\python38\\lib\\site-packages\\joblib\\memory.py\", line 353, in __call__\n    return self.func(*args, **kwargs)\n  File \"c:\\users\\ryanc\\appdata\\local\\programs\\python\\python38\\lib\\site-packages\\sklearn\\utils\\_param_validation.py\", line 187, in wrapper\n    return func(*args, **kwargs)\n  File \"c:\\users\\ryanc\\appdata\\local\\programs\\python\\python38\\lib\\site-packages\\sklearn\\cluster\\_agglomerative.py\", line 295, in ward_tree\n    out = hierarchy.ward(X)\n  File \"c:\\users\\ryanc\\appdata\\local\\programs\\python\\python38\\lib\\site-packages\\scipy\\cluster\\hierarchy.py\", line 834, in ward\n    return linkage(y, method='ward', metric='euclidean')\n  File \"c:\\users\\ryanc\\appdata\\local\\programs\\python\\python38\\lib\\site-packages\\scipy\\cluster\\hierarchy.py\", line 1060, in linkage\n    y = distance.pdist(y, metric)\n  File \"c:\\users\\ryanc\\appdata\\local\\programs\\python\\python38\\lib\\site-packages\\scipy\\spatial\\distance.py\", line 2242, in pdist\n    return pdist_fn(X, out=out, **kwargs)\nnumpy.core._exceptions._ArrayMemoryError: Unable to allocate 2.56 TiB for an array with shape (351851019015,) and data type float64\n\n--------------------------------------------------------------------------------\n6 fits failed with the following error:\nTraceback (most recent call last):\n  File \"c:\\users\\ryanc\\appdata\\local\\programs\\python\\python38\\lib\\site-packages\\sklearn\\model_selection\\_validation.py\", line 727, in _fit_and_score\n    estimator.fit(X_train, **fit_params)\n  File \"c:\\users\\ryanc\\appdata\\local\\programs\\python\\python38\\lib\\site-packages\\sklearn\\base.py\", line 1152, in wrapper\n    return fit_method(estimator, *args, **kwargs)\n  File \"c:\\users\\ryanc\\appdata\\local\\programs\\python\\python38\\lib\\site-packages\\sklearn\\cluster\\_agglomerative.py\", line 979, in fit\n    return self._fit(X)\n  File \"c:\\users\\ryanc\\appdata\\local\\programs\\python\\python38\\lib\\site-packages\\sklearn\\cluster\\_agglomerative.py\", line 1071, in _fit\n    out = memory.cache(tree_builder)(\n  File \"c:\\users\\ryanc\\appdata\\local\\programs\\python\\python38\\lib\\site-packages\\joblib\\memory.py\", line 353, in __call__\n    return self.func(*args, **kwargs)\n  File \"c:\\users\\ryanc\\appdata\\local\\programs\\python\\python38\\lib\\site-packages\\sklearn\\cluster\\_agglomerative.py\", line 688, in _complete_linkage\n    return linkage_tree(*args, **kwargs)\n  File \"c:\\users\\ryanc\\appdata\\local\\programs\\python\\python38\\lib\\site-packages\\sklearn\\cluster\\_agglomerative.py\", line 567, in linkage_tree\n    out = hierarchy.linkage(X, method=linkage, metric=affinity)\n  File \"c:\\users\\ryanc\\appdata\\local\\programs\\python\\python38\\lib\\site-packages\\scipy\\cluster\\hierarchy.py\", line 1060, in linkage\n    y = distance.pdist(y, metric)\n  File \"c:\\users\\ryanc\\appdata\\local\\programs\\python\\python38\\lib\\site-packages\\scipy\\spatial\\distance.py\", line 2242, in pdist\n    return pdist_fn(X, out=out, **kwargs)\nnumpy.core._exceptions._ArrayMemoryError: Unable to allocate 2.56 TiB for an array with shape (351850180146,) and data type float64\n\n--------------------------------------------------------------------------------\n9 fits failed with the following error:\nTraceback (most recent call last):\n  File \"c:\\users\\ryanc\\appdata\\local\\programs\\python\\python38\\lib\\site-packages\\sklearn\\model_selection\\_validation.py\", line 727, in _fit_and_score\n    estimator.fit(X_train, **fit_params)\n  File \"c:\\users\\ryanc\\appdata\\local\\programs\\python\\python38\\lib\\site-packages\\sklearn\\base.py\", line 1152, in wrapper\n    return fit_method(estimator, *args, **kwargs)\n  File \"c:\\users\\ryanc\\appdata\\local\\programs\\python\\python38\\lib\\site-packages\\sklearn\\cluster\\_agglomerative.py\", line 979, in fit\n    return self._fit(X)\n  File \"c:\\users\\ryanc\\appdata\\local\\programs\\python\\python38\\lib\\site-packages\\sklearn\\cluster\\_agglomerative.py\", line 1071, in _fit\n    out = memory.cache(tree_builder)(\n  File \"c:\\users\\ryanc\\appdata\\local\\programs\\python\\python38\\lib\\site-packages\\joblib\\memory.py\", line 353, in __call__\n    return self.func(*args, **kwargs)\n  File \"c:\\users\\ryanc\\appdata\\local\\programs\\python\\python38\\lib\\site-packages\\sklearn\\cluster\\_agglomerative.py\", line 688, in _complete_linkage\n    return linkage_tree(*args, **kwargs)\n  File \"c:\\users\\ryanc\\appdata\\local\\programs\\python\\python38\\lib\\site-packages\\sklearn\\cluster\\_agglomerative.py\", line 567, in linkage_tree\n    out = hierarchy.linkage(X, method=linkage, metric=affinity)\n  File \"c:\\users\\ryanc\\appdata\\local\\programs\\python\\python38\\lib\\site-packages\\scipy\\cluster\\hierarchy.py\", line 1060, in linkage\n    y = distance.pdist(y, metric)\n  File \"c:\\users\\ryanc\\appdata\\local\\programs\\python\\python38\\lib\\site-packages\\scipy\\spatial\\distance.py\", line 2242, in pdist\n    return pdist_fn(X, out=out, **kwargs)\nnumpy.core._exceptions._ArrayMemoryError: Unable to allocate 2.56 TiB for an array with shape (351851019015,) and data type float64\n"
     ]
    }
   ],
   "source": [
    "# Convert reduced_data to CSR format\n",
    "reduced_data_csr = csr_matrix(reduced_data)\n",
    "\n",
    "# dense\n",
    "reduced_data_dense = reduced_data_csr.toarray()\n",
    "\n",
    "# Create a random projection object with the desired number of components\n",
    "rp = GaussianRandomProjection(n_components=2)\n",
    "\n",
    "# Fit and transform the data\n",
    "reduced_data_rp = rp.fit_transform(reduced_data_dense)\n",
    "\n",
    "# Define the hyperparameter tuning space\n",
    "param_grid = {\n",
    "    'n_clusters': [5, 10, 15],\n",
    "    'affinity': ['euclidean'],\n",
    "    'linkage': ['ward', 'complete']\n",
    "}\n",
    "\n",
    "# Perform grid search with nested cross-validation\n",
    "grid_search = GridSearchCV(AgglomerativeClustering(), param_grid, cv=5, scoring=make_scorer(davies_bouldin_score))\n",
    "grid_search.fit(reduced_data_rp)\n",
    "\n",
    "# Print the best hyperparameters and score\n",
    "print(\"Best hyperparameters:\", grid_search.best_params_)\n",
    "print(\"Best score:\", grid_search.best_score_)"
   ]
  },
  {
   "cell_type": "code",
   "execution_count": 9,
   "id": "30311149-513e-4f57-a7be-0ccba062ee38",
   "metadata": {},
   "outputs": [],
   "source": [
    "# # Define the hyperparameter tuning space\n",
    "# param_grid = {\n",
    "#     'n_clusters': [5, 10, 15],\n",
    "#     'affinity': ['euclidean', 'manhattan'],\n",
    "#     'linkage': ['ward', 'complete']\n",
    "# }\n",
    "\n",
    "# # Perform grid search with nested cross-validation\n",
    "# grid_search = GridSearchCV(AgglomerativeClustering(), param_grid, cv=5, scoring=make_scorer(davies_bouldin_score))\n",
    "# grid_search.fit(reduced_data)\n",
    "\n",
    "# # Print the best hyperparameters and score\n",
    "# print(\"Best hyperparameters:\", grid_search.best_params_)\n",
    "# print(\"Best score:\", grid_search.best_score_)"
   ]
  },
  {
   "cell_type": "code",
   "execution_count": null,
   "id": "ec441796-cfbf-43e9-963e-9721b1a3d393",
   "metadata": {},
   "outputs": [],
   "source": []
  }
 ],
 "metadata": {
  "kernelspec": {
   "display_name": "Python 3 (ipykernel)",
   "language": "python",
   "name": "python3"
  },
  "language_info": {
   "codemirror_mode": {
    "name": "ipython",
    "version": 3
   },
   "file_extension": ".py",
   "mimetype": "text/x-python",
   "name": "python",
   "nbconvert_exporter": "python",
   "pygments_lexer": "ipython3",
   "version": "3.8.5"
  }
 },
 "nbformat": 4,
 "nbformat_minor": 5
}
